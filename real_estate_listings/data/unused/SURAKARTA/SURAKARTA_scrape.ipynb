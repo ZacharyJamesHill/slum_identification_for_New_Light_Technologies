{
 "cells": [
  {
   "cell_type": "code",
   "execution_count": 20,
   "metadata": {},
   "outputs": [],
   "source": [
    "import time\n",
    "import numpy as np\n",
    "import pandas as pd\n",
    "from selenium import webdriver\n",
    "from selenium.webdriver.common.keys import Keys \n",
    "from selenium.webdriver.chrome.options import Options"
   ]
  },
  {
   "cell_type": "code",
   "execution_count": null,
   "metadata": {},
   "outputs": [],
   "source": [
    "# scrape list of user agents\n",
    "driver = webdriver.Chrome()\n",
    "user_agents = []\n",
    "for page in range(1,11):\n",
    "    url = 'https://developers.whatismybrowser.com/useragents/explore/software_name/chrome/'+f'{page}'\n",
    "    driver.get(url)\n",
    "    time.sleep(1)\n",
    "    table = driver.find_element_by_class_name('table-useragents')\n",
    "    user_agents += [u_a.text for u_a in table.find_elements_by_tag_name('a')]\n",
    "driver.quit()\n",
    "pd.DataFrame(user_agents).to_csv('user_agents.csv', index=False)"
   ]
  },
  {
   "cell_type": "code",
   "execution_count": 14,
   "metadata": {},
   "outputs": [
    {
     "data": {
      "text/plain": [
       "['Mozilla/5.0 (Windows NT 10.0; Win64; x64) AppleWebKit/537.36 (KHTML, like Gecko) Chrome/74.0.3729.169 Safari/537.36',\n",
       " 'Mozilla/5.0 (Windows NT 10.0; WOW64) AppleWebKit/537.36 (KHTML, like Gecko) Chrome/72.0.3626.121 Safari/537.36',\n",
       " 'Mozilla/5.0 (Windows NT 10.0; Win64; x64) AppleWebKit/537.36 (KHTML, like Gecko) Chrome/74.0.3729.157 Safari/537.36']"
      ]
     },
     "execution_count": 14,
     "metadata": {},
     "output_type": "execute_result"
    }
   ],
   "source": [
    "# read in user agents (pre-scraped)\n",
    "user_agents = list(pd.read_csv('user_agents.csv')['0'].values)\n",
    "user_agents[:3]"
   ]
  },
  {
   "cell_type": "markdown",
   "metadata": {},
   "source": [
    "### Define functions:"
   ]
  },
  {
   "cell_type": "code",
   "execution_count": 15,
   "metadata": {},
   "outputs": [],
   "source": [
    "def autoSave(html):\n",
    "    save_time = time.strftime(\"_%H_%M\", time.localtime(time.time()))\n",
    "    text_file = open(f\"HTML_autosave{save_time}.txt\", \"w\")\n",
    "    n = text_file.write(html)\n",
    "    text_file.close()"
   ]
  },
  {
   "cell_type": "code",
   "execution_count": 23,
   "metadata": {},
   "outputs": [
    {
     "name": "stdout",
     "output_type": "stream",
     "text": [
      "html len: 0\n"
     ]
    }
   ],
   "source": [
    "html = ''\n",
    "\n",
    "opts = Options()\n",
    "driver = webdriver.Chrome(options=opts)\n",
    "\n",
    "for i in range(45, 46):\n",
    "    time.sleep(2)\n",
    "    if i%5==0: print(f'html len: {len(html)}')\n",
    "    driver.quit()\n",
    "    agent = np.random.choice(user_agents)\n",
    "    opts.add_argument(f\"user-agent={agent}\")\n",
    "    driver = webdriver.Chrome(options=opts)\n",
    "    driver.set_window_size(300, 700)\n",
    "    \n",
    "    url = f'https://www.realestate.com.au/international/id/surakarta-jawa-tengah/p{i}/'\n",
    "    driver.get(url)\n",
    "    driver.find_element_by_tag_name('body').send_keys(Keys.END)\n",
    "    time.sleep(3)\n",
    "    html = ' '.join([html, driver.page_source])\n",
    "    \n",
    "    if i%50==0: autoSave(html)"
   ]
  },
  {
   "cell_type": "code",
   "execution_count": 12,
   "metadata": {},
   "outputs": [],
   "source": [
    "autoSave(html)"
   ]
  },
  {
   "cell_type": "code",
   "execution_count": 6,
   "metadata": {},
   "outputs": [
    {
     "data": {
      "text/plain": [
       "186963"
      ]
     },
     "execution_count": 6,
     "metadata": {},
     "output_type": "execute_result"
    }
   ],
   "source": [
    "opts = Options()\n",
    "agent = np.random.choice(user_agents)\n",
    "opts.add_argument(f\"user-agent={agent}\")\n",
    "\n",
    "driver = webdriver.Chrome(options=opts)\n",
    "driver.set_window_size(300, 700)\n",
    "\n",
    "url = f'https://www.realestate.com.au/international/id/surakarta-jawa-tengah/p2/'\n",
    "driver.get(url)\n",
    "\n",
    "source_1 = driver.page_source\n",
    "len(source_1)"
   ]
  },
  {
   "cell_type": "code",
   "execution_count": 7,
   "metadata": {},
   "outputs": [
    {
     "data": {
      "text/plain": [
       "187564"
      ]
     },
     "execution_count": 7,
     "metadata": {},
     "output_type": "execute_result"
    }
   ],
   "source": [
    "opts = Options()\n",
    "agent = np.random.choice(user_agents)\n",
    "opts.add_argument(f\"user-agent={agent}\")\n",
    "\n",
    "driver = webdriver.Chrome(options=opts)\n",
    "driver.set_window_size(300, 700)\n",
    "\n",
    "url = f'https://www.realestate.com.au/international/id/surakarta-jawa-tengah/p3/'\n",
    "driver.get(url)\n",
    "\n",
    "source_2 = driver.page_source\n",
    "len(source_2)"
   ]
  },
  {
   "cell_type": "code",
   "execution_count": 9,
   "metadata": {},
   "outputs": [
    {
     "data": {
      "text/plain": [
       "374528"
      ]
     },
     "execution_count": 9,
     "metadata": {},
     "output_type": "execute_result"
    }
   ],
   "source": [
    "len(' '.join([source_1, source_2]))"
   ]
  },
  {
   "cell_type": "code",
   "execution_count": null,
   "metadata": {},
   "outputs": [],
   "source": []
  }
 ],
 "metadata": {
  "kernelspec": {
   "display_name": "Python 3",
   "language": "python",
   "name": "python3"
  },
  "language_info": {
   "codemirror_mode": {
    "name": "ipython",
    "version": 3
   },
   "file_extension": ".py",
   "mimetype": "text/x-python",
   "name": "python",
   "nbconvert_exporter": "python",
   "pygments_lexer": "ipython3",
   "version": "3.7.4"
  }
 },
 "nbformat": 4,
 "nbformat_minor": 2
}
