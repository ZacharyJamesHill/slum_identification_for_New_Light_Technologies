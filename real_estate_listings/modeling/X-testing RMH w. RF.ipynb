{
 "cells": [
  {
   "cell_type": "code",
   "execution_count": 5,
   "metadata": {},
   "outputs": [],
   "source": [
    "import numpy as np\n",
    "import pandas as pd\n",
    "import matplotlib.pyplot as plt"
   ]
  },
  {
   "cell_type": "code",
   "execution_count": 7,
   "metadata": {},
   "outputs": [],
   "source": [
    "rio = pd.read_csv('models/classified_rio.csv').rename(columns={'r$_pmo':'price'})\n",
    "rio.drop(columns='Unnamed: 0', inplace=True)\n",
    "mumbai = pd.read_csv('models/classified_mumbai.csv')\n",
    "mumbai.drop(columns='Unnamed: 0', inplace=True)\n",
    "hyderabad = pd.read_csv('models/classified_hyderabad.csv')\n",
    "hyderabad.drop(columns='Unnamed: 0', inplace=True)"
   ]
  },
  {
   "cell_type": "code",
   "execution_count": 24,
   "metadata": {},
   "outputs": [
    {
     "data": {
      "image/png": "[encoded data removed]",
      "text/plain": [
       "<Figure size 432x288 with 1 Axes>"
      ]
     },
     "metadata": {
      "needs_background": "light"
     },
     "output_type": "display_data"
    }
   ],
   "source": [
    "rio['price'].apply(np.log).hist(bins=30)\n",
    "mumbai['price'].apply(np.log).hist(bins=30)\n",
    "hyderabad['price'].apply(np.log).hist(bins=30);"
   ]
  },
  {
   "cell_type": "code",
   "execution_count": 11,
   "metadata": {},
   "outputs": [],
   "source": [
    "def bootstrap(df):\n",
    "    print(df.isna().sum().sum(), 'nans dropped')\n",
    "    df.dropna(inplace=True)\n",
    "    out = pd.concat([df, df[df['class'] == 1].sample(\n",
    "                     df['class'].value_counts()[0] - df['class'].value_counts()[1],\n",
    "                     replace = True)]).reset_index().drop(columns='index')\n",
    "    print(len(out)-len(df), 'rows added')\n",
    "    return out"
   ]
  },
  {
   "cell_type": "code",
   "execution_count": 18,
   "metadata": {},
   "outputs": [
    {
     "name": "stdout",
     "output_type": "stream",
     "text": [
      "0 nans dropped\n",
      "0 rows added\n",
      "0 nans dropped\n",
      "0 rows added\n",
      "0 nans dropped\n",
      "0 rows added\n"
     ]
    }
   ],
   "source": [
    "rio_boot = bootstrap(rio)\n",
    "mumbai_boot = bootstrap(mumbai)\n",
    "hyderabad_boot = bootstrap(hyderabad)"
   ]
  },
  {
   "cell_type": "markdown",
   "metadata": {},
   "source": [
    "## modeling"
   ]
  },
  {
   "cell_type": "code",
   "execution_count": 15,
   "metadata": {},
   "outputs": [],
   "source": [
    "from sklearn.ensemble import RandomForestClassifier\n",
    "from sklearn.model_selection import train_test_split\n",
    "from sklearn.preprocessing import normalize"
   ]
  },
  {
   "cell_type": "code",
   "execution_count": 16,
   "metadata": {},
   "outputs": [],
   "source": [
    "def xcity_pred(train, test):\n",
    "    \n",
    "    \n",
    "    if train.equals(test):\n",
    "        x = train[['price']]\n",
    "        y = train['class']\n",
    "        x_train, x_test, y_train, y_test = train_test_split(x, y, )\n",
    "    else:\n",
    "        x_train = train[['price']]\n",
    "        y_train = train['class']\n",
    "        x_test = test[['price']]\n",
    "        y_test = test['class']\n",
    "        \n",
    "    \n",
    "    rf = RandomForestClassifier(n_estimators=10)\n",
    "    rf.fit(x_train, y_train)\n",
    "    print('train:', rf.score(x_train, y_train), '| test:', rf.score(x_test, y_test))\n",
    "    "
   ]
  },
  {
   "cell_type": "code",
   "execution_count": 17,
   "metadata": {},
   "outputs": [
    {
     "name": "stdout",
     "output_type": "stream",
     "text": [
      "train: rio | test: rio\n",
      "train: 0.7327902707664066 | test: 0.7105987611837578\n",
      "\n",
      "train: rio | test: mumbai\n",
      "train: 0.7286181380141111 | test: 0.4997651379280895\n",
      "\n",
      "train: rio | test: hyderabad\n",
      "train: 0.7281879194630873 | test: 0.5\n",
      "\n",
      "train: mumbai | test: rio\n",
      "train: 0.8567768383294901 | test: 0.49414902770607466\n",
      "\n",
      "train: mumbai | test: mumbai\n",
      "train: 0.8574031371879182 | test: 0.83995217354172\n",
      "\n",
      "train: mumbai | test: hyderabad\n",
      "train: 0.8566914339397045 | test: 0.4066225165562914\n",
      "\n",
      "train: hyderabad | test: rio\n",
      "train: 0.7072847682119205 | test: 0.4755635863018413\n",
      "\n",
      "train: hyderabad | test: mumbai\n",
      "train: 0.7072847682119205 | test: 0.48889742932786745\n",
      "\n",
      "train: hyderabad | test: hyderabad\n",
      "train: 0.7041942604856513 | test: 0.7033112582781457\n",
      "\n"
     ]
    }
   ],
   "source": [
    "cities = {'rio': rio, 'mumbai': mumbai, 'hyderabad': hyderabad}\n",
    "\n",
    "for train_name, train_df in cities.items():\n",
    "    for test_name, test_df in cities.items():\n",
    "        print(f'train: {train_name} | test: {test_name}')\n",
    "        xcity_pred(train_df, test_df)\n",
    "        print('')"
   ]
  },
  {
   "cell_type": "code",
   "execution_count": null,
   "metadata": {},
   "outputs": [],
   "source": []
  }
 ],
 "metadata": {
  "kernelspec": {
   "display_name": "Python 3",
   "language": "python",
   "name": "python3"
  },
  "language_info": {
   "codemirror_mode": {
    "name": "ipython",
    "version": 3
   },
   "file_extension": ".py",
   "mimetype": "text/x-python",
   "name": "python",
   "nbconvert_exporter": "python",
   "pygments_lexer": "ipython3",
   "version": "3.7.5"
  }
 },
 "nbformat": 4,
 "nbformat_minor": 2
}
