{
 "cells": [
  {
   "cell_type": "code",
   "execution_count": 19,
   "metadata": {},
   "outputs": [],
   "source": [
    "from bs4 import BeautifulSoup\n",
    "import pandas as pd\n",
    "import os"
   ]
  },
  {
   "cell_type": "code",
   "execution_count": 3,
   "metadata": {},
   "outputs": [
    {
     "data": {
      "text/plain": [
       "37389568"
      ]
     },
     "execution_count": 3,
     "metadata": {},
     "output_type": "execute_result"
    }
   ],
   "source": [
    "os.stat('../autosaves/realestate.com.au-surakarta.txt').st_size # 37 mb"
   ]
  },
  {
   "cell_type": "code",
   "execution_count": 2,
   "metadata": {},
   "outputs": [],
   "source": [
    "def data_to_df(data):\n",
    "    soup = BeautifulSoup(data, 'lxml')\n",
    "    df = pd.DataFrame()\n",
    "    failed = 0\n",
    "    for listing in soup.find_all('div', {\"class\":\"lst-dtls\"}):\n",
    "        try:\n",
    "            new_row = {'title': listing.find('a', {\"class\":\"lst-title\"}).text,\n",
    "                       'location': listing.find('div', {\"class\":\"lst-loct\"}).text,\n",
    "                       'price': listing.find('span', {\"class\":\"lst-price\"}).text} # thank you poke lab :')\n",
    "            more_cols = [t.text for t in listing.find_all('div', {'class':'lst-sub-title'})]\n",
    "            more_vals = [v.text for v in listing.find_all('div', {'class':'lst-sub-value'})]\n",
    "            new_row.update({col:val for col, val in zip(more_cols, more_vals)})\n",
    "            df = df.append(new_row, ignore_index=True)\n",
    "        except:\n",
    "            failed +=1\n",
    "    print(f'{len(df)-failed} rows converted successfully\\n({failed} listings could not be converted)')\n",
    "    return df"
   ]
  },
  {
   "cell_type": "markdown",
   "metadata": {},
   "source": [
    "---\n",
    "# Surakarta\n",
    "### data from realestate.com:"
   ]
  },
  {
   "cell_type": "code",
   "execution_count": 49,
   "metadata": {},
   "outputs": [
    {
     "data": {
      "text/plain": [
       "200"
      ]
     },
     "execution_count": 49,
     "metadata": {},
     "output_type": "execute_result"
    }
   ],
   "source": [
    "with open('../autosaves/realestate.com.au-surakarta.txt') as d:\n",
    "    data = [page+'/html>' for page in d.read().split('/html>')[:-1]]\n",
    "len(data)"
   ]
  },
  {
   "cell_type": "code",
   "execution_count": 63,
   "metadata": {},
   "outputs": [
    {
     "name": "stdout",
     "output_type": "stream",
     "text": [
      "price: IDR Rp1,500,000,000\n",
      "location: Surakarta, Jawa Tengah\n",
      "\n",
      "price: IDR Rp1,300,000,000\n",
      "location: Surakarta, Jawa Tengah\n",
      "\n",
      "price: IDR Rp1,200,000,000\n",
      "location: Surakarta, Jawa Tengah\n",
      "\n",
      "price: IDR Rp1,000,000,000\n",
      "location: Banyuanyar, Surakarta, Jawa Tengah\n",
      "\n",
      "price: IDR Rp1,300,000,000\n",
      "location: Surakarta, Jawa Tengah\n",
      "\n",
      "price: IDR Rp1,200,000,000\n",
      "location: Danukusuman, Surakarta, Jawa Tengah\n",
      "\n",
      "price: IDR Rp1,300,000,000\n",
      "location: Surakarta, Jawa Tengah\n",
      "\n",
      "price: IDR Rp1,200,000,000\n",
      "location: Surakarta, Jawa Tengah\n",
      "\n",
      "price: IDR Rp950,000,000\n",
      "location: Surakarta, Jawa Tengah\n",
      "\n",
      "price: IDR Rp1,200,000,000\n",
      "location: Surakarta, Jawa Tengah\n",
      "\n"
     ]
    }
   ],
   "source": [
    "soup = BeautifulSoup(data[0])\n",
    "listings = soup.find('div', {'class':'listings-list'})\n",
    "for listing in listings.find_all('div', {'class':'basic-info'}):\n",
    "    print('price:', listing.find('p', {'class':'listing-price'}).text.strip())\n",
    "    print('location:', listing.find('address').text.strip())\n",
    "    print('')\n"
   ]
  },
  {
   "cell_type": "code",
   "execution_count": 41,
   "metadata": {},
   "outputs": [
    {
     "data": {
      "text/plain": [
       "1"
      ]
     },
     "execution_count": 41,
     "metadata": {},
     "output_type": "execute_result"
    }
   ],
   "source": [
    "soup = BeautifulSoup(data[0])\n",
    "listings = soup.find_all('div', {'class':'listings-wrapper'})\n",
    "len(listings)"
   ]
  },
  {
   "cell_type": "code",
   "execution_count": null,
   "metadata": {},
   "outputs": [],
   "source": []
  }
 ],
 "metadata": {
  "kernelspec": {
   "display_name": "Python 3",
   "language": "python",
   "name": "python3"
  },
  "language_info": {
   "codemirror_mode": {
    "name": "ipython",
    "version": 3
   },
   "file_extension": ".py",
   "mimetype": "text/x-python",
   "name": "python",
   "nbconvert_exporter": "python",
   "pygments_lexer": "ipython3",
   "version": "3.7.5"
  }
 },
 "nbformat": 4,
 "nbformat_minor": 2
}
