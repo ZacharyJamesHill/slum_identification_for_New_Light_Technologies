{
 "cells": [
  {
   "cell_type": "markdown",
   "metadata": {},
   "source": [
    "# Introduction\n",
    "Processing of datasets in/around Rio de Janeiro"
   ]
  },
  {
   "cell_type": "markdown",
   "metadata": {},
   "source": [
    "### Imports\n",
    "Import libraries and write settings here."
   ]
  },
  {
   "cell_type": "code",
   "execution_count": 1,
   "metadata": {
    "ExecuteTime": {
     "end_time": "2020-02-20T02:46:31.745366Z",
     "start_time": "2020-02-20T02:46:30.966360Z"
    }
   },
   "outputs": [],
   "source": [
    "#import os\n",
    "\n",
    "# Data manipulation\n",
    "import pandas as pd\n",
    "import numpy as np\n",
    "import regex as re\n",
    "\n",
    "# Options for pandas\n",
    "pd.options.display.max_columns = 50\n",
    "pd.options.display.max_rows = 30\n",
    "\n",
    "# Display all cell outputs\n",
    "from IPython.core.interactiveshell import InteractiveShell\n",
    "InteractiveShell.ast_node_interactivity = 'all'\n",
    "\n",
    "from IPython import get_ipython\n",
    "ipython = get_ipython()\n",
    "\n",
    "# autoreload extension\n",
    "if 'autoreload' not in ipython.extension_manager.loaded:\n",
    "    %load_ext autoreload\n",
    "\n",
    "%autoreload 2"
   ]
  },
  {
   "cell_type": "markdown",
   "metadata": {},
   "source": [
    "<img src=\"../../../images/zapimoveis-sample.jpg\" alt=\"Sample listing from the zapmoveis (BR) page\" height=\"369\" width=\"684\"/>"
   ]
  },
  {
   "cell_type": "markdown",
   "metadata": {},
   "source": [
    "# Data Imports\n",
    "- Let **rio1_df** be data from [ZAPIMOVEIS - Rio de Janeiro - BR](http://bit.ly/37ovyXb)\n",
    "    - **R\\$** is the Brazilian real.\n",
    "    - **IPTU** is a municipal tax charged over the property of urban real estate."
   ]
  },
  {
   "cell_type": "code",
   "execution_count": 2,
   "metadata": {
    "ExecuteTime": {
     "end_time": "2020-02-20T02:46:35.350624Z",
     "start_time": "2020-02-20T02:46:35.331222Z"
    }
   },
   "outputs": [],
   "source": [
    "rio1_df = pd.read_csv('./data.csv', header='infer')"
   ]
  },
  {
   "cell_type": "code",
   "execution_count": 3,
   "metadata": {
    "ExecuteTime": {
     "end_time": "2020-02-20T02:46:36.136135Z",
     "start_time": "2020-02-20T02:46:36.127671Z"
    }
   },
   "outputs": [
    {
     "data": {
      "text/plain": [
       "(7680, 10)"
      ]
     },
     "execution_count": 3,
     "metadata": {},
     "output_type": "execute_result"
    }
   ],
   "source": [
    "rio1_df.shape"
   ]
  },
  {
   "cell_type": "code",
   "execution_count": 4,
   "metadata": {
    "ExecuteTime": {
     "end_time": "2020-02-20T02:46:37.607303Z",
     "start_time": "2020-02-20T02:46:37.603113Z"
    }
   },
   "outputs": [
    {
     "name": "stdout",
     "output_type": "stream",
     "text": [
      "Index(['Unnamed: 0', 'address', 'areas', 'bathrooms', 'bedrooms',\n",
      "       'parking-spaces', 'price', 'price-item-0', 'price-item-1',\n",
      "       'Unnamed: 9'],\n",
      "      dtype='object')\n"
     ]
    }
   ],
   "source": [
    "print(rio1_df.columns)"
   ]
  },
  {
   "cell_type": "code",
   "execution_count": 5,
   "metadata": {
    "ExecuteTime": {
     "end_time": "2020-02-20T02:46:39.670642Z",
     "start_time": "2020-02-20T02:46:39.650159Z"
    }
   },
   "outputs": [
    {
     "data": {
      "text/html": [
       "<div>\n",
       "<style scoped>\n",
       "    .dataframe tbody tr th:only-of-type {\n",
       "        vertical-align: middle;\n",
       "    }\n",
       "\n",
       "    .dataframe tbody tr th {\n",
       "        vertical-align: top;\n",
       "    }\n",
       "\n",
       "    .dataframe thead th {\n",
       "        text-align: right;\n",
       "    }\n",
       "</style>\n",
       "<table border=\"1\" class=\"dataframe\">\n",
       "  <thead>\n",
       "    <tr style=\"text-align: right;\">\n",
       "      <th></th>\n",
       "      <th>Unnamed: 0</th>\n",
       "      <th>address</th>\n",
       "      <th>areas</th>\n",
       "      <th>bathrooms</th>\n",
       "      <th>bedrooms</th>\n",
       "      <th>parking-spaces</th>\n",
       "      <th>price</th>\n",
       "      <th>price-item-0</th>\n",
       "      <th>price-item-1</th>\n",
       "      <th>Unnamed: 9</th>\n",
       "    </tr>\n",
       "  </thead>\n",
       "  <tbody>\n",
       "    <tr>\n",
       "      <th>0</th>\n",
       "      <td>0</td>\n",
       "      <td>Rua João Barros Moreira, Recreio dos Bandeirantes</td>\n",
       "      <td>450 m²</td>\n",
       "      <td>7.0</td>\n",
       "      <td>4.0</td>\n",
       "      <td>3.0</td>\n",
       "      <td>R$ 5.000 /mês</td>\n",
       "      <td>condomínio R$ 1.242</td>\n",
       "      <td>IPTU R$ 481</td>\n",
       "      <td>NaN</td>\n",
       "    </tr>\n",
       "    <tr>\n",
       "      <th>1</th>\n",
       "      <td>1</td>\n",
       "      <td>Rua João Pinheiro, Piedade</td>\n",
       "      <td>56 m²</td>\n",
       "      <td>2.0</td>\n",
       "      <td>2.0</td>\n",
       "      <td>1.0</td>\n",
       "      <td>R$ 1.300 /mês</td>\n",
       "      <td>condomínio R$ 460</td>\n",
       "      <td>IPTU R$ 60</td>\n",
       "      <td>NaN</td>\n",
       "    </tr>\n",
       "    <tr>\n",
       "      <th>2</th>\n",
       "      <td>2</td>\n",
       "      <td>Estrada dos Bandeirantes, Jacarepaguá</td>\n",
       "      <td>61 m²</td>\n",
       "      <td>2.0</td>\n",
       "      <td>2.0</td>\n",
       "      <td>1.0</td>\n",
       "      <td>R$ 1.380 /mês</td>\n",
       "      <td>condomínio R$ 600</td>\n",
       "      <td>IPTU R$ 89</td>\n",
       "      <td>NaN</td>\n",
       "    </tr>\n",
       "    <tr>\n",
       "      <th>3</th>\n",
       "      <td>3</td>\n",
       "      <td>Rua Mário Covas Júnior, Barra da Tijuca</td>\n",
       "      <td>97 m²</td>\n",
       "      <td>3.0</td>\n",
       "      <td>2.0</td>\n",
       "      <td>1.0</td>\n",
       "      <td>R$ 2.950 /mês</td>\n",
       "      <td>condomínio R$ 852</td>\n",
       "      <td>IPTU R$ 315</td>\n",
       "      <td>NaN</td>\n",
       "    </tr>\n",
       "    <tr>\n",
       "      <th>4</th>\n",
       "      <td>4</td>\n",
       "      <td>Rua Coronel Paulo Malta Rezende, Barra da Tijuca</td>\n",
       "      <td>65 m²</td>\n",
       "      <td>2.0</td>\n",
       "      <td>2.0</td>\n",
       "      <td>1.0</td>\n",
       "      <td>R$ 2.400 /mês</td>\n",
       "      <td>condomínio R$ 809</td>\n",
       "      <td>IPTU R$ 218</td>\n",
       "      <td>NaN</td>\n",
       "    </tr>\n",
       "    <tr>\n",
       "      <th>...</th>\n",
       "      <td>...</td>\n",
       "      <td>...</td>\n",
       "      <td>...</td>\n",
       "      <td>...</td>\n",
       "      <td>...</td>\n",
       "      <td>...</td>\n",
       "      <td>...</td>\n",
       "      <td>...</td>\n",
       "      <td>...</td>\n",
       "      <td>...</td>\n",
       "    </tr>\n",
       "    <tr>\n",
       "      <th>7675</th>\n",
       "      <td>29</td>\n",
       "      <td>Rua Professor Manuel Ferreira, Gávea</td>\n",
       "      <td>85 m²</td>\n",
       "      <td>2.0</td>\n",
       "      <td>2.0</td>\n",
       "      <td>1.0</td>\n",
       "      <td>R$ 3.500 /mês</td>\n",
       "      <td>condomínio R$ 990</td>\n",
       "      <td>IPTU R$ 306</td>\n",
       "      <td>NaN</td>\n",
       "    </tr>\n",
       "    <tr>\n",
       "      <th>7676</th>\n",
       "      <td>30</td>\n",
       "      <td>Rua General Urquiza, Leblon</td>\n",
       "      <td>57 m²</td>\n",
       "      <td>1.0</td>\n",
       "      <td>2.0</td>\n",
       "      <td>1.0</td>\n",
       "      <td>R$ 3.300 /mês</td>\n",
       "      <td>condomínio R$ 1.000</td>\n",
       "      <td>IPTU R$ 270</td>\n",
       "      <td>NaN</td>\n",
       "    </tr>\n",
       "    <tr>\n",
       "      <th>7677</th>\n",
       "      <td>32</td>\n",
       "      <td>Avenida Lúcio Costa, Barra da Tijuca</td>\n",
       "      <td>290 m²</td>\n",
       "      <td>5.0</td>\n",
       "      <td>4.0</td>\n",
       "      <td>3.0</td>\n",
       "      <td>R$ 18.000 /mês</td>\n",
       "      <td>condomínio R$ 5.400</td>\n",
       "      <td>IPTU R$ 2.600</td>\n",
       "      <td>NaN</td>\n",
       "    </tr>\n",
       "    <tr>\n",
       "      <th>7678</th>\n",
       "      <td>33</td>\n",
       "      <td>Rua Santa Alexandrina, Rio Comprido</td>\n",
       "      <td>58 m²</td>\n",
       "      <td>1.0</td>\n",
       "      <td>1.0</td>\n",
       "      <td>NaN</td>\n",
       "      <td>R$ 1.200 /mês</td>\n",
       "      <td>condomínio R$ 566</td>\n",
       "      <td>IPTU R$ 15</td>\n",
       "      <td>NaN</td>\n",
       "    </tr>\n",
       "    <tr>\n",
       "      <th>7679</th>\n",
       "      <td>34</td>\n",
       "      <td>Boulevard Vinte e Oito de Setembro, Vila Isabel</td>\n",
       "      <td>110 m²</td>\n",
       "      <td>2.0</td>\n",
       "      <td>3.0</td>\n",
       "      <td>NaN</td>\n",
       "      <td>R$ 1.900 /mês</td>\n",
       "      <td>condomínio R$ 998</td>\n",
       "      <td>IPTU R$ 1.400</td>\n",
       "      <td>NaN</td>\n",
       "    </tr>\n",
       "  </tbody>\n",
       "</table>\n",
       "<p>7680 rows × 10 columns</p>\n",
       "</div>"
      ],
      "text/plain": [
       "      Unnamed: 0                                            address   areas  \\\n",
       "0              0  Rua João Barros Moreira, Recreio dos Bandeirantes  450 m²   \n",
       "1              1                         Rua João Pinheiro, Piedade   56 m²   \n",
       "2              2              Estrada dos Bandeirantes, Jacarepaguá   61 m²   \n",
       "3              3            Rua Mário Covas Júnior, Barra da Tijuca   97 m²   \n",
       "4              4   Rua Coronel Paulo Malta Rezende, Barra da Tijuca   65 m²   \n",
       "...          ...                                                ...     ...   \n",
       "7675          29               Rua Professor Manuel Ferreira, Gávea   85 m²   \n",
       "7676          30                        Rua General Urquiza, Leblon   57 m²   \n",
       "7677          32               Avenida Lúcio Costa, Barra da Tijuca  290 m²   \n",
       "7678          33                Rua Santa Alexandrina, Rio Comprido   58 m²   \n",
       "7679          34    Boulevard Vinte e Oito de Setembro, Vila Isabel  110 m²   \n",
       "\n",
       "      bathrooms  bedrooms  parking-spaces           price  \\\n",
       "0           7.0       4.0             3.0   R$ 5.000 /mês   \n",
       "1           2.0       2.0             1.0   R$ 1.300 /mês   \n",
       "2           2.0       2.0             1.0   R$ 1.380 /mês   \n",
       "3           3.0       2.0             1.0   R$ 2.950 /mês   \n",
       "4           2.0       2.0             1.0   R$ 2.400 /mês   \n",
       "...         ...       ...             ...             ...   \n",
       "7675        2.0       2.0             1.0   R$ 3.500 /mês   \n",
       "7676        1.0       2.0             1.0   R$ 3.300 /mês   \n",
       "7677        5.0       4.0             3.0  R$ 18.000 /mês   \n",
       "7678        1.0       1.0             NaN   R$ 1.200 /mês   \n",
       "7679        2.0       3.0             NaN   R$ 1.900 /mês   \n",
       "\n",
       "             price-item-0   price-item-1 Unnamed: 9  \n",
       "0     condomínio R$ 1.242    IPTU R$ 481        NaN  \n",
       "1       condomínio R$ 460     IPTU R$ 60        NaN  \n",
       "2       condomínio R$ 600     IPTU R$ 89        NaN  \n",
       "3       condomínio R$ 852    IPTU R$ 315        NaN  \n",
       "4       condomínio R$ 809    IPTU R$ 218        NaN  \n",
       "...                   ...            ...        ...  \n",
       "7675    condomínio R$ 990    IPTU R$ 306        NaN  \n",
       "7676  condomínio R$ 1.000    IPTU R$ 270        NaN  \n",
       "7677  condomínio R$ 5.400  IPTU R$ 2.600        NaN  \n",
       "7678    condomínio R$ 566     IPTU R$ 15        NaN  \n",
       "7679    condomínio R$ 998  IPTU R$ 1.400        NaN  \n",
       "\n",
       "[7680 rows x 10 columns]"
      ]
     },
     "execution_count": 5,
     "metadata": {},
     "output_type": "execute_result"
    }
   ],
   "source": [
    "# Check\n",
    "rio1_df"
   ]
  },
  {
   "cell_type": "code",
   "execution_count": 6,
   "metadata": {
    "ExecuteTime": {
     "end_time": "2020-02-20T02:46:48.892688Z",
     "start_time": "2020-02-20T02:46:48.887489Z"
    }
   },
   "outputs": [],
   "source": [
    "# Drop unnecessary index column in Rio1 CSV\n",
    "rio1_df.drop(columns=['Unnamed: 0'], inplace=True)"
   ]
  },
  {
   "cell_type": "code",
   "execution_count": 7,
   "metadata": {
    "ExecuteTime": {
     "end_time": "2020-02-20T02:46:49.814993Z",
     "start_time": "2020-02-20T02:46:49.798371Z"
    }
   },
   "outputs": [
    {
     "data": {
      "text/plain": [
       "address            0.00\n",
       "areas             11.41\n",
       "bathrooms         19.26\n",
       "bedrooms           0.10\n",
       "parking-spaces    35.13\n",
       "price              0.00\n",
       "price-item-0       2.94\n",
       "price-item-1      15.73\n",
       "Unnamed: 9        88.61\n",
       "dtype: float64"
      ]
     },
     "execution_count": 7,
     "metadata": {},
     "output_type": "execute_result"
    }
   ],
   "source": [
    "# Proportions of RE data missing\n",
    "round(rio1_df.isna().mean() * 100, 2)"
   ]
  },
  {
   "cell_type": "code",
   "execution_count": 8,
   "metadata": {
    "ExecuteTime": {
     "end_time": "2020-02-20T02:46:53.976412Z",
     "start_time": "2020-02-20T02:46:53.970723Z"
    }
   },
   "outputs": [
    {
     "data": {
      "text/plain": [
       "array([nan, '3', '2', '1', '6', '55 m²', '4', '56 m²', '73 m²', '75 m²',\n",
       "       '58 m²', '60 m²', '5', '40 m²', '50 m²', '43 m²', '80 m²', '65 m²',\n",
       "       '49 m²', '35 m²', '46 m²', '59 m²', '85 m²', '7', '45 m²', '53 m²',\n",
       "       '235 m²', '180 m²', '8', '95 m²', '70 m²'], dtype=object)"
      ]
     },
     "execution_count": 8,
     "metadata": {},
     "output_type": "execute_result"
    }
   ],
   "source": [
    "# What sort of data is in col `Unnamed: 9`?\n",
    "rio1_df[\"Unnamed: 9\"].unique()"
   ]
  },
  {
   "cell_type": "code",
   "execution_count": 9,
   "metadata": {
    "ExecuteTime": {
     "end_time": "2020-02-20T02:46:56.732922Z",
     "start_time": "2020-02-20T02:46:56.728343Z"
    }
   },
   "outputs": [],
   "source": [
    "# Drop unnecessary `Unnamed: 9` column in Rio1 CSV\n",
    "rio1_df.drop(columns=['Unnamed: 9'], inplace=True)"
   ]
  },
  {
   "cell_type": "code",
   "execution_count": 10,
   "metadata": {
    "ExecuteTime": {
     "end_time": "2020-02-20T02:46:57.631893Z",
     "start_time": "2020-02-20T02:46:57.627200Z"
    }
   },
   "outputs": [
    {
     "data": {
      "text/plain": [
       "address            object\n",
       "areas              object\n",
       "bathrooms         float64\n",
       "bedrooms          float64\n",
       "parking-spaces    float64\n",
       "price              object\n",
       "price-item-0       object\n",
       "price-item-1       object\n",
       "dtype: object"
      ]
     },
     "execution_count": 10,
     "metadata": {},
     "output_type": "execute_result"
    }
   ],
   "source": [
    "# Data types received\n",
    "rio1_df.dtypes"
   ]
  },
  {
   "cell_type": "code",
   "execution_count": 11,
   "metadata": {
    "ExecuteTime": {
     "end_time": "2020-02-20T02:47:02.250207Z",
     "start_time": "2020-02-20T02:47:02.228501Z"
    }
   },
   "outputs": [],
   "source": [
    "# Parse `price`; return new col `x_price` type: float\n",
    "rio1_df[\"x_price\"] = rio1_df[\"price\"].str.replace('.','').str.extract('(\\d+)', expand=True).astype(\"float\")"
   ]
  },
  {
   "cell_type": "code",
   "execution_count": 12,
   "metadata": {
    "ExecuteTime": {
     "end_time": "2020-02-20T02:47:02.826390Z",
     "start_time": "2020-02-20T02:47:02.813310Z"
    }
   },
   "outputs": [
    {
     "data": {
      "text/html": [
       "<div>\n",
       "<style scoped>\n",
       "    .dataframe tbody tr th:only-of-type {\n",
       "        vertical-align: middle;\n",
       "    }\n",
       "\n",
       "    .dataframe tbody tr th {\n",
       "        vertical-align: top;\n",
       "    }\n",
       "\n",
       "    .dataframe thead th {\n",
       "        text-align: right;\n",
       "    }\n",
       "</style>\n",
       "<table border=\"1\" class=\"dataframe\">\n",
       "  <thead>\n",
       "    <tr style=\"text-align: right;\">\n",
       "      <th></th>\n",
       "      <th>address</th>\n",
       "      <th>areas</th>\n",
       "      <th>bathrooms</th>\n",
       "      <th>bedrooms</th>\n",
       "      <th>parking-spaces</th>\n",
       "      <th>price</th>\n",
       "      <th>price-item-0</th>\n",
       "      <th>price-item-1</th>\n",
       "      <th>x_price</th>\n",
       "    </tr>\n",
       "  </thead>\n",
       "  <tbody>\n",
       "    <tr>\n",
       "      <th>0</th>\n",
       "      <td>Rua João Barros Moreira, Recreio dos Bandeirantes</td>\n",
       "      <td>450 m²</td>\n",
       "      <td>7.0</td>\n",
       "      <td>4.0</td>\n",
       "      <td>3.0</td>\n",
       "      <td>R$ 5.000 /mês</td>\n",
       "      <td>condomínio R$ 1.242</td>\n",
       "      <td>IPTU R$ 481</td>\n",
       "      <td>5000.0</td>\n",
       "    </tr>\n",
       "    <tr>\n",
       "      <th>1</th>\n",
       "      <td>Rua João Pinheiro, Piedade</td>\n",
       "      <td>56 m²</td>\n",
       "      <td>2.0</td>\n",
       "      <td>2.0</td>\n",
       "      <td>1.0</td>\n",
       "      <td>R$ 1.300 /mês</td>\n",
       "      <td>condomínio R$ 460</td>\n",
       "      <td>IPTU R$ 60</td>\n",
       "      <td>1300.0</td>\n",
       "    </tr>\n",
       "    <tr>\n",
       "      <th>2</th>\n",
       "      <td>Estrada dos Bandeirantes, Jacarepaguá</td>\n",
       "      <td>61 m²</td>\n",
       "      <td>2.0</td>\n",
       "      <td>2.0</td>\n",
       "      <td>1.0</td>\n",
       "      <td>R$ 1.380 /mês</td>\n",
       "      <td>condomínio R$ 600</td>\n",
       "      <td>IPTU R$ 89</td>\n",
       "      <td>1380.0</td>\n",
       "    </tr>\n",
       "    <tr>\n",
       "      <th>3</th>\n",
       "      <td>Rua Mário Covas Júnior, Barra da Tijuca</td>\n",
       "      <td>97 m²</td>\n",
       "      <td>3.0</td>\n",
       "      <td>2.0</td>\n",
       "      <td>1.0</td>\n",
       "      <td>R$ 2.950 /mês</td>\n",
       "      <td>condomínio R$ 852</td>\n",
       "      <td>IPTU R$ 315</td>\n",
       "      <td>2950.0</td>\n",
       "    </tr>\n",
       "    <tr>\n",
       "      <th>4</th>\n",
       "      <td>Rua Coronel Paulo Malta Rezende, Barra da Tijuca</td>\n",
       "      <td>65 m²</td>\n",
       "      <td>2.0</td>\n",
       "      <td>2.0</td>\n",
       "      <td>1.0</td>\n",
       "      <td>R$ 2.400 /mês</td>\n",
       "      <td>condomínio R$ 809</td>\n",
       "      <td>IPTU R$ 218</td>\n",
       "      <td>2400.0</td>\n",
       "    </tr>\n",
       "  </tbody>\n",
       "</table>\n",
       "</div>"
      ],
      "text/plain": [
       "                                             address   areas  bathrooms  \\\n",
       "0  Rua João Barros Moreira, Recreio dos Bandeirantes  450 m²        7.0   \n",
       "1                         Rua João Pinheiro, Piedade   56 m²        2.0   \n",
       "2              Estrada dos Bandeirantes, Jacarepaguá   61 m²        2.0   \n",
       "3            Rua Mário Covas Júnior, Barra da Tijuca   97 m²        3.0   \n",
       "4   Rua Coronel Paulo Malta Rezende, Barra da Tijuca   65 m²        2.0   \n",
       "\n",
       "   bedrooms  parking-spaces          price         price-item-0 price-item-1  \\\n",
       "0       4.0             3.0  R$ 5.000 /mês  condomínio R$ 1.242  IPTU R$ 481   \n",
       "1       2.0             1.0  R$ 1.300 /mês    condomínio R$ 460   IPTU R$ 60   \n",
       "2       2.0             1.0  R$ 1.380 /mês    condomínio R$ 600   IPTU R$ 89   \n",
       "3       2.0             1.0  R$ 2.950 /mês    condomínio R$ 852  IPTU R$ 315   \n",
       "4       2.0             1.0  R$ 2.400 /mês    condomínio R$ 809  IPTU R$ 218   \n",
       "\n",
       "   x_price  \n",
       "0   5000.0  \n",
       "1   1300.0  \n",
       "2   1380.0  \n",
       "3   2950.0  \n",
       "4   2400.0  "
      ]
     },
     "execution_count": 12,
     "metadata": {},
     "output_type": "execute_result"
    }
   ],
   "source": [
    "rio1_df.head()"
   ]
  },
  {
   "cell_type": "code",
   "execution_count": 13,
   "metadata": {
    "ExecuteTime": {
     "end_time": "2020-02-20T02:47:12.175621Z",
     "start_time": "2020-02-20T02:47:12.162177Z"
    },
    "scrolled": true
   },
   "outputs": [
    {
     "data": {
      "text/html": [
       "<div>\n",
       "<style scoped>\n",
       "    .dataframe tbody tr th:only-of-type {\n",
       "        vertical-align: middle;\n",
       "    }\n",
       "\n",
       "    .dataframe tbody tr th {\n",
       "        vertical-align: top;\n",
       "    }\n",
       "\n",
       "    .dataframe thead th {\n",
       "        text-align: right;\n",
       "    }\n",
       "</style>\n",
       "<table border=\"1\" class=\"dataframe\">\n",
       "  <thead>\n",
       "    <tr style=\"text-align: right;\">\n",
       "      <th></th>\n",
       "      <th>address</th>\n",
       "      <th>areas</th>\n",
       "      <th>bathrooms</th>\n",
       "      <th>bedrooms</th>\n",
       "      <th>parking-spaces</th>\n",
       "      <th>price</th>\n",
       "      <th>price-item-0</th>\n",
       "      <th>price-item-1</th>\n",
       "      <th>x_price</th>\n",
       "    </tr>\n",
       "  </thead>\n",
       "  <tbody>\n",
       "    <tr>\n",
       "      <th>0</th>\n",
       "      <td>Rua João Barros Moreira, Recreio dos Bandeirantes</td>\n",
       "      <td>450 m²</td>\n",
       "      <td>7.0</td>\n",
       "      <td>4.0</td>\n",
       "      <td>3.0</td>\n",
       "      <td>R$ 5.000 /mês</td>\n",
       "      <td>condomínio R$ 1.242</td>\n",
       "      <td>IPTU R$ 481</td>\n",
       "      <td>5000.0</td>\n",
       "    </tr>\n",
       "    <tr>\n",
       "      <th>1</th>\n",
       "      <td>Rua João Pinheiro, Piedade</td>\n",
       "      <td>56 m²</td>\n",
       "      <td>2.0</td>\n",
       "      <td>2.0</td>\n",
       "      <td>1.0</td>\n",
       "      <td>R$ 1.300 /mês</td>\n",
       "      <td>condomínio R$ 460</td>\n",
       "      <td>IPTU R$ 60</td>\n",
       "      <td>1300.0</td>\n",
       "    </tr>\n",
       "    <tr>\n",
       "      <th>2</th>\n",
       "      <td>Estrada dos Bandeirantes, Jacarepaguá</td>\n",
       "      <td>61 m²</td>\n",
       "      <td>2.0</td>\n",
       "      <td>2.0</td>\n",
       "      <td>1.0</td>\n",
       "      <td>R$ 1.380 /mês</td>\n",
       "      <td>condomínio R$ 600</td>\n",
       "      <td>IPTU R$ 89</td>\n",
       "      <td>1380.0</td>\n",
       "    </tr>\n",
       "    <tr>\n",
       "      <th>3</th>\n",
       "      <td>Rua Mário Covas Júnior, Barra da Tijuca</td>\n",
       "      <td>97 m²</td>\n",
       "      <td>3.0</td>\n",
       "      <td>2.0</td>\n",
       "      <td>1.0</td>\n",
       "      <td>R$ 2.950 /mês</td>\n",
       "      <td>condomínio R$ 852</td>\n",
       "      <td>IPTU R$ 315</td>\n",
       "      <td>2950.0</td>\n",
       "    </tr>\n",
       "    <tr>\n",
       "      <th>4</th>\n",
       "      <td>Rua Coronel Paulo Malta Rezende, Barra da Tijuca</td>\n",
       "      <td>65 m²</td>\n",
       "      <td>2.0</td>\n",
       "      <td>2.0</td>\n",
       "      <td>1.0</td>\n",
       "      <td>R$ 2.400 /mês</td>\n",
       "      <td>condomínio R$ 809</td>\n",
       "      <td>IPTU R$ 218</td>\n",
       "      <td>2400.0</td>\n",
       "    </tr>\n",
       "  </tbody>\n",
       "</table>\n",
       "</div>"
      ],
      "text/plain": [
       "                                             address   areas  bathrooms  \\\n",
       "0  Rua João Barros Moreira, Recreio dos Bandeirantes  450 m²        7.0   \n",
       "1                         Rua João Pinheiro, Piedade   56 m²        2.0   \n",
       "2              Estrada dos Bandeirantes, Jacarepaguá   61 m²        2.0   \n",
       "3            Rua Mário Covas Júnior, Barra da Tijuca   97 m²        3.0   \n",
       "4   Rua Coronel Paulo Malta Rezende, Barra da Tijuca   65 m²        2.0   \n",
       "\n",
       "   bedrooms  parking-spaces          price         price-item-0 price-item-1  \\\n",
       "0       4.0             3.0  R$ 5.000 /mês  condomínio R$ 1.242  IPTU R$ 481   \n",
       "1       2.0             1.0  R$ 1.300 /mês    condomínio R$ 460   IPTU R$ 60   \n",
       "2       2.0             1.0  R$ 1.380 /mês    condomínio R$ 600   IPTU R$ 89   \n",
       "3       2.0             1.0  R$ 2.950 /mês    condomínio R$ 852  IPTU R$ 315   \n",
       "4       2.0             1.0  R$ 2.400 /mês    condomínio R$ 809  IPTU R$ 218   \n",
       "\n",
       "   x_price  \n",
       "0   5000.0  \n",
       "1   1300.0  \n",
       "2   1380.0  \n",
       "3   2950.0  \n",
       "4   2400.0  "
      ]
     },
     "execution_count": 13,
     "metadata": {},
     "output_type": "execute_result"
    }
   ],
   "source": [
    "# Split/subset the dataframe - take top 10%\n",
    "# Note: This is for demonstration purposes as the following step submits to external web service GeoPy!\n",
    "chunk_size = int(rio1_df.shape[0] / 10)\n",
    "df = rio1_df.iloc[0:0 + chunk_size]\n",
    "df.shape\n",
    "df.head()"
   ]
  },
  {
   "cell_type": "code",
   "execution_count": 14,
   "metadata": {
    "ExecuteTime": {
     "end_time": "2020-02-20T03:05:19.711969Z",
     "start_time": "2020-02-20T02:47:17.384849Z"
    }
   },
   "outputs": [
    {
     "name": "stderr",
     "output_type": "stream",
     "text": [
      "/opt/anaconda3/envs/dsi/lib/python3.7/site-packages/ipykernel_launcher.py:11: SettingWithCopyWarning: \n",
      "A value is trying to be set on a copy of a slice from a DataFrame.\n",
      "Try using .loc[row_indexer,col_indexer] = value instead\n",
      "\n",
      "See the caveats in the documentation: http://pandas.pydata.org/pandas-docs/stable/user_guide/indexing.html#returning-a-view-versus-a-copy\n",
      "  # This is added back by InteractiveShellApp.init_path()\n"
     ]
    }
   ],
   "source": [
    "# Add geocodes\n",
    "from geopy.geocoders import Nominatim\n",
    "from geopy.extra.rate_limiter import RateLimiter\n",
    "\n",
    "geolocator = Nominatim(user_agent=\"GA_GeoCoder\")\n",
    "\n",
    "# Invoke rate-limited geocode\n",
    "geocode = RateLimiter(geolocator.geocode, min_delay_seconds=1)\n",
    "\n",
    "# Now create location column\n",
    "df['location'] = df['address'].apply(lambda x : x + ', Brazil').apply(geocode)\n",
    "\n",
    "# Credit: [GeoPy](https://geopy.readthedocs.io/en/stable/)\n",
    "#         [towardsdatascience/geocode-with-python](http://bit.ly/2ueKREg)"
   ]
  },
  {
   "cell_type": "code",
   "execution_count": 16,
   "metadata": {
    "ExecuteTime": {
     "end_time": "2020-02-20T03:07:13.452666Z",
     "start_time": "2020-02-20T03:07:13.437108Z"
    }
   },
   "outputs": [
    {
     "name": "stderr",
     "output_type": "stream",
     "text": [
      "/opt/anaconda3/envs/dsi/lib/python3.7/site-packages/ipykernel_launcher.py:2: SettingWithCopyWarning: \n",
      "A value is trying to be set on a copy of a slice from a DataFrame.\n",
      "Try using .loc[row_indexer,col_indexer] = value instead\n",
      "\n",
      "See the caveats in the documentation: http://pandas.pydata.org/pandas-docs/stable/user_guide/indexing.html#returning-a-view-versus-a-copy\n",
      "  \n",
      "/opt/anaconda3/envs/dsi/lib/python3.7/site-packages/pandas/core/frame.py:3509: SettingWithCopyWarning: \n",
      "A value is trying to be set on a copy of a slice from a DataFrame.\n",
      "Try using .loc[row_indexer,col_indexer] = value instead\n",
      "\n",
      "See the caveats in the documentation: http://pandas.pydata.org/pandas-docs/stable/user_guide/indexing.html#returning-a-view-versus-a-copy\n",
      "  self[k1] = value[k2]\n"
     ]
    }
   ],
   "source": [
    "# Create longitude, latitude and altitude from location column (returns tuple)\n",
    "df['point'] = df['location'].apply(lambda loc: tuple(loc.point) if loc else None)\n",
    "\n",
    "# Split point column into latitude, longitude and altitude columns\n",
    "df[['latitude', 'longitude', 'altitude']] = pd.DataFrame(df['point'].tolist(), index=df.index)"
   ]
  },
  {
   "cell_type": "code",
   "execution_count": 17,
   "metadata": {
    "ExecuteTime": {
     "end_time": "2020-02-20T03:07:27.855659Z",
     "start_time": "2020-02-20T03:07:27.834781Z"
    }
   },
   "outputs": [
    {
     "data": {
      "text/html": [
       "<div>\n",
       "<style scoped>\n",
       "    .dataframe tbody tr th:only-of-type {\n",
       "        vertical-align: middle;\n",
       "    }\n",
       "\n",
       "    .dataframe tbody tr th {\n",
       "        vertical-align: top;\n",
       "    }\n",
       "\n",
       "    .dataframe thead th {\n",
       "        text-align: right;\n",
       "    }\n",
       "</style>\n",
       "<table border=\"1\" class=\"dataframe\">\n",
       "  <thead>\n",
       "    <tr style=\"text-align: right;\">\n",
       "      <th></th>\n",
       "      <th>address</th>\n",
       "      <th>areas</th>\n",
       "      <th>bathrooms</th>\n",
       "      <th>bedrooms</th>\n",
       "      <th>parking-spaces</th>\n",
       "      <th>price</th>\n",
       "      <th>price-item-0</th>\n",
       "      <th>price-item-1</th>\n",
       "      <th>x_price</th>\n",
       "      <th>location</th>\n",
       "      <th>point</th>\n",
       "      <th>latitude</th>\n",
       "      <th>longitude</th>\n",
       "      <th>altitude</th>\n",
       "    </tr>\n",
       "  </thead>\n",
       "  <tbody>\n",
       "    <tr>\n",
       "      <th>0</th>\n",
       "      <td>Rua João Barros Moreira, Recreio dos Bandeirantes</td>\n",
       "      <td>450 m²</td>\n",
       "      <td>7.0</td>\n",
       "      <td>4.0</td>\n",
       "      <td>3.0</td>\n",
       "      <td>R$ 5.000 /mês</td>\n",
       "      <td>condomínio R$ 1.242</td>\n",
       "      <td>IPTU R$ 481</td>\n",
       "      <td>5000.0</td>\n",
       "      <td>(Rua João Barros Moreira, Recreio dos Bandeira...</td>\n",
       "      <td>(-23.0197394, -43.4600439, 0.0)</td>\n",
       "      <td>-23.019739</td>\n",
       "      <td>-43.460044</td>\n",
       "      <td>0.0</td>\n",
       "    </tr>\n",
       "    <tr>\n",
       "      <th>1</th>\n",
       "      <td>Rua João Pinheiro, Piedade</td>\n",
       "      <td>56 m²</td>\n",
       "      <td>2.0</td>\n",
       "      <td>2.0</td>\n",
       "      <td>1.0</td>\n",
       "      <td>R$ 1.300 /mês</td>\n",
       "      <td>condomínio R$ 460</td>\n",
       "      <td>IPTU R$ 60</td>\n",
       "      <td>1300.0</td>\n",
       "      <td>(Rua João Pinheiro, Piedade, Zona Norte do Rio...</td>\n",
       "      <td>(-22.8871743, -43.3041246, 0.0)</td>\n",
       "      <td>-22.887174</td>\n",
       "      <td>-43.304125</td>\n",
       "      <td>0.0</td>\n",
       "    </tr>\n",
       "    <tr>\n",
       "      <th>2</th>\n",
       "      <td>Estrada dos Bandeirantes, Jacarepaguá</td>\n",
       "      <td>61 m²</td>\n",
       "      <td>2.0</td>\n",
       "      <td>2.0</td>\n",
       "      <td>1.0</td>\n",
       "      <td>R$ 1.380 /mês</td>\n",
       "      <td>condomínio R$ 600</td>\n",
       "      <td>IPTU R$ 89</td>\n",
       "      <td>1380.0</td>\n",
       "      <td>(Estrada dos Bandeirantes, Jacarepaguá, Zona O...</td>\n",
       "      <td>(-22.9548472, -43.3765899, 0.0)</td>\n",
       "      <td>-22.954847</td>\n",
       "      <td>-43.376590</td>\n",
       "      <td>0.0</td>\n",
       "    </tr>\n",
       "    <tr>\n",
       "      <th>3</th>\n",
       "      <td>Rua Mário Covas Júnior, Barra da Tijuca</td>\n",
       "      <td>97 m²</td>\n",
       "      <td>3.0</td>\n",
       "      <td>2.0</td>\n",
       "      <td>1.0</td>\n",
       "      <td>R$ 2.950 /mês</td>\n",
       "      <td>condomínio R$ 852</td>\n",
       "      <td>IPTU R$ 315</td>\n",
       "      <td>2950.0</td>\n",
       "      <td>(Rua Mário Covas Júnior, Barra da Tijuca, Zona...</td>\n",
       "      <td>(-23.0056458, -43.3301883, 0.0)</td>\n",
       "      <td>-23.005646</td>\n",
       "      <td>-43.330188</td>\n",
       "      <td>0.0</td>\n",
       "    </tr>\n",
       "    <tr>\n",
       "      <th>4</th>\n",
       "      <td>Rua Coronel Paulo Malta Rezende, Barra da Tijuca</td>\n",
       "      <td>65 m²</td>\n",
       "      <td>2.0</td>\n",
       "      <td>2.0</td>\n",
       "      <td>1.0</td>\n",
       "      <td>R$ 2.400 /mês</td>\n",
       "      <td>condomínio R$ 809</td>\n",
       "      <td>IPTU R$ 218</td>\n",
       "      <td>2400.0</td>\n",
       "      <td>(Rua Coronel Paulo Malta Rezende, Condomínio S...</td>\n",
       "      <td>(-23.0049338, -43.3312167, 0.0)</td>\n",
       "      <td>-23.004934</td>\n",
       "      <td>-43.331217</td>\n",
       "      <td>0.0</td>\n",
       "    </tr>\n",
       "  </tbody>\n",
       "</table>\n",
       "</div>"
      ],
      "text/plain": [
       "                                             address   areas  bathrooms  \\\n",
       "0  Rua João Barros Moreira, Recreio dos Bandeirantes  450 m²        7.0   \n",
       "1                         Rua João Pinheiro, Piedade   56 m²        2.0   \n",
       "2              Estrada dos Bandeirantes, Jacarepaguá   61 m²        2.0   \n",
       "3            Rua Mário Covas Júnior, Barra da Tijuca   97 m²        3.0   \n",
       "4   Rua Coronel Paulo Malta Rezende, Barra da Tijuca   65 m²        2.0   \n",
       "\n",
       "   bedrooms  parking-spaces          price         price-item-0 price-item-1  \\\n",
       "0       4.0             3.0  R$ 5.000 /mês  condomínio R$ 1.242  IPTU R$ 481   \n",
       "1       2.0             1.0  R$ 1.300 /mês    condomínio R$ 460   IPTU R$ 60   \n",
       "2       2.0             1.0  R$ 1.380 /mês    condomínio R$ 600   IPTU R$ 89   \n",
       "3       2.0             1.0  R$ 2.950 /mês    condomínio R$ 852  IPTU R$ 315   \n",
       "4       2.0             1.0  R$ 2.400 /mês    condomínio R$ 809  IPTU R$ 218   \n",
       "\n",
       "   x_price                                           location  \\\n",
       "0   5000.0  (Rua João Barros Moreira, Recreio dos Bandeira...   \n",
       "1   1300.0  (Rua João Pinheiro, Piedade, Zona Norte do Rio...   \n",
       "2   1380.0  (Estrada dos Bandeirantes, Jacarepaguá, Zona O...   \n",
       "3   2950.0  (Rua Mário Covas Júnior, Barra da Tijuca, Zona...   \n",
       "4   2400.0  (Rua Coronel Paulo Malta Rezende, Condomínio S...   \n",
       "\n",
       "                             point   latitude  longitude  altitude  \n",
       "0  (-23.0197394, -43.4600439, 0.0) -23.019739 -43.460044       0.0  \n",
       "1  (-22.8871743, -43.3041246, 0.0) -22.887174 -43.304125       0.0  \n",
       "2  (-22.9548472, -43.3765899, 0.0) -22.954847 -43.376590       0.0  \n",
       "3  (-23.0056458, -43.3301883, 0.0) -23.005646 -43.330188       0.0  \n",
       "4  (-23.0049338, -43.3312167, 0.0) -23.004934 -43.331217       0.0  "
      ]
     },
     "execution_count": 17,
     "metadata": {},
     "output_type": "execute_result"
    }
   ],
   "source": [
    "# Check process\n",
    "df.head()"
   ]
  },
  {
   "cell_type": "code",
   "execution_count": 18,
   "metadata": {
    "ExecuteTime": {
     "end_time": "2020-02-20T03:08:01.648240Z",
     "start_time": "2020-02-20T03:08:01.642382Z"
    }
   },
   "outputs": [
    {
     "name": "stderr",
     "output_type": "stream",
     "text": [
      "/opt/anaconda3/envs/dsi/lib/python3.7/site-packages/pandas/core/frame.py:4117: SettingWithCopyWarning: \n",
      "A value is trying to be set on a copy of a slice from a DataFrame\n",
      "\n",
      "See the caveats in the documentation: http://pandas.pydata.org/pandas-docs/stable/user_guide/indexing.html#returning-a-view-versus-a-copy\n",
      "  errors=errors,\n"
     ]
    }
   ],
   "source": [
    "# Unnecessary columns\n",
    "df.drop(['location'],axis=1,inplace=True)"
   ]
  },
  {
   "cell_type": "code",
   "execution_count": 19,
   "metadata": {
    "ExecuteTime": {
     "end_time": "2020-02-20T03:08:05.425827Z",
     "start_time": "2020-02-20T03:08:05.422031Z"
    }
   },
   "outputs": [],
   "source": [
    "# Unnecessary columns\n",
    "df.drop(['point'],axis=1,inplace=True)"
   ]
  },
  {
   "cell_type": "code",
   "execution_count": 20,
   "metadata": {
    "ExecuteTime": {
     "end_time": "2020-02-20T03:08:11.457785Z",
     "start_time": "2020-02-20T03:08:11.452967Z"
    }
   },
   "outputs": [],
   "source": [
    "# Unnecessary columns\n",
    "df.drop(['altitude'],axis=1,inplace=True)"
   ]
  },
  {
   "cell_type": "code",
   "execution_count": 21,
   "metadata": {
    "ExecuteTime": {
     "end_time": "2020-02-20T03:08:13.627034Z",
     "start_time": "2020-02-20T03:08:13.622795Z"
    }
   },
   "outputs": [
    {
     "name": "stderr",
     "output_type": "stream",
     "text": [
      "/opt/anaconda3/envs/dsi/lib/python3.7/site-packages/pandas/core/frame.py:4238: SettingWithCopyWarning: \n",
      "A value is trying to be set on a copy of a slice from a DataFrame\n",
      "\n",
      "See the caveats in the documentation: http://pandas.pydata.org/pandas-docs/stable/user_guide/indexing.html#returning-a-view-versus-a-copy\n",
      "  return super().rename(**kwargs)\n"
     ]
    }
   ],
   "source": [
    "# Rename for better identity of cols\n",
    "df.rename(columns={'price':'zap_price_pmo', 'price-item-0':'zap_price_cls','price-item-1':'zap_price_iptu', 'x_price':'r$_pmo'}, inplace=True)"
   ]
  },
  {
   "cell_type": "code",
   "execution_count": 22,
   "metadata": {
    "ExecuteTime": {
     "end_time": "2020-02-20T03:08:15.991350Z",
     "start_time": "2020-02-20T03:08:15.986145Z"
    }
   },
   "outputs": [
    {
     "name": "stderr",
     "output_type": "stream",
     "text": [
      "/opt/anaconda3/envs/dsi/lib/python3.7/site-packages/ipykernel_launcher.py:3: SettingWithCopyWarning: \n",
      "A value is trying to be set on a copy of a slice from a DataFrame.\n",
      "Try using .loc[row_indexer,col_indexer] = value instead\n",
      "\n",
      "See the caveats in the documentation: http://pandas.pydata.org/pandas-docs/stable/user_guide/indexing.html#returning-a-view-versus-a-copy\n",
      "  This is separate from the ipykernel package so we can avoid doing imports until\n"
     ]
    }
   ],
   "source": [
    "# Convert/calculate a new column from Brazilian real to USD as of 2020-02-16\n",
    "# 100 r$ = 23.24446200692685 usd\n",
    "df['usd_pmo'] = [round(row * 0.232446, 2) for row in df['r$_pmo']]"
   ]
  },
  {
   "cell_type": "code",
   "execution_count": 23,
   "metadata": {
    "ExecuteTime": {
     "end_time": "2020-02-20T03:08:22.130482Z",
     "start_time": "2020-02-20T03:08:22.116582Z"
    }
   },
   "outputs": [
    {
     "data": {
      "text/html": [
       "<div>\n",
       "<style scoped>\n",
       "    .dataframe tbody tr th:only-of-type {\n",
       "        vertical-align: middle;\n",
       "    }\n",
       "\n",
       "    .dataframe tbody tr th {\n",
       "        vertical-align: top;\n",
       "    }\n",
       "\n",
       "    .dataframe thead th {\n",
       "        text-align: right;\n",
       "    }\n",
       "</style>\n",
       "<table border=\"1\" class=\"dataframe\">\n",
       "  <thead>\n",
       "    <tr style=\"text-align: right;\">\n",
       "      <th></th>\n",
       "      <th>address</th>\n",
       "      <th>areas</th>\n",
       "      <th>bathrooms</th>\n",
       "      <th>bedrooms</th>\n",
       "      <th>parking-spaces</th>\n",
       "      <th>zap_price_pmo</th>\n",
       "      <th>zap_price_cls</th>\n",
       "      <th>zap_price_iptu</th>\n",
       "      <th>r$_pmo</th>\n",
       "      <th>latitude</th>\n",
       "      <th>longitude</th>\n",
       "      <th>usd_pmo</th>\n",
       "    </tr>\n",
       "  </thead>\n",
       "  <tbody>\n",
       "    <tr>\n",
       "      <th>0</th>\n",
       "      <td>Rua João Barros Moreira, Recreio dos Bandeirantes</td>\n",
       "      <td>450 m²</td>\n",
       "      <td>7.0</td>\n",
       "      <td>4.0</td>\n",
       "      <td>3.0</td>\n",
       "      <td>R$ 5.000 /mês</td>\n",
       "      <td>condomínio R$ 1.242</td>\n",
       "      <td>IPTU R$ 481</td>\n",
       "      <td>5000.0</td>\n",
       "      <td>-23.019739</td>\n",
       "      <td>-43.460044</td>\n",
       "      <td>1162.23</td>\n",
       "    </tr>\n",
       "    <tr>\n",
       "      <th>1</th>\n",
       "      <td>Rua João Pinheiro, Piedade</td>\n",
       "      <td>56 m²</td>\n",
       "      <td>2.0</td>\n",
       "      <td>2.0</td>\n",
       "      <td>1.0</td>\n",
       "      <td>R$ 1.300 /mês</td>\n",
       "      <td>condomínio R$ 460</td>\n",
       "      <td>IPTU R$ 60</td>\n",
       "      <td>1300.0</td>\n",
       "      <td>-22.887174</td>\n",
       "      <td>-43.304125</td>\n",
       "      <td>302.18</td>\n",
       "    </tr>\n",
       "    <tr>\n",
       "      <th>2</th>\n",
       "      <td>Estrada dos Bandeirantes, Jacarepaguá</td>\n",
       "      <td>61 m²</td>\n",
       "      <td>2.0</td>\n",
       "      <td>2.0</td>\n",
       "      <td>1.0</td>\n",
       "      <td>R$ 1.380 /mês</td>\n",
       "      <td>condomínio R$ 600</td>\n",
       "      <td>IPTU R$ 89</td>\n",
       "      <td>1380.0</td>\n",
       "      <td>-22.954847</td>\n",
       "      <td>-43.376590</td>\n",
       "      <td>320.78</td>\n",
       "    </tr>\n",
       "    <tr>\n",
       "      <th>3</th>\n",
       "      <td>Rua Mário Covas Júnior, Barra da Tijuca</td>\n",
       "      <td>97 m²</td>\n",
       "      <td>3.0</td>\n",
       "      <td>2.0</td>\n",
       "      <td>1.0</td>\n",
       "      <td>R$ 2.950 /mês</td>\n",
       "      <td>condomínio R$ 852</td>\n",
       "      <td>IPTU R$ 315</td>\n",
       "      <td>2950.0</td>\n",
       "      <td>-23.005646</td>\n",
       "      <td>-43.330188</td>\n",
       "      <td>685.72</td>\n",
       "    </tr>\n",
       "    <tr>\n",
       "      <th>4</th>\n",
       "      <td>Rua Coronel Paulo Malta Rezende, Barra da Tijuca</td>\n",
       "      <td>65 m²</td>\n",
       "      <td>2.0</td>\n",
       "      <td>2.0</td>\n",
       "      <td>1.0</td>\n",
       "      <td>R$ 2.400 /mês</td>\n",
       "      <td>condomínio R$ 809</td>\n",
       "      <td>IPTU R$ 218</td>\n",
       "      <td>2400.0</td>\n",
       "      <td>-23.004934</td>\n",
       "      <td>-43.331217</td>\n",
       "      <td>557.87</td>\n",
       "    </tr>\n",
       "  </tbody>\n",
       "</table>\n",
       "</div>"
      ],
      "text/plain": [
       "                                             address   areas  bathrooms  \\\n",
       "0  Rua João Barros Moreira, Recreio dos Bandeirantes  450 m²        7.0   \n",
       "1                         Rua João Pinheiro, Piedade   56 m²        2.0   \n",
       "2              Estrada dos Bandeirantes, Jacarepaguá   61 m²        2.0   \n",
       "3            Rua Mário Covas Júnior, Barra da Tijuca   97 m²        3.0   \n",
       "4   Rua Coronel Paulo Malta Rezende, Barra da Tijuca   65 m²        2.0   \n",
       "\n",
       "   bedrooms  parking-spaces  zap_price_pmo        zap_price_cls  \\\n",
       "0       4.0             3.0  R$ 5.000 /mês  condomínio R$ 1.242   \n",
       "1       2.0             1.0  R$ 1.300 /mês    condomínio R$ 460   \n",
       "2       2.0             1.0  R$ 1.380 /mês    condomínio R$ 600   \n",
       "3       2.0             1.0  R$ 2.950 /mês    condomínio R$ 852   \n",
       "4       2.0             1.0  R$ 2.400 /mês    condomínio R$ 809   \n",
       "\n",
       "  zap_price_iptu  r$_pmo   latitude  longitude  usd_pmo  \n",
       "0    IPTU R$ 481  5000.0 -23.019739 -43.460044  1162.23  \n",
       "1     IPTU R$ 60  1300.0 -22.887174 -43.304125   302.18  \n",
       "2     IPTU R$ 89  1380.0 -22.954847 -43.376590   320.78  \n",
       "3    IPTU R$ 315  2950.0 -23.005646 -43.330188   685.72  \n",
       "4    IPTU R$ 218  2400.0 -23.004934 -43.331217   557.87  "
      ]
     },
     "execution_count": 23,
     "metadata": {},
     "output_type": "execute_result"
    }
   ],
   "source": [
    "# Check process\n",
    "df.head()"
   ]
  },
  {
   "cell_type": "code",
   "execution_count": 24,
   "metadata": {
    "ExecuteTime": {
     "end_time": "2020-02-20T03:09:17.108913Z",
     "start_time": "2020-02-20T03:09:17.097101Z"
    }
   },
   "outputs": [
    {
     "data": {
      "text/plain": [
       " NaN          63\n",
       "-43.407209    16\n",
       "-43.188297     8\n",
       "-43.371319     8\n",
       "-43.366280     7\n",
       "              ..\n",
       "-43.350948     1\n",
       "-43.485306     1\n",
       "-43.175335     1\n",
       "-43.461767     1\n",
       "-43.318172     1\n",
       "Name: longitude, Length: 442, dtype: int64"
      ]
     },
     "execution_count": 24,
     "metadata": {},
     "output_type": "execute_result"
    }
   ],
   "source": [
    "df['latitude'].value_counts(dropna=False)\n",
    "df['longitude'].value_counts(dropna=False)"
   ]
  },
  {
   "cell_type": "raw",
   "metadata": {
    "ExecuteTime": {
     "end_time": "2020-02-16T16:37:07.867128Z",
     "start_time": "2020-02-16T16:37:07.733365Z"
    }
   },
   "source": [
    "# Serialize what I have got\n",
    "df.to_csv('./rio1_data.csv', encoding='utf-8', index=False)"
   ]
  },
  {
   "cell_type": "code",
   "execution_count": 25,
   "metadata": {
    "ExecuteTime": {
     "end_time": "2020-02-20T03:09:24.686932Z",
     "start_time": "2020-02-20T03:09:24.679387Z"
    }
   },
   "outputs": [],
   "source": [
    "# Return the set of records missing the lat and long values\n",
    "no_latlong = df[df['latitude'].isnull() | df['longitude'].isnull()]"
   ]
  },
  {
   "cell_type": "code",
   "execution_count": 26,
   "metadata": {
    "ExecuteTime": {
     "end_time": "2020-02-20T03:09:25.780338Z",
     "start_time": "2020-02-20T03:09:25.769914Z"
    }
   },
   "outputs": [],
   "source": [
    "# Split address into street and neighborhood\n",
    "no_latlong[['street', 'neighborhood']] = df['address'].str.split(pat=',',expand=True)"
   ]
  },
  {
   "cell_type": "code",
   "execution_count": 27,
   "metadata": {
    "ExecuteTime": {
     "end_time": "2020-02-20T03:09:27.102616Z",
     "start_time": "2020-02-20T03:09:27.097792Z"
    }
   },
   "outputs": [
    {
     "data": {
      "text/plain": [
       "(63, 14)"
      ]
     },
     "execution_count": 27,
     "metadata": {},
     "output_type": "execute_result"
    }
   ],
   "source": [
    "no_latlong.head(10)\n",
    "no_latlong.shape"
   ]
  },
  {
   "cell_type": "code",
   "execution_count": 28,
   "metadata": {
    "ExecuteTime": {
     "end_time": "2020-02-20T03:11:00.669220Z",
     "start_time": "2020-02-20T03:09:33.072189Z"
    }
   },
   "outputs": [
    {
     "name": "stderr",
     "output_type": "stream",
     "text": [
      "/opt/anaconda3/envs/dsi/lib/python3.7/site-packages/ipykernel_launcher.py:11: SettingWithCopyWarning: \n",
      "A value is trying to be set on a copy of a slice from a DataFrame.\n",
      "Try using .loc[row_indexer,col_indexer] = value instead\n",
      "\n",
      "See the caveats in the documentation: http://pandas.pydata.org/pandas-docs/stable/user_guide/indexing.html#returning-a-view-versus-a-copy\n",
      "  # This is added back by InteractiveShellApp.init_path()\n"
     ]
    }
   ],
   "source": [
    "# Add geocodes to neighborhood of MISSING\n",
    "# from geopy.geocoders import Nominatim\n",
    "# from geopy.extra.rate_limiter import RateLimiter\n",
    "\n",
    "geolocator = Nominatim(user_agent=\"GA_GeoCoder\")\n",
    "\n",
    "# Invoke rate-limited geocode\n",
    "geocode = RateLimiter(geolocator.geocode, min_delay_seconds=1)\n",
    "\n",
    "# Now create location column\n",
    "no_latlong['location'] = no_latlong['neighborhood'].apply(lambda x : x + ', Brazil').apply(geocode)\n",
    "\n",
    "# Credit: [GeoPy](https://geopy.readthedocs.io/en/stable/)\n",
    "#         [towardsdatascience/geocode-with-python](http://bit.ly/2ueKREg"
   ]
  },
  {
   "cell_type": "code",
   "execution_count": 29,
   "metadata": {
    "ExecuteTime": {
     "end_time": "2020-02-20T03:11:17.575356Z",
     "start_time": "2020-02-20T03:11:17.565494Z"
    }
   },
   "outputs": [
    {
     "name": "stderr",
     "output_type": "stream",
     "text": [
      "/opt/anaconda3/envs/dsi/lib/python3.7/site-packages/ipykernel_launcher.py:2: SettingWithCopyWarning: \n",
      "A value is trying to be set on a copy of a slice from a DataFrame.\n",
      "Try using .loc[row_indexer,col_indexer] = value instead\n",
      "\n",
      "See the caveats in the documentation: http://pandas.pydata.org/pandas-docs/stable/user_guide/indexing.html#returning-a-view-versus-a-copy\n",
      "  \n"
     ]
    }
   ],
   "source": [
    "# Create longitude, latitude and altitude from location column (returns tuple)\n",
    "no_latlong['point'] = no_latlong['location'].apply(lambda loc: tuple(loc.point) if loc else None)\n",
    "\n",
    "# Split point column into latitude, longitude and altitude columns\n",
    "no_latlong[['latitude', 'longitude', 'altitude']] = pd.DataFrame(no_latlong['point'].tolist(), index=no_latlong.index)\n"
   ]
  },
  {
   "cell_type": "code",
   "execution_count": 30,
   "metadata": {
    "ExecuteTime": {
     "end_time": "2020-02-20T03:11:20.910062Z",
     "start_time": "2020-02-20T03:11:20.904027Z"
    }
   },
   "outputs": [],
   "source": [
    "# Pare down to the essential missing cols\n",
    "point_idx_df = no_latlong[['point', 'longitude', 'latitude']]"
   ]
  },
  {
   "cell_type": "code",
   "execution_count": 31,
   "metadata": {
    "ExecuteTime": {
     "end_time": "2020-02-20T03:11:21.757516Z",
     "start_time": "2020-02-20T03:11:21.748324Z"
    }
   },
   "outputs": [
    {
     "data": {
      "text/html": [
       "<div>\n",
       "<style scoped>\n",
       "    .dataframe tbody tr th:only-of-type {\n",
       "        vertical-align: middle;\n",
       "    }\n",
       "\n",
       "    .dataframe tbody tr th {\n",
       "        vertical-align: top;\n",
       "    }\n",
       "\n",
       "    .dataframe thead th {\n",
       "        text-align: right;\n",
       "    }\n",
       "</style>\n",
       "<table border=\"1\" class=\"dataframe\">\n",
       "  <thead>\n",
       "    <tr style=\"text-align: right;\">\n",
       "      <th></th>\n",
       "      <th>point</th>\n",
       "      <th>longitude</th>\n",
       "      <th>latitude</th>\n",
       "    </tr>\n",
       "  </thead>\n",
       "  <tbody>\n",
       "    <tr>\n",
       "      <th>9</th>\n",
       "      <td>(-22.9408899, -43.3422564, 0.0)</td>\n",
       "      <td>-43.342256</td>\n",
       "      <td>-22.940890</td>\n",
       "    </tr>\n",
       "    <tr>\n",
       "      <th>10</th>\n",
       "      <td>(-22.928988, -43.3534191, 0.0)</td>\n",
       "      <td>-43.353419</td>\n",
       "      <td>-22.928988</td>\n",
       "    </tr>\n",
       "    <tr>\n",
       "      <th>14</th>\n",
       "      <td>(-22.9408899, -43.3422564, 0.0)</td>\n",
       "      <td>-43.342256</td>\n",
       "      <td>-22.940890</td>\n",
       "    </tr>\n",
       "    <tr>\n",
       "      <th>33</th>\n",
       "      <td>(-22.928988, -43.3534191, 0.0)</td>\n",
       "      <td>-43.353419</td>\n",
       "      <td>-22.928988</td>\n",
       "    </tr>\n",
       "    <tr>\n",
       "      <th>47</th>\n",
       "      <td>(-22.8326425, -43.2842228, 0.0)</td>\n",
       "      <td>-43.284223</td>\n",
       "      <td>-22.832642</td>\n",
       "    </tr>\n",
       "  </tbody>\n",
       "</table>\n",
       "</div>"
      ],
      "text/plain": [
       "                              point  longitude   latitude\n",
       "9   (-22.9408899, -43.3422564, 0.0) -43.342256 -22.940890\n",
       "10   (-22.928988, -43.3534191, 0.0) -43.353419 -22.928988\n",
       "14  (-22.9408899, -43.3422564, 0.0) -43.342256 -22.940890\n",
       "33   (-22.928988, -43.3534191, 0.0) -43.353419 -22.928988\n",
       "47  (-22.8326425, -43.2842228, 0.0) -43.284223 -22.832642"
      ]
     },
     "execution_count": 31,
     "metadata": {},
     "output_type": "execute_result"
    }
   ],
   "source": [
    "# Check process\n",
    "point_idx_df.head()"
   ]
  },
  {
   "cell_type": "code",
   "execution_count": 32,
   "metadata": {
    "ExecuteTime": {
     "end_time": "2020-02-20T03:11:31.895094Z",
     "start_time": "2020-02-20T03:11:31.885733Z"
    }
   },
   "outputs": [],
   "source": [
    "# Merging in the missed entries to a copy of the rio1 EDA dataset\n",
    "tmp_df = pd.merge(df, point_idx_df, right_index=True, left_index=True, how=\"left\", suffixes=('_left', '_right'))"
   ]
  },
  {
   "cell_type": "code",
   "execution_count": 33,
   "metadata": {
    "ExecuteTime": {
     "end_time": "2020-02-20T03:11:32.610970Z",
     "start_time": "2020-02-20T03:11:32.593085Z"
    }
   },
   "outputs": [
    {
     "data": {
      "text/html": [
       "<div>\n",
       "<style scoped>\n",
       "    .dataframe tbody tr th:only-of-type {\n",
       "        vertical-align: middle;\n",
       "    }\n",
       "\n",
       "    .dataframe tbody tr th {\n",
       "        vertical-align: top;\n",
       "    }\n",
       "\n",
       "    .dataframe thead th {\n",
       "        text-align: right;\n",
       "    }\n",
       "</style>\n",
       "<table border=\"1\" class=\"dataframe\">\n",
       "  <thead>\n",
       "    <tr style=\"text-align: right;\">\n",
       "      <th></th>\n",
       "      <th>address</th>\n",
       "      <th>areas</th>\n",
       "      <th>bathrooms</th>\n",
       "      <th>bedrooms</th>\n",
       "      <th>parking-spaces</th>\n",
       "      <th>zap_price_pmo</th>\n",
       "      <th>zap_price_cls</th>\n",
       "      <th>zap_price_iptu</th>\n",
       "      <th>r$_pmo</th>\n",
       "      <th>latitude_left</th>\n",
       "      <th>longitude_left</th>\n",
       "      <th>usd_pmo</th>\n",
       "      <th>point</th>\n",
       "      <th>longitude_right</th>\n",
       "      <th>latitude_right</th>\n",
       "    </tr>\n",
       "  </thead>\n",
       "  <tbody>\n",
       "    <tr>\n",
       "      <th>0</th>\n",
       "      <td>Rua João Barros Moreira, Recreio dos Bandeirantes</td>\n",
       "      <td>450 m²</td>\n",
       "      <td>7.0</td>\n",
       "      <td>4.0</td>\n",
       "      <td>3.0</td>\n",
       "      <td>R$ 5.000 /mês</td>\n",
       "      <td>condomínio R$ 1.242</td>\n",
       "      <td>IPTU R$ 481</td>\n",
       "      <td>5000.0</td>\n",
       "      <td>-23.019739</td>\n",
       "      <td>-43.460044</td>\n",
       "      <td>1162.23</td>\n",
       "      <td>NaN</td>\n",
       "      <td>NaN</td>\n",
       "      <td>NaN</td>\n",
       "    </tr>\n",
       "    <tr>\n",
       "      <th>1</th>\n",
       "      <td>Rua João Pinheiro, Piedade</td>\n",
       "      <td>56 m²</td>\n",
       "      <td>2.0</td>\n",
       "      <td>2.0</td>\n",
       "      <td>1.0</td>\n",
       "      <td>R$ 1.300 /mês</td>\n",
       "      <td>condomínio R$ 460</td>\n",
       "      <td>IPTU R$ 60</td>\n",
       "      <td>1300.0</td>\n",
       "      <td>-22.887174</td>\n",
       "      <td>-43.304125</td>\n",
       "      <td>302.18</td>\n",
       "      <td>NaN</td>\n",
       "      <td>NaN</td>\n",
       "      <td>NaN</td>\n",
       "    </tr>\n",
       "    <tr>\n",
       "      <th>2</th>\n",
       "      <td>Estrada dos Bandeirantes, Jacarepaguá</td>\n",
       "      <td>61 m²</td>\n",
       "      <td>2.0</td>\n",
       "      <td>2.0</td>\n",
       "      <td>1.0</td>\n",
       "      <td>R$ 1.380 /mês</td>\n",
       "      <td>condomínio R$ 600</td>\n",
       "      <td>IPTU R$ 89</td>\n",
       "      <td>1380.0</td>\n",
       "      <td>-22.954847</td>\n",
       "      <td>-43.376590</td>\n",
       "      <td>320.78</td>\n",
       "      <td>NaN</td>\n",
       "      <td>NaN</td>\n",
       "      <td>NaN</td>\n",
       "    </tr>\n",
       "    <tr>\n",
       "      <th>3</th>\n",
       "      <td>Rua Mário Covas Júnior, Barra da Tijuca</td>\n",
       "      <td>97 m²</td>\n",
       "      <td>3.0</td>\n",
       "      <td>2.0</td>\n",
       "      <td>1.0</td>\n",
       "      <td>R$ 2.950 /mês</td>\n",
       "      <td>condomínio R$ 852</td>\n",
       "      <td>IPTU R$ 315</td>\n",
       "      <td>2950.0</td>\n",
       "      <td>-23.005646</td>\n",
       "      <td>-43.330188</td>\n",
       "      <td>685.72</td>\n",
       "      <td>NaN</td>\n",
       "      <td>NaN</td>\n",
       "      <td>NaN</td>\n",
       "    </tr>\n",
       "    <tr>\n",
       "      <th>4</th>\n",
       "      <td>Rua Coronel Paulo Malta Rezende, Barra da Tijuca</td>\n",
       "      <td>65 m²</td>\n",
       "      <td>2.0</td>\n",
       "      <td>2.0</td>\n",
       "      <td>1.0</td>\n",
       "      <td>R$ 2.400 /mês</td>\n",
       "      <td>condomínio R$ 809</td>\n",
       "      <td>IPTU R$ 218</td>\n",
       "      <td>2400.0</td>\n",
       "      <td>-23.004934</td>\n",
       "      <td>-43.331217</td>\n",
       "      <td>557.87</td>\n",
       "      <td>NaN</td>\n",
       "      <td>NaN</td>\n",
       "      <td>NaN</td>\n",
       "    </tr>\n",
       "  </tbody>\n",
       "</table>\n",
       "</div>"
      ],
      "text/plain": [
       "                                             address   areas  bathrooms  \\\n",
       "0  Rua João Barros Moreira, Recreio dos Bandeirantes  450 m²        7.0   \n",
       "1                         Rua João Pinheiro, Piedade   56 m²        2.0   \n",
       "2              Estrada dos Bandeirantes, Jacarepaguá   61 m²        2.0   \n",
       "3            Rua Mário Covas Júnior, Barra da Tijuca   97 m²        3.0   \n",
       "4   Rua Coronel Paulo Malta Rezende, Barra da Tijuca   65 m²        2.0   \n",
       "\n",
       "   bedrooms  parking-spaces  zap_price_pmo        zap_price_cls  \\\n",
       "0       4.0             3.0  R$ 5.000 /mês  condomínio R$ 1.242   \n",
       "1       2.0             1.0  R$ 1.300 /mês    condomínio R$ 460   \n",
       "2       2.0             1.0  R$ 1.380 /mês    condomínio R$ 600   \n",
       "3       2.0             1.0  R$ 2.950 /mês    condomínio R$ 852   \n",
       "4       2.0             1.0  R$ 2.400 /mês    condomínio R$ 809   \n",
       "\n",
       "  zap_price_iptu  r$_pmo  latitude_left  longitude_left  usd_pmo point  \\\n",
       "0    IPTU R$ 481  5000.0     -23.019739      -43.460044  1162.23   NaN   \n",
       "1     IPTU R$ 60  1300.0     -22.887174      -43.304125   302.18   NaN   \n",
       "2     IPTU R$ 89  1380.0     -22.954847      -43.376590   320.78   NaN   \n",
       "3    IPTU R$ 315  2950.0     -23.005646      -43.330188   685.72   NaN   \n",
       "4    IPTU R$ 218  2400.0     -23.004934      -43.331217   557.87   NaN   \n",
       "\n",
       "   longitude_right  latitude_right  \n",
       "0              NaN             NaN  \n",
       "1              NaN             NaN  \n",
       "2              NaN             NaN  \n",
       "3              NaN             NaN  \n",
       "4              NaN             NaN  "
      ]
     },
     "execution_count": 33,
     "metadata": {},
     "output_type": "execute_result"
    }
   ],
   "source": [
    "tmp_df.head()"
   ]
  },
  {
   "cell_type": "code",
   "execution_count": 34,
   "metadata": {
    "ExecuteTime": {
     "end_time": "2020-02-20T03:11:53.178243Z",
     "start_time": "2020-02-20T03:11:53.174137Z"
    }
   },
   "outputs": [],
   "source": [
    "# Pull over the \"found\" entry on None for latitude\n",
    "tmp_df['latitude_left'] = np.where(np.isnan(tmp_df['latitude_left']), tmp_df['latitude_right'], tmp_df['latitude_left'])"
   ]
  },
  {
   "cell_type": "code",
   "execution_count": 35,
   "metadata": {
    "ExecuteTime": {
     "end_time": "2020-02-20T03:11:59.588885Z",
     "start_time": "2020-02-20T03:11:59.585340Z"
    }
   },
   "outputs": [],
   "source": [
    "# Pull over the \"found\" entry on None for longitude\n",
    "tmp_df['longitude_left'] = np.where(np.isnan(tmp_df['longitude_left']), tmp_df['longitude_right'], tmp_df['longitude_left'])"
   ]
  },
  {
   "cell_type": "code",
   "execution_count": 36,
   "metadata": {
    "ExecuteTime": {
     "end_time": "2020-02-20T03:12:00.149784Z",
     "start_time": "2020-02-20T03:12:00.124753Z"
    }
   },
   "outputs": [
    {
     "data": {
      "text/html": [
       "<div>\n",
       "<style scoped>\n",
       "    .dataframe tbody tr th:only-of-type {\n",
       "        vertical-align: middle;\n",
       "    }\n",
       "\n",
       "    .dataframe tbody tr th {\n",
       "        vertical-align: top;\n",
       "    }\n",
       "\n",
       "    .dataframe thead th {\n",
       "        text-align: right;\n",
       "    }\n",
       "</style>\n",
       "<table border=\"1\" class=\"dataframe\">\n",
       "  <thead>\n",
       "    <tr style=\"text-align: right;\">\n",
       "      <th></th>\n",
       "      <th>address</th>\n",
       "      <th>areas</th>\n",
       "      <th>bathrooms</th>\n",
       "      <th>bedrooms</th>\n",
       "      <th>parking-spaces</th>\n",
       "      <th>zap_price_pmo</th>\n",
       "      <th>zap_price_cls</th>\n",
       "      <th>zap_price_iptu</th>\n",
       "      <th>r$_pmo</th>\n",
       "      <th>latitude_left</th>\n",
       "      <th>longitude_left</th>\n",
       "      <th>usd_pmo</th>\n",
       "      <th>point</th>\n",
       "      <th>longitude_right</th>\n",
       "      <th>latitude_right</th>\n",
       "    </tr>\n",
       "  </thead>\n",
       "  <tbody>\n",
       "    <tr>\n",
       "      <th>0</th>\n",
       "      <td>Rua João Barros Moreira, Recreio dos Bandeirantes</td>\n",
       "      <td>450 m²</td>\n",
       "      <td>7.0</td>\n",
       "      <td>4.0</td>\n",
       "      <td>3.0</td>\n",
       "      <td>R$ 5.000 /mês</td>\n",
       "      <td>condomínio R$ 1.242</td>\n",
       "      <td>IPTU R$ 481</td>\n",
       "      <td>5000.0</td>\n",
       "      <td>-23.019739</td>\n",
       "      <td>-43.460044</td>\n",
       "      <td>1162.23</td>\n",
       "      <td>NaN</td>\n",
       "      <td>NaN</td>\n",
       "      <td>NaN</td>\n",
       "    </tr>\n",
       "    <tr>\n",
       "      <th>1</th>\n",
       "      <td>Rua João Pinheiro, Piedade</td>\n",
       "      <td>56 m²</td>\n",
       "      <td>2.0</td>\n",
       "      <td>2.0</td>\n",
       "      <td>1.0</td>\n",
       "      <td>R$ 1.300 /mês</td>\n",
       "      <td>condomínio R$ 460</td>\n",
       "      <td>IPTU R$ 60</td>\n",
       "      <td>1300.0</td>\n",
       "      <td>-22.887174</td>\n",
       "      <td>-43.304125</td>\n",
       "      <td>302.18</td>\n",
       "      <td>NaN</td>\n",
       "      <td>NaN</td>\n",
       "      <td>NaN</td>\n",
       "    </tr>\n",
       "    <tr>\n",
       "      <th>2</th>\n",
       "      <td>Estrada dos Bandeirantes, Jacarepaguá</td>\n",
       "      <td>61 m²</td>\n",
       "      <td>2.0</td>\n",
       "      <td>2.0</td>\n",
       "      <td>1.0</td>\n",
       "      <td>R$ 1.380 /mês</td>\n",
       "      <td>condomínio R$ 600</td>\n",
       "      <td>IPTU R$ 89</td>\n",
       "      <td>1380.0</td>\n",
       "      <td>-22.954847</td>\n",
       "      <td>-43.376590</td>\n",
       "      <td>320.78</td>\n",
       "      <td>NaN</td>\n",
       "      <td>NaN</td>\n",
       "      <td>NaN</td>\n",
       "    </tr>\n",
       "    <tr>\n",
       "      <th>3</th>\n",
       "      <td>Rua Mário Covas Júnior, Barra da Tijuca</td>\n",
       "      <td>97 m²</td>\n",
       "      <td>3.0</td>\n",
       "      <td>2.0</td>\n",
       "      <td>1.0</td>\n",
       "      <td>R$ 2.950 /mês</td>\n",
       "      <td>condomínio R$ 852</td>\n",
       "      <td>IPTU R$ 315</td>\n",
       "      <td>2950.0</td>\n",
       "      <td>-23.005646</td>\n",
       "      <td>-43.330188</td>\n",
       "      <td>685.72</td>\n",
       "      <td>NaN</td>\n",
       "      <td>NaN</td>\n",
       "      <td>NaN</td>\n",
       "    </tr>\n",
       "    <tr>\n",
       "      <th>4</th>\n",
       "      <td>Rua Coronel Paulo Malta Rezende, Barra da Tijuca</td>\n",
       "      <td>65 m²</td>\n",
       "      <td>2.0</td>\n",
       "      <td>2.0</td>\n",
       "      <td>1.0</td>\n",
       "      <td>R$ 2.400 /mês</td>\n",
       "      <td>condomínio R$ 809</td>\n",
       "      <td>IPTU R$ 218</td>\n",
       "      <td>2400.0</td>\n",
       "      <td>-23.004934</td>\n",
       "      <td>-43.331217</td>\n",
       "      <td>557.87</td>\n",
       "      <td>NaN</td>\n",
       "      <td>NaN</td>\n",
       "      <td>NaN</td>\n",
       "    </tr>\n",
       "    <tr>\n",
       "      <th>...</th>\n",
       "      <td>...</td>\n",
       "      <td>...</td>\n",
       "      <td>...</td>\n",
       "      <td>...</td>\n",
       "      <td>...</td>\n",
       "      <td>...</td>\n",
       "      <td>...</td>\n",
       "      <td>...</td>\n",
       "      <td>...</td>\n",
       "      <td>...</td>\n",
       "      <td>...</td>\n",
       "      <td>...</td>\n",
       "      <td>...</td>\n",
       "      <td>...</td>\n",
       "      <td>...</td>\n",
       "    </tr>\n",
       "    <tr>\n",
       "      <th>763</th>\n",
       "      <td>Avenida Jaime Poggi, Jacarepaguá</td>\n",
       "      <td>80 m²</td>\n",
       "      <td>2.0</td>\n",
       "      <td>3.0</td>\n",
       "      <td>1.0</td>\n",
       "      <td>R$ 2.200 /mês</td>\n",
       "      <td>condomínio R$ 900</td>\n",
       "      <td>IPTU R$ 150</td>\n",
       "      <td>2200.0</td>\n",
       "      <td>-22.968166</td>\n",
       "      <td>-43.391009</td>\n",
       "      <td>511.38</td>\n",
       "      <td>NaN</td>\n",
       "      <td>NaN</td>\n",
       "      <td>NaN</td>\n",
       "    </tr>\n",
       "    <tr>\n",
       "      <th>764</th>\n",
       "      <td>Rio de Janeiro, Rio de Janeiro</td>\n",
       "      <td>78 m²</td>\n",
       "      <td>2.0</td>\n",
       "      <td>3.0</td>\n",
       "      <td>1.0</td>\n",
       "      <td>R$ 3.000 /mês</td>\n",
       "      <td>condomínio R$ 900</td>\n",
       "      <td>IPTU R$ 100</td>\n",
       "      <td>3000.0</td>\n",
       "      <td>-22.911014</td>\n",
       "      <td>-43.209373</td>\n",
       "      <td>697.34</td>\n",
       "      <td>NaN</td>\n",
       "      <td>NaN</td>\n",
       "      <td>NaN</td>\n",
       "    </tr>\n",
       "    <tr>\n",
       "      <th>765</th>\n",
       "      <td>Rua Severino Ferreira da Costa, Campo Grande</td>\n",
       "      <td>65 m²</td>\n",
       "      <td>1.0</td>\n",
       "      <td>2.0</td>\n",
       "      <td>NaN</td>\n",
       "      <td>R$ 850 /mês</td>\n",
       "      <td>condomínio R$ 250</td>\n",
       "      <td>NaN</td>\n",
       "      <td>850.0</td>\n",
       "      <td>-22.923988</td>\n",
       "      <td>-43.547193</td>\n",
       "      <td>197.58</td>\n",
       "      <td>NaN</td>\n",
       "      <td>NaN</td>\n",
       "      <td>NaN</td>\n",
       "    </tr>\n",
       "    <tr>\n",
       "      <th>766</th>\n",
       "      <td>Estrada do Monteiro, Campo Grande</td>\n",
       "      <td>55 m²</td>\n",
       "      <td>2.0</td>\n",
       "      <td>2.0</td>\n",
       "      <td>1.0</td>\n",
       "      <td>R$ 940 /mês</td>\n",
       "      <td>condomínio R$ 590</td>\n",
       "      <td>IPTU R$ 36</td>\n",
       "      <td>940.0</td>\n",
       "      <td>-22.928051</td>\n",
       "      <td>-43.572791</td>\n",
       "      <td>218.50</td>\n",
       "      <td>NaN</td>\n",
       "      <td>NaN</td>\n",
       "      <td>NaN</td>\n",
       "    </tr>\n",
       "    <tr>\n",
       "      <th>767</th>\n",
       "      <td>Rua Wilfred Penha Borges, Recreio dos Bandeira...</td>\n",
       "      <td>64 m²</td>\n",
       "      <td>NaN</td>\n",
       "      <td>2.0</td>\n",
       "      <td>1.0</td>\n",
       "      <td>R$ 2.200 /mês</td>\n",
       "      <td>condomínio R$ 520</td>\n",
       "      <td>NaN</td>\n",
       "      <td>2200.0</td>\n",
       "      <td>-23.025281</td>\n",
       "      <td>-43.513864</td>\n",
       "      <td>511.38</td>\n",
       "      <td>NaN</td>\n",
       "      <td>NaN</td>\n",
       "      <td>NaN</td>\n",
       "    </tr>\n",
       "  </tbody>\n",
       "</table>\n",
       "<p>768 rows × 15 columns</p>\n",
       "</div>"
      ],
      "text/plain": [
       "                                               address   areas  bathrooms  \\\n",
       "0    Rua João Barros Moreira, Recreio dos Bandeirantes  450 m²        7.0   \n",
       "1                           Rua João Pinheiro, Piedade   56 m²        2.0   \n",
       "2                Estrada dos Bandeirantes, Jacarepaguá   61 m²        2.0   \n",
       "3              Rua Mário Covas Júnior, Barra da Tijuca   97 m²        3.0   \n",
       "4     Rua Coronel Paulo Malta Rezende, Barra da Tijuca   65 m²        2.0   \n",
       "..                                                 ...     ...        ...   \n",
       "763                   Avenida Jaime Poggi, Jacarepaguá   80 m²        2.0   \n",
       "764                     Rio de Janeiro, Rio de Janeiro   78 m²        2.0   \n",
       "765       Rua Severino Ferreira da Costa, Campo Grande   65 m²        1.0   \n",
       "766                  Estrada do Monteiro, Campo Grande   55 m²        2.0   \n",
       "767  Rua Wilfred Penha Borges, Recreio dos Bandeira...   64 m²        NaN   \n",
       "\n",
       "     bedrooms  parking-spaces  zap_price_pmo        zap_price_cls  \\\n",
       "0         4.0             3.0  R$ 5.000 /mês  condomínio R$ 1.242   \n",
       "1         2.0             1.0  R$ 1.300 /mês    condomínio R$ 460   \n",
       "2         2.0             1.0  R$ 1.380 /mês    condomínio R$ 600   \n",
       "3         2.0             1.0  R$ 2.950 /mês    condomínio R$ 852   \n",
       "4         2.0             1.0  R$ 2.400 /mês    condomínio R$ 809   \n",
       "..        ...             ...            ...                  ...   \n",
       "763       3.0             1.0  R$ 2.200 /mês    condomínio R$ 900   \n",
       "764       3.0             1.0  R$ 3.000 /mês    condomínio R$ 900   \n",
       "765       2.0             NaN    R$ 850 /mês    condomínio R$ 250   \n",
       "766       2.0             1.0    R$ 940 /mês    condomínio R$ 590   \n",
       "767       2.0             1.0  R$ 2.200 /mês    condomínio R$ 520   \n",
       "\n",
       "    zap_price_iptu  r$_pmo  latitude_left  longitude_left  usd_pmo point  \\\n",
       "0      IPTU R$ 481  5000.0     -23.019739      -43.460044  1162.23   NaN   \n",
       "1       IPTU R$ 60  1300.0     -22.887174      -43.304125   302.18   NaN   \n",
       "2       IPTU R$ 89  1380.0     -22.954847      -43.376590   320.78   NaN   \n",
       "3      IPTU R$ 315  2950.0     -23.005646      -43.330188   685.72   NaN   \n",
       "4      IPTU R$ 218  2400.0     -23.004934      -43.331217   557.87   NaN   \n",
       "..             ...     ...            ...             ...      ...   ...   \n",
       "763    IPTU R$ 150  2200.0     -22.968166      -43.391009   511.38   NaN   \n",
       "764    IPTU R$ 100  3000.0     -22.911014      -43.209373   697.34   NaN   \n",
       "765            NaN   850.0     -22.923988      -43.547193   197.58   NaN   \n",
       "766     IPTU R$ 36   940.0     -22.928051      -43.572791   218.50   NaN   \n",
       "767            NaN  2200.0     -23.025281      -43.513864   511.38   NaN   \n",
       "\n",
       "     longitude_right  latitude_right  \n",
       "0                NaN             NaN  \n",
       "1                NaN             NaN  \n",
       "2                NaN             NaN  \n",
       "3                NaN             NaN  \n",
       "4                NaN             NaN  \n",
       "..               ...             ...  \n",
       "763              NaN             NaN  \n",
       "764              NaN             NaN  \n",
       "765              NaN             NaN  \n",
       "766              NaN             NaN  \n",
       "767              NaN             NaN  \n",
       "\n",
       "[768 rows x 15 columns]"
      ]
     },
     "execution_count": 36,
     "metadata": {},
     "output_type": "execute_result"
    }
   ],
   "source": [
    "# Check process\n",
    "tmp_df"
   ]
  },
  {
   "cell_type": "code",
   "execution_count": 37,
   "metadata": {
    "ExecuteTime": {
     "end_time": "2020-02-20T03:12:34.080608Z",
     "start_time": "2020-02-20T03:12:34.058432Z"
    }
   },
   "outputs": [
    {
     "data": {
      "text/html": [
       "<div>\n",
       "<style scoped>\n",
       "    .dataframe tbody tr th:only-of-type {\n",
       "        vertical-align: middle;\n",
       "    }\n",
       "\n",
       "    .dataframe tbody tr th {\n",
       "        vertical-align: top;\n",
       "    }\n",
       "\n",
       "    .dataframe thead th {\n",
       "        text-align: right;\n",
       "    }\n",
       "</style>\n",
       "<table border=\"1\" class=\"dataframe\">\n",
       "  <thead>\n",
       "    <tr style=\"text-align: right;\">\n",
       "      <th></th>\n",
       "      <th>address</th>\n",
       "      <th>areas</th>\n",
       "      <th>bathrooms</th>\n",
       "      <th>bedrooms</th>\n",
       "      <th>parking-spaces</th>\n",
       "      <th>zap_price_pmo</th>\n",
       "      <th>zap_price_cls</th>\n",
       "      <th>zap_price_iptu</th>\n",
       "      <th>r$_pmo</th>\n",
       "      <th>latitude_left</th>\n",
       "      <th>longitude_left</th>\n",
       "      <th>usd_pmo</th>\n",
       "    </tr>\n",
       "  </thead>\n",
       "  <tbody>\n",
       "    <tr>\n",
       "      <th>0</th>\n",
       "      <td>Rua João Barros Moreira, Recreio dos Bandeirantes</td>\n",
       "      <td>450 m²</td>\n",
       "      <td>7.0</td>\n",
       "      <td>4.0</td>\n",
       "      <td>3.0</td>\n",
       "      <td>R$ 5.000 /mês</td>\n",
       "      <td>condomínio R$ 1.242</td>\n",
       "      <td>IPTU R$ 481</td>\n",
       "      <td>5000.0</td>\n",
       "      <td>-23.019739</td>\n",
       "      <td>-43.460044</td>\n",
       "      <td>1162.23</td>\n",
       "    </tr>\n",
       "    <tr>\n",
       "      <th>1</th>\n",
       "      <td>Rua João Pinheiro, Piedade</td>\n",
       "      <td>56 m²</td>\n",
       "      <td>2.0</td>\n",
       "      <td>2.0</td>\n",
       "      <td>1.0</td>\n",
       "      <td>R$ 1.300 /mês</td>\n",
       "      <td>condomínio R$ 460</td>\n",
       "      <td>IPTU R$ 60</td>\n",
       "      <td>1300.0</td>\n",
       "      <td>-22.887174</td>\n",
       "      <td>-43.304125</td>\n",
       "      <td>302.18</td>\n",
       "    </tr>\n",
       "    <tr>\n",
       "      <th>2</th>\n",
       "      <td>Estrada dos Bandeirantes, Jacarepaguá</td>\n",
       "      <td>61 m²</td>\n",
       "      <td>2.0</td>\n",
       "      <td>2.0</td>\n",
       "      <td>1.0</td>\n",
       "      <td>R$ 1.380 /mês</td>\n",
       "      <td>condomínio R$ 600</td>\n",
       "      <td>IPTU R$ 89</td>\n",
       "      <td>1380.0</td>\n",
       "      <td>-22.954847</td>\n",
       "      <td>-43.376590</td>\n",
       "      <td>320.78</td>\n",
       "    </tr>\n",
       "    <tr>\n",
       "      <th>3</th>\n",
       "      <td>Rua Mário Covas Júnior, Barra da Tijuca</td>\n",
       "      <td>97 m²</td>\n",
       "      <td>3.0</td>\n",
       "      <td>2.0</td>\n",
       "      <td>1.0</td>\n",
       "      <td>R$ 2.950 /mês</td>\n",
       "      <td>condomínio R$ 852</td>\n",
       "      <td>IPTU R$ 315</td>\n",
       "      <td>2950.0</td>\n",
       "      <td>-23.005646</td>\n",
       "      <td>-43.330188</td>\n",
       "      <td>685.72</td>\n",
       "    </tr>\n",
       "    <tr>\n",
       "      <th>4</th>\n",
       "      <td>Rua Coronel Paulo Malta Rezende, Barra da Tijuca</td>\n",
       "      <td>65 m²</td>\n",
       "      <td>2.0</td>\n",
       "      <td>2.0</td>\n",
       "      <td>1.0</td>\n",
       "      <td>R$ 2.400 /mês</td>\n",
       "      <td>condomínio R$ 809</td>\n",
       "      <td>IPTU R$ 218</td>\n",
       "      <td>2400.0</td>\n",
       "      <td>-23.004934</td>\n",
       "      <td>-43.331217</td>\n",
       "      <td>557.87</td>\n",
       "    </tr>\n",
       "    <tr>\n",
       "      <th>...</th>\n",
       "      <td>...</td>\n",
       "      <td>...</td>\n",
       "      <td>...</td>\n",
       "      <td>...</td>\n",
       "      <td>...</td>\n",
       "      <td>...</td>\n",
       "      <td>...</td>\n",
       "      <td>...</td>\n",
       "      <td>...</td>\n",
       "      <td>...</td>\n",
       "      <td>...</td>\n",
       "      <td>...</td>\n",
       "    </tr>\n",
       "    <tr>\n",
       "      <th>763</th>\n",
       "      <td>Avenida Jaime Poggi, Jacarepaguá</td>\n",
       "      <td>80 m²</td>\n",
       "      <td>2.0</td>\n",
       "      <td>3.0</td>\n",
       "      <td>1.0</td>\n",
       "      <td>R$ 2.200 /mês</td>\n",
       "      <td>condomínio R$ 900</td>\n",
       "      <td>IPTU R$ 150</td>\n",
       "      <td>2200.0</td>\n",
       "      <td>-22.968166</td>\n",
       "      <td>-43.391009</td>\n",
       "      <td>511.38</td>\n",
       "    </tr>\n",
       "    <tr>\n",
       "      <th>764</th>\n",
       "      <td>Rio de Janeiro, Rio de Janeiro</td>\n",
       "      <td>78 m²</td>\n",
       "      <td>2.0</td>\n",
       "      <td>3.0</td>\n",
       "      <td>1.0</td>\n",
       "      <td>R$ 3.000 /mês</td>\n",
       "      <td>condomínio R$ 900</td>\n",
       "      <td>IPTU R$ 100</td>\n",
       "      <td>3000.0</td>\n",
       "      <td>-22.911014</td>\n",
       "      <td>-43.209373</td>\n",
       "      <td>697.34</td>\n",
       "    </tr>\n",
       "    <tr>\n",
       "      <th>765</th>\n",
       "      <td>Rua Severino Ferreira da Costa, Campo Grande</td>\n",
       "      <td>65 m²</td>\n",
       "      <td>1.0</td>\n",
       "      <td>2.0</td>\n",
       "      <td>NaN</td>\n",
       "      <td>R$ 850 /mês</td>\n",
       "      <td>condomínio R$ 250</td>\n",
       "      <td>NaN</td>\n",
       "      <td>850.0</td>\n",
       "      <td>-22.923988</td>\n",
       "      <td>-43.547193</td>\n",
       "      <td>197.58</td>\n",
       "    </tr>\n",
       "    <tr>\n",
       "      <th>766</th>\n",
       "      <td>Estrada do Monteiro, Campo Grande</td>\n",
       "      <td>55 m²</td>\n",
       "      <td>2.0</td>\n",
       "      <td>2.0</td>\n",
       "      <td>1.0</td>\n",
       "      <td>R$ 940 /mês</td>\n",
       "      <td>condomínio R$ 590</td>\n",
       "      <td>IPTU R$ 36</td>\n",
       "      <td>940.0</td>\n",
       "      <td>-22.928051</td>\n",
       "      <td>-43.572791</td>\n",
       "      <td>218.50</td>\n",
       "    </tr>\n",
       "    <tr>\n",
       "      <th>767</th>\n",
       "      <td>Rua Wilfred Penha Borges, Recreio dos Bandeira...</td>\n",
       "      <td>64 m²</td>\n",
       "      <td>NaN</td>\n",
       "      <td>2.0</td>\n",
       "      <td>1.0</td>\n",
       "      <td>R$ 2.200 /mês</td>\n",
       "      <td>condomínio R$ 520</td>\n",
       "      <td>NaN</td>\n",
       "      <td>2200.0</td>\n",
       "      <td>-23.025281</td>\n",
       "      <td>-43.513864</td>\n",
       "      <td>511.38</td>\n",
       "    </tr>\n",
       "  </tbody>\n",
       "</table>\n",
       "<p>768 rows × 12 columns</p>\n",
       "</div>"
      ],
      "text/plain": [
       "                                               address   areas  bathrooms  \\\n",
       "0    Rua João Barros Moreira, Recreio dos Bandeirantes  450 m²        7.0   \n",
       "1                           Rua João Pinheiro, Piedade   56 m²        2.0   \n",
       "2                Estrada dos Bandeirantes, Jacarepaguá   61 m²        2.0   \n",
       "3              Rua Mário Covas Júnior, Barra da Tijuca   97 m²        3.0   \n",
       "4     Rua Coronel Paulo Malta Rezende, Barra da Tijuca   65 m²        2.0   \n",
       "..                                                 ...     ...        ...   \n",
       "763                   Avenida Jaime Poggi, Jacarepaguá   80 m²        2.0   \n",
       "764                     Rio de Janeiro, Rio de Janeiro   78 m²        2.0   \n",
       "765       Rua Severino Ferreira da Costa, Campo Grande   65 m²        1.0   \n",
       "766                  Estrada do Monteiro, Campo Grande   55 m²        2.0   \n",
       "767  Rua Wilfred Penha Borges, Recreio dos Bandeira...   64 m²        NaN   \n",
       "\n",
       "     bedrooms  parking-spaces  zap_price_pmo        zap_price_cls  \\\n",
       "0         4.0             3.0  R$ 5.000 /mês  condomínio R$ 1.242   \n",
       "1         2.0             1.0  R$ 1.300 /mês    condomínio R$ 460   \n",
       "2         2.0             1.0  R$ 1.380 /mês    condomínio R$ 600   \n",
       "3         2.0             1.0  R$ 2.950 /mês    condomínio R$ 852   \n",
       "4         2.0             1.0  R$ 2.400 /mês    condomínio R$ 809   \n",
       "..        ...             ...            ...                  ...   \n",
       "763       3.0             1.0  R$ 2.200 /mês    condomínio R$ 900   \n",
       "764       3.0             1.0  R$ 3.000 /mês    condomínio R$ 900   \n",
       "765       2.0             NaN    R$ 850 /mês    condomínio R$ 250   \n",
       "766       2.0             1.0    R$ 940 /mês    condomínio R$ 590   \n",
       "767       2.0             1.0  R$ 2.200 /mês    condomínio R$ 520   \n",
       "\n",
       "    zap_price_iptu  r$_pmo  latitude_left  longitude_left  usd_pmo  \n",
       "0      IPTU R$ 481  5000.0     -23.019739      -43.460044  1162.23  \n",
       "1       IPTU R$ 60  1300.0     -22.887174      -43.304125   302.18  \n",
       "2       IPTU R$ 89  1380.0     -22.954847      -43.376590   320.78  \n",
       "3      IPTU R$ 315  2950.0     -23.005646      -43.330188   685.72  \n",
       "4      IPTU R$ 218  2400.0     -23.004934      -43.331217   557.87  \n",
       "..             ...     ...            ...             ...      ...  \n",
       "763    IPTU R$ 150  2200.0     -22.968166      -43.391009   511.38  \n",
       "764    IPTU R$ 100  3000.0     -22.911014      -43.209373   697.34  \n",
       "765            NaN   850.0     -22.923988      -43.547193   197.58  \n",
       "766     IPTU R$ 36   940.0     -22.928051      -43.572791   218.50  \n",
       "767            NaN  2200.0     -23.025281      -43.513864   511.38  \n",
       "\n",
       "[768 rows x 12 columns]"
      ]
     },
     "execution_count": 37,
     "metadata": {},
     "output_type": "execute_result"
    }
   ],
   "source": [
    "# Drop merge columns\n",
    "tmp_df[tmp_df.columns.drop(['point', 'longitude_right', 'latitude_right'])]"
   ]
  },
  {
   "cell_type": "code",
   "execution_count": 39,
   "metadata": {
    "ExecuteTime": {
     "end_time": "2020-02-20T03:13:15.790982Z",
     "start_time": "2020-02-20T03:13:15.786492Z"
    }
   },
   "outputs": [],
   "source": [
    "tmp_df.rename(columns={'latitude_left':'latitude',\n",
    "                       'longitude_left':'longitude'},\n",
    "                       inplace=True)"
   ]
  },
  {
   "cell_type": "code",
   "execution_count": null,
   "metadata": {
    "ExecuteTime": {
     "end_time": "2020-02-16T16:37:07.867128Z",
     "start_time": "2020-02-16T16:37:07.733365Z"
    }
   },
   "outputs": [],
   "source": [
    "# Serialize what I have got\n",
    "tmp_df.to_csv('./rio1_data_768.csv', encoding='utf-8', index=False)"
   ]
  }
 ],
 "metadata": {
  "kernelspec": {
   "display_name": "Python [conda env:dsi]",
   "language": "python",
   "name": "conda-env-dsi-py"
  },
  "language_info": {
   "codemirror_mode": {
    "name": "ipython",
    "version": 3
   },
   "file_extension": ".py",
   "mimetype": "text/x-python",
   "name": "python",
   "nbconvert_exporter": "python",
   "pygments_lexer": "ipython3",
   "version": "3.7.3"
  }
 },
 "nbformat": 4,
 "nbformat_minor": 2
}
