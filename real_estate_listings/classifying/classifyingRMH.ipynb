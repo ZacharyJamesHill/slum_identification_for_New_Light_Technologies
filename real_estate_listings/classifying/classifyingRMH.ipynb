{
 "cells": [
  {
   "cell_type": "code",
   "execution_count": 2,
   "metadata": {},
   "outputs": [],
   "source": [
    "import numpy as np\n",
    "import pandas as pd\n",
    "from is_slum2 import get_slum_val"
   ]
  },
  {
   "cell_type": "code",
   "execution_count": 4,
   "metadata": {},
   "outputs": [],
   "source": [
    "%%capture\n",
    "from tqdm.notebook import tqdm\n",
    "tqdm().pandas()"
   ]
  },
  {
   "cell_type": "code",
   "execution_count": 5,
   "metadata": {},
   "outputs": [],
   "source": [
    "rio = pd.read_csv('../data/rio/cleaned_2.csv')\n",
    "mumbai1 = pd.read_csv('../data/mumbai/cleaned_housing.com.csv')\n",
    "mumbai2 = pd.read_csv('../data/mumbai/cleaned_99acres.com.csv')\n",
    "mumbai = pd.concat([mumbai1[['lat', 'lng', 'price', 'coord']],\n",
    "                    mumbai2[['lat', 'lng', 'price_per_month', 'coord']\n",
    "                    ].rename(columns={'price_per_month':'price'})]).rename(\n",
    "                             columns={'lat':'latitude','lng':'longitude'})\n",
    "hyderabad = pd.read_csv('../data/hyderabad/cleaned.csv')\n",
    "chennai = pd.read_csv('../data/chennai/cleaned.csv')"
   ]
  },
  {
   "cell_type": "code",
   "execution_count": 6,
   "metadata": {},
   "outputs": [],
   "source": [
    "def Prepare(df):\n",
    "    df['coord'] = list(zip(df['latitude'], df['longitude']))\n",
    "    df.drop(columns=['latitude', 'longitude'], inplace=True)\n",
    "    print(df.duplicated().sum(), 'duplicates dropped.')\n",
    "    df.drop_duplicates(inplace=True)\n",
    "    return df"
   ]
  },
  {
   "cell_type": "code",
   "execution_count": 7,
   "metadata": {},
   "outputs": [
    {
     "name": "stdout",
     "output_type": "stream",
     "text": [
      "137 duplicates dropped.\n"
     ]
    }
   ],
   "source": [
    "rio = Prepare(rio)"
   ]
  },
  {
   "cell_type": "code",
   "execution_count": 8,
   "metadata": {},
   "outputs": [
    {
     "name": "stdout",
     "output_type": "stream",
     "text": [
      "7409 duplicates dropped.\n"
     ]
    }
   ],
   "source": [
    "mumbai = Prepare(mumbai)"
   ]
  },
  {
   "cell_type": "code",
   "execution_count": 9,
   "metadata": {},
   "outputs": [
    {
     "name": "stdout",
     "output_type": "stream",
     "text": [
      "33 duplicates dropped.\n"
     ]
    }
   ],
   "source": [
    "hyderabad = Prepare(hyderabad)"
   ]
  },
  {
   "cell_type": "code",
   "execution_count": 26,
   "metadata": {},
   "outputs": [],
   "source": [
    "def convert_lak_price(x):\n",
    "    if x < 1000: return 100000*x\n",
    "    else: return x\n",
    "mumbai['price'] = mumbai['price'].apply(convert_lak_price)"
   ]
  },
  {
   "cell_type": "markdown",
   "metadata": {},
   "source": [
    "### Classifying"
   ]
  },
  {
   "cell_type": "code",
   "execution_count": 28,
   "metadata": {},
   "outputs": [],
   "source": [
    "def get_classes(df, city):\n",
    "    class_map = dict()\n",
    "    uniques = list(set(df['coord']))\n",
    "    for coord in tqdm(uniques):\n",
    "        try: class_map[coord] = get_slum_val(city, (coord[0], coord[1]))\n",
    "        except: class_map[coord] = np.nan\n",
    "    print(len(uniques), 'unique locations classified. mapping back to dataset...')\n",
    "    df['class'] = df.coord.progress_apply(lambda x: class_map[x])\n",
    "    print('COMPLETE. saving to CSV...')\n",
    "    df.to_csv(f'classified_{city}.csv', index=False)\n",
    "    print('saved. value counts:', df['class'].value_counts(normalize=True).values)"
   ]
  },
  {
   "cell_type": "code",
   "execution_count": 29,
   "metadata": {},
   "outputs": [
    {
     "data": {
      "application/vnd.jupyter.widget-view+json": {
       "model_id": "e9224450071342bfb47d42fac6c19003",
       "version_major": 2,
       "version_minor": 0
      },
      "text/plain": [
       "HBox(children=(FloatProgress(value=0.0, max=1617.0), HTML(value='')))"
      ]
     },
     "metadata": {},
     "output_type": "display_data"
    },
    {
     "name": "stdout",
     "output_type": "stream",
     "text": [
      "\n",
      "1617 unique locations classified. mapping back to dataset...\n"
     ]
    },
    {
     "data": {
      "application/vnd.jupyter.widget-view+json": {
       "model_id": "0fa10ae42a6a475a99689e6a51bec1f9",
       "version_major": 2,
       "version_minor": 0
      },
      "text/plain": [
       "HBox(children=(FloatProgress(value=0.0, max=7541.0), HTML(value='')))"
      ]
     },
     "metadata": {},
     "output_type": "display_data"
    },
    {
     "name": "stdout",
     "output_type": "stream",
     "text": [
      "\n",
      "COMPLETE. saving to CSV...\n",
      "saved. value counts: [0.95574163 0.04425837]\n"
     ]
    }
   ],
   "source": [
    "get_classes(rio, 'rio')"
   ]
  },
  {
   "cell_type": "code",
   "execution_count": null,
   "metadata": {},
   "outputs": [
    {
     "data": {
      "application/vnd.jupyter.widget-view+json": {
       "model_id": "c27cffc62ece4cc9be2cb4e0a486ddc2",
       "version_major": 2,
       "version_minor": 0
      },
      "text/plain": [
       "HBox(children=(FloatProgress(value=0.0, max=3649.0), HTML(value='')))"
      ]
     },
     "metadata": {},
     "output_type": "display_data"
    }
   ],
   "source": [
    "get_classes(mumbai, 'mumbai')"
   ]
  },
  {
   "cell_type": "code",
   "execution_count": null,
   "metadata": {},
   "outputs": [],
   "source": [
    "get_classes(hyderabad, 'hyderabad')"
   ]
  },
  {
   "cell_type": "code",
   "execution_count": null,
   "metadata": {},
   "outputs": [],
   "source": []
  }
 ],
 "metadata": {
  "kernelspec": {
   "display_name": "Python 3",
   "language": "python",
   "name": "python3"
  },
  "language_info": {
   "codemirror_mode": {
    "name": "ipython",
    "version": 3
   },
   "file_extension": ".py",
   "mimetype": "text/x-python",
   "name": "python",
   "nbconvert_exporter": "python",
   "pygments_lexer": "ipython3",
   "version": "3.7.5"
  }
 },
 "nbformat": 4,
 "nbformat_minor": 2
}
