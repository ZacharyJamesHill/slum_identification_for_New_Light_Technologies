{
 "cells": [
  {
   "cell_type": "code",
   "execution_count": 16,
   "metadata": {},
   "outputs": [],
   "source": [
    "import time\n",
    "import numpy as np\n",
    "import pandas as pd\n",
    "from selenium import webdriver\n",
    "from selenium.webdriver.chrome.options import Options"
   ]
  },
  {
   "cell_type": "code",
   "execution_count": 17,
   "metadata": {},
   "outputs": [
    {
     "data": {
      "text/plain": [
       "['Mozilla/5.0 (Windows NT 10.0; Win64; x64) AppleWebKit/537.36 (KHTML, like Gecko) Chrome/74.0.3729.169 Safari/537.36',\n",
       " 'Mozilla/5.0 (Windows NT 10.0; WOW64) AppleWebKit/537.36 (KHTML, like Gecko) Chrome/72.0.3626.121 Safari/537.36',\n",
       " 'Mozilla/5.0 (Windows NT 10.0; Win64; x64) AppleWebKit/537.36 (KHTML, like Gecko) Chrome/74.0.3729.157 Safari/537.36',\n",
       " 'Mozilla/5.0 (Windows NT 10.0; Win64; x64) AppleWebKit/537.36 (KHTML, like Gecko) Chrome/60.0.3112.113 Safari/537.36',\n",
       " 'Mozilla/5.0 (Windows NT 6.1; Win64; x64) AppleWebKit/537.36 (KHTML, like Gecko) Chrome/60.0.3112.90 Safari/537.36']"
      ]
     },
     "execution_count": 17,
     "metadata": {},
     "output_type": "execute_result"
    }
   ],
   "source": [
    "# read in user agents (pre-scraped)\n",
    "user_agents = list(pd.read_csv('../user_agents.csv')['0'].values)\n",
    "user_agents[:5]"
   ]
  },
  {
   "cell_type": "code",
   "execution_count": 18,
   "metadata": {},
   "outputs": [],
   "source": [
    "# define autosave function\n",
    "def autoSave(html):\n",
    "    save_time = time.strftime(\"_%H_%M\", time.localtime(time.time()))\n",
    "    save_file = open(f\"HYDERABAD_autosave{save_time}.txt\", \"w\")  # <---------- change city name\n",
    "    n = save_file.write(html)\n",
    "    print(f'autosaved at {save_time}')\n",
    "    save_file.close()"
   ]
  },
  {
   "cell_type": "markdown",
   "metadata": {},
   "source": [
    "### scrape:"
   ]
  },
  {
   "cell_type": "code",
   "execution_count": null,
   "metadata": {},
   "outputs": [],
   "source": [
    "page_count = 975\n",
    "\n",
    "# launch driver with random agent\n",
    "opts = Options()\n",
    "agent = np.random.choice(user_agents)\n",
    "opts.add_argument(f\"user-agent={agent}\")\n",
    "driver = webdriver.Chrome(options=opts)\n",
    "\n",
    "html = '' # string to save to larger string\n",
    "\n",
    "for i in range(363, page_count):\n",
    "    \n",
    "    time.sleep(2)\n",
    "    \n",
    "    if i%50==0: print(f'{i} pages — html: {len(html)}') # print progress every n pages\n",
    "    \n",
    "    try:\n",
    "        driver.quit()\n",
    "        agent = np.random.choice(user_agents)\n",
    "        opts.add_argument(f\"user-agent={agent}\")\n",
    "        driver = webdriver.Chrome(options=opts) # cycle user agent\n",
    "        driver.set_window_size(300, 700)\n",
    "\n",
    "        url = f'https://www.magicbricks.com/property-for-rent-in-new-delhi-pppfr/page-{i}' # <--– city URL here\n",
    "        driver.get(url)\n",
    "        time.sleep(3)\n",
    "        html = ' '.join([html, driver.page_source]) # store page_html\n",
    "    \n",
    "    except:\n",
    "        autoSave(html) # if error, autosave...\n",
    "        print(f'ERROR at page {i}.') # ...print error and move on\n",
    "    \n",
    "    if i%50==0: autoSave(html) # autosave every 25 pages (adjust this number...)\n",
    "autoSave(html)"
   ]
  },
  {
   "cell_type": "code",
   "execution_count": null,
   "metadata": {},
   "outputs": [],
   "source": [
    "page_count = 988\n",
    "\n",
    "# launch driver with random agent\n",
    "opts = Options()\n",
    "agent = np.random.choice(user_agents)\n",
    "opts.add_argument(f\"user-agent={agent}\")\n",
    "driver = webdriver.Chrome(options=opts)\n",
    "\n",
    "html = '' # string to save to larger string\n",
    "\n",
    "for i in range(363, page_count):\n",
    "    \n",
    "    time.sleep(2)\n",
    "    \n",
    "    if i%50==0: print(f'{i} pages — html: {len(html)}') # print progress every n pages\n",
    "    \n",
    "    try:\n",
    "        driver.quit()\n",
    "        agent = np.random.choice(user_agents)\n",
    "        opts.add_argument(f\"user-agent={agent}\")\n",
    "        driver = webdriver.Chrome(options=opts) # cycle user agent\n",
    "        driver.set_window_size(300, 700)\n",
    "\n",
    "        url = f'https://www.sample-realestate-website.com/Mumbai/page-{i}' # <--– city URL here\n",
    "        driver.get(url)\n",
    "        time.sleep(3)\n",
    "        html = ' '.join([html, driver.page_source]) # add page html to larger string\n",
    "    \n",
    "    except: # if error:\n",
    "        autoSave(html) # autosave\n",
    "        print(f'ERROR at page {i}.') # ...print error and move on\n",
    "    \n",
    "    if i%50==0: autoSave(html) # autosave every 25 pages (adjust this number...)\n",
    "\n",
    "autoSave(html) # save when completed"
   ]
  }
 ],
 "metadata": {
  "kernelspec": {
   "display_name": "Python 3",
   "language": "python",
   "name": "python3"
  },
  "language_info": {
   "codemirror_mode": {
    "name": "ipython",
    "version": 3
   },
   "file_extension": ".py",
   "mimetype": "text/x-python",
   "name": "python",
   "nbconvert_exporter": "python",
   "pygments_lexer": "ipython3",
   "version": "3.7.5"
  }
 },
 "nbformat": 4,
 "nbformat_minor": 4
}
