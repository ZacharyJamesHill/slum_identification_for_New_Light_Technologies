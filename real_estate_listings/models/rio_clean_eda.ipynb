{
 "cells": [
  {
   "cell_type": "code",
   "execution_count": 1,
   "metadata": {
    "ExecuteTime": {
     "end_time": "2020-02-19T16:12:35.051770Z",
     "start_time": "2020-02-19T16:12:33.171636Z"
    }
   },
   "outputs": [],
   "source": [
    "import pandas as pd\n",
    "import numpy as np\n",
    "from is_slum import get_slum_val\n",
    "from sklearn.linear_model import LinearRegression\n",
    "from sklearn.model_selection import train_test_split\n",
    "from sklearn.ensemble import RandomForestClassifier"
   ]
  },
  {
   "cell_type": "code",
   "execution_count": 2,
   "metadata": {
    "ExecuteTime": {
     "end_time": "2020-02-19T16:12:35.070108Z",
     "start_time": "2020-02-19T16:12:35.051770Z"
    }
   },
   "outputs": [
    {
     "data": {
      "text/plain": [
       "0"
      ]
     },
     "execution_count": 2,
     "metadata": {},
     "output_type": "execute_result"
    }
   ],
   "source": [
    "get_slum_val('rio', (-22.73094444, -43.83611111))"
   ]
  },
  {
   "cell_type": "code",
   "execution_count": 3,
   "metadata": {
    "ExecuteTime": {
     "end_time": "2020-02-19T16:12:35.113924Z",
     "start_time": "2020-02-19T16:12:35.073066Z"
    }
   },
   "outputs": [],
   "source": [
    "rio = pd.read_csv('../real_estate_data/rio.csv')"
   ]
  },
  {
   "cell_type": "code",
   "execution_count": 4,
   "metadata": {
    "ExecuteTime": {
     "end_time": "2020-02-19T16:12:35.134943Z",
     "start_time": "2020-02-19T16:12:35.116954Z"
    }
   },
   "outputs": [],
   "source": [
    "rio.dropna(inplace=True)\n",
    "rio.reset_index(inplace=True)"
   ]
  },
  {
   "cell_type": "code",
   "execution_count": 5,
   "metadata": {
    "ExecuteTime": {
     "end_time": "2020-02-19T16:12:44.731929Z",
     "start_time": "2020-02-19T16:12:35.138928Z"
    }
   },
   "outputs": [],
   "source": [
    "temp = []\n",
    "for i in range(len(rio)):\n",
    "    temp.append(get_slum_val('rio', (rio['latitude'][i], rio['longitude'][i])))"
   ]
  },
  {
   "cell_type": "code",
   "execution_count": 6,
   "metadata": {
    "ExecuteTime": {
     "end_time": "2020-02-19T16:12:44.740065Z",
     "start_time": "2020-02-19T16:12:44.731929Z"
    }
   },
   "outputs": [],
   "source": [
    "rio['is_slum'] = temp"
   ]
  },
  {
   "cell_type": "code",
   "execution_count": 7,
   "metadata": {
    "ExecuteTime": {
     "end_time": "2020-02-19T16:12:44.785195Z",
     "start_time": "2020-02-19T16:12:44.742043Z"
    }
   },
   "outputs": [
    {
     "data": {
      "text/html": [
       "<div>\n",
       "<style scoped>\n",
       "    .dataframe tbody tr th:only-of-type {\n",
       "        vertical-align: middle;\n",
       "    }\n",
       "\n",
       "    .dataframe tbody tr th {\n",
       "        vertical-align: top;\n",
       "    }\n",
       "\n",
       "    .dataframe thead th {\n",
       "        text-align: right;\n",
       "    }\n",
       "</style>\n",
       "<table border=\"1\" class=\"dataframe\">\n",
       "  <thead>\n",
       "    <tr style=\"text-align: right;\">\n",
       "      <th></th>\n",
       "      <th>index</th>\n",
       "      <th>address</th>\n",
       "      <th>areas</th>\n",
       "      <th>bathrooms</th>\n",
       "      <th>bedrooms</th>\n",
       "      <th>parking-spaces</th>\n",
       "      <th>zap_price_pmo</th>\n",
       "      <th>zap_price_cls</th>\n",
       "      <th>zap_price_iptu</th>\n",
       "      <th>latitude</th>\n",
       "      <th>longitude</th>\n",
       "      <th>street</th>\n",
       "      <th>neighborhood</th>\n",
       "      <th>r$_pmo</th>\n",
       "      <th>usd_pmo</th>\n",
       "      <th>is_slum</th>\n",
       "    </tr>\n",
       "  </thead>\n",
       "  <tbody>\n",
       "    <tr>\n",
       "      <th>0</th>\n",
       "      <td>0</td>\n",
       "      <td>Rua João Barros Moreira, Recreio dos Bandeirantes</td>\n",
       "      <td>450 m²</td>\n",
       "      <td>7.0</td>\n",
       "      <td>4.0</td>\n",
       "      <td>3.0</td>\n",
       "      <td>R$ 5.000 /mês</td>\n",
       "      <td>condomínio R$ 1.242</td>\n",
       "      <td>IPTU R$ 481</td>\n",
       "      <td>-23.019739</td>\n",
       "      <td>-43.460044</td>\n",
       "      <td>Rua João Barros Moreira</td>\n",
       "      <td>Recreio dos Bandeirantes</td>\n",
       "      <td>5000</td>\n",
       "      <td>1162.23</td>\n",
       "      <td>0</td>\n",
       "    </tr>\n",
       "    <tr>\n",
       "      <th>1</th>\n",
       "      <td>1</td>\n",
       "      <td>Rua João Pinheiro, Piedade</td>\n",
       "      <td>56 m²</td>\n",
       "      <td>2.0</td>\n",
       "      <td>2.0</td>\n",
       "      <td>1.0</td>\n",
       "      <td>R$ 1.300 /mês</td>\n",
       "      <td>condomínio R$ 460</td>\n",
       "      <td>IPTU R$ 60</td>\n",
       "      <td>-22.887174</td>\n",
       "      <td>-43.304125</td>\n",
       "      <td>Rua João Pinheiro</td>\n",
       "      <td>Piedade</td>\n",
       "      <td>1300</td>\n",
       "      <td>302.18</td>\n",
       "      <td>0</td>\n",
       "    </tr>\n",
       "    <tr>\n",
       "      <th>2</th>\n",
       "      <td>2</td>\n",
       "      <td>Estrada dos Bandeirantes, Jacarepaguá</td>\n",
       "      <td>61 m²</td>\n",
       "      <td>2.0</td>\n",
       "      <td>2.0</td>\n",
       "      <td>1.0</td>\n",
       "      <td>R$ 1.380 /mês</td>\n",
       "      <td>condomínio R$ 600</td>\n",
       "      <td>IPTU R$ 89</td>\n",
       "      <td>-22.954847</td>\n",
       "      <td>-43.376590</td>\n",
       "      <td>Estrada dos Bandeirantes</td>\n",
       "      <td>Jacarepaguá</td>\n",
       "      <td>1380</td>\n",
       "      <td>320.78</td>\n",
       "      <td>0</td>\n",
       "    </tr>\n",
       "    <tr>\n",
       "      <th>3</th>\n",
       "      <td>3</td>\n",
       "      <td>Rua Mário Covas Júnior, Barra da Tijuca</td>\n",
       "      <td>97 m²</td>\n",
       "      <td>3.0</td>\n",
       "      <td>2.0</td>\n",
       "      <td>1.0</td>\n",
       "      <td>R$ 2.950 /mês</td>\n",
       "      <td>condomínio R$ 852</td>\n",
       "      <td>IPTU R$ 315</td>\n",
       "      <td>-23.005646</td>\n",
       "      <td>-43.330188</td>\n",
       "      <td>Rua Mário Covas Júnior</td>\n",
       "      <td>Barra da Tijuca</td>\n",
       "      <td>2950</td>\n",
       "      <td>685.72</td>\n",
       "      <td>0</td>\n",
       "    </tr>\n",
       "    <tr>\n",
       "      <th>4</th>\n",
       "      <td>4</td>\n",
       "      <td>Rua Coronel Paulo Malta Rezende, Barra da Tijuca</td>\n",
       "      <td>65 m²</td>\n",
       "      <td>2.0</td>\n",
       "      <td>2.0</td>\n",
       "      <td>1.0</td>\n",
       "      <td>R$ 2.400 /mês</td>\n",
       "      <td>condomínio R$ 809</td>\n",
       "      <td>IPTU R$ 218</td>\n",
       "      <td>-23.004934</td>\n",
       "      <td>-43.331217</td>\n",
       "      <td>Rua Coronel Paulo Malta Rezende</td>\n",
       "      <td>Barra da Tijuca</td>\n",
       "      <td>2400</td>\n",
       "      <td>557.87</td>\n",
       "      <td>0</td>\n",
       "    </tr>\n",
       "  </tbody>\n",
       "</table>\n",
       "</div>"
      ],
      "text/plain": [
       "   index                                            address   areas  \\\n",
       "0      0  Rua João Barros Moreira, Recreio dos Bandeirantes  450 m²   \n",
       "1      1                         Rua João Pinheiro, Piedade   56 m²   \n",
       "2      2              Estrada dos Bandeirantes, Jacarepaguá   61 m²   \n",
       "3      3            Rua Mário Covas Júnior, Barra da Tijuca   97 m²   \n",
       "4      4   Rua Coronel Paulo Malta Rezende, Barra da Tijuca   65 m²   \n",
       "\n",
       "   bathrooms  bedrooms  parking-spaces  zap_price_pmo        zap_price_cls  \\\n",
       "0        7.0       4.0             3.0  R$ 5.000 /mês  condomínio R$ 1.242   \n",
       "1        2.0       2.0             1.0  R$ 1.300 /mês    condomínio R$ 460   \n",
       "2        2.0       2.0             1.0  R$ 1.380 /mês    condomínio R$ 600   \n",
       "3        3.0       2.0             1.0  R$ 2.950 /mês    condomínio R$ 852   \n",
       "4        2.0       2.0             1.0  R$ 2.400 /mês    condomínio R$ 809   \n",
       "\n",
       "  zap_price_iptu   latitude  longitude                           street  \\\n",
       "0    IPTU R$ 481 -23.019739 -43.460044          Rua João Barros Moreira   \n",
       "1     IPTU R$ 60 -22.887174 -43.304125                Rua João Pinheiro   \n",
       "2     IPTU R$ 89 -22.954847 -43.376590         Estrada dos Bandeirantes   \n",
       "3    IPTU R$ 315 -23.005646 -43.330188           Rua Mário Covas Júnior   \n",
       "4    IPTU R$ 218 -23.004934 -43.331217  Rua Coronel Paulo Malta Rezende   \n",
       "\n",
       "                neighborhood  r$_pmo  usd_pmo  is_slum  \n",
       "0   Recreio dos Bandeirantes    5000  1162.23        0  \n",
       "1                    Piedade    1300   302.18        0  \n",
       "2                Jacarepaguá    1380   320.78        0  \n",
       "3            Barra da Tijuca    2950   685.72        0  \n",
       "4            Barra da Tijuca    2400   557.87        0  "
      ]
     },
     "execution_count": 7,
     "metadata": {},
     "output_type": "execute_result"
    }
   ],
   "source": [
    "rio.head()"
   ]
  },
  {
   "cell_type": "code",
   "execution_count": 8,
   "metadata": {
    "ExecuteTime": {
     "end_time": "2020-02-19T16:12:44.803232Z",
     "start_time": "2020-02-19T16:12:44.789198Z"
    }
   },
   "outputs": [],
   "source": [
    "rio.drop(columns='index', inplace=True)"
   ]
  },
  {
   "cell_type": "code",
   "execution_count": 9,
   "metadata": {
    "ExecuteTime": {
     "end_time": "2020-02-19T16:12:44.822239Z",
     "start_time": "2020-02-19T16:12:44.806202Z"
    }
   },
   "outputs": [
    {
     "data": {
      "text/plain": [
       "0    3892\n",
       "1     162\n",
       "Name: is_slum, dtype: int64"
      ]
     },
     "execution_count": 9,
     "metadata": {},
     "output_type": "execute_result"
    }
   ],
   "source": [
    "rio['is_slum'].value_counts()"
   ]
  },
  {
   "cell_type": "code",
   "execution_count": 10,
   "metadata": {
    "ExecuteTime": {
     "end_time": "2020-02-19T16:12:44.853196Z",
     "start_time": "2020-02-19T16:12:44.824193Z"
    }
   },
   "outputs": [],
   "source": [
    "rio = pd.concat([rio, rio[rio['is_slum'] == 1].sample(3730, replace = True)]).reset_index()"
   ]
  },
  {
   "cell_type": "code",
   "execution_count": 11,
   "metadata": {
    "ExecuteTime": {
     "end_time": "2020-02-19T16:12:44.901559Z",
     "start_time": "2020-02-19T16:12:44.856202Z"
    }
   },
   "outputs": [
    {
     "data": {
      "text/html": [
       "<div>\n",
       "<style scoped>\n",
       "    .dataframe tbody tr th:only-of-type {\n",
       "        vertical-align: middle;\n",
       "    }\n",
       "\n",
       "    .dataframe tbody tr th {\n",
       "        vertical-align: top;\n",
       "    }\n",
       "\n",
       "    .dataframe thead th {\n",
       "        text-align: right;\n",
       "    }\n",
       "</style>\n",
       "<table border=\"1\" class=\"dataframe\">\n",
       "  <thead>\n",
       "    <tr style=\"text-align: right;\">\n",
       "      <th></th>\n",
       "      <th>address</th>\n",
       "      <th>areas</th>\n",
       "      <th>bathrooms</th>\n",
       "      <th>bedrooms</th>\n",
       "      <th>parking-spaces</th>\n",
       "      <th>zap_price_pmo</th>\n",
       "      <th>zap_price_cls</th>\n",
       "      <th>zap_price_iptu</th>\n",
       "      <th>latitude</th>\n",
       "      <th>longitude</th>\n",
       "      <th>street</th>\n",
       "      <th>neighborhood</th>\n",
       "      <th>r$_pmo</th>\n",
       "      <th>usd_pmo</th>\n",
       "      <th>is_slum</th>\n",
       "    </tr>\n",
       "  </thead>\n",
       "  <tbody>\n",
       "    <tr>\n",
       "      <th>7779</th>\n",
       "      <td>Rua Pereira Frazão, Praça Seca</td>\n",
       "      <td>75 m²</td>\n",
       "      <td>2.0</td>\n",
       "      <td>2.0</td>\n",
       "      <td>1.0</td>\n",
       "      <td>R$ 1.350 /mês</td>\n",
       "      <td>condomínio R$ 320</td>\n",
       "      <td>IPTU R$ 56</td>\n",
       "      <td>-22.887690</td>\n",
       "      <td>-43.354168</td>\n",
       "      <td>Rua Pereira Frazão</td>\n",
       "      <td>Praça Seca</td>\n",
       "      <td>1350</td>\n",
       "      <td>313.80</td>\n",
       "      <td>1</td>\n",
       "    </tr>\n",
       "    <tr>\n",
       "      <th>7780</th>\n",
       "      <td>Pechincha, Rio de Janeiro</td>\n",
       "      <td>60 m²</td>\n",
       "      <td>1.0</td>\n",
       "      <td>2.0</td>\n",
       "      <td>1.0</td>\n",
       "      <td>R$ 1.100 /mês</td>\n",
       "      <td>condomínio R$ 480</td>\n",
       "      <td>IPTU R$ 84</td>\n",
       "      <td>-22.928988</td>\n",
       "      <td>-43.353419</td>\n",
       "      <td>Pechincha</td>\n",
       "      <td>Rio de Janeiro</td>\n",
       "      <td>1100</td>\n",
       "      <td>255.69</td>\n",
       "      <td>1</td>\n",
       "    </tr>\n",
       "    <tr>\n",
       "      <th>7781</th>\n",
       "      <td>Estrada Pau-ferro, Freguesia (Jacarepaguá)</td>\n",
       "      <td>107 m²</td>\n",
       "      <td>2.0</td>\n",
       "      <td>2.0</td>\n",
       "      <td>1.0</td>\n",
       "      <td>R$ 2.000 /mês</td>\n",
       "      <td>condomínio R$ 1.177</td>\n",
       "      <td>IPTU R$ 1.919</td>\n",
       "      <td>-22.940890</td>\n",
       "      <td>-43.342256</td>\n",
       "      <td>Estrada Pau-ferro</td>\n",
       "      <td>Freguesia (Jacarepaguá)</td>\n",
       "      <td>2000</td>\n",
       "      <td>464.89</td>\n",
       "      <td>1</td>\n",
       "    </tr>\n",
       "    <tr>\n",
       "      <th>7782</th>\n",
       "      <td>Rua Ituverava, Freguesia de Jacarepaguá</td>\n",
       "      <td>154 m²</td>\n",
       "      <td>3.0</td>\n",
       "      <td>3.0</td>\n",
       "      <td>2.0</td>\n",
       "      <td>R$ 3.000 /mês</td>\n",
       "      <td>condomínio R$ 841</td>\n",
       "      <td>IPTU R$ 255</td>\n",
       "      <td>-22.940890</td>\n",
       "      <td>-43.342256</td>\n",
       "      <td>Rua Ituverava</td>\n",
       "      <td>Freguesia de Jacarepaguá</td>\n",
       "      <td>3000</td>\n",
       "      <td>697.34</td>\n",
       "      <td>1</td>\n",
       "    </tr>\n",
       "    <tr>\n",
       "      <th>7783</th>\n",
       "      <td>Rua Maria Paula, Engenho de Dentro</td>\n",
       "      <td>58 m²</td>\n",
       "      <td>2.0</td>\n",
       "      <td>1.0</td>\n",
       "      <td>1.0</td>\n",
       "      <td>R$ 1.000 /mês</td>\n",
       "      <td>condomínio R$ 402</td>\n",
       "      <td>IPTU R$ 384</td>\n",
       "      <td>-22.906853</td>\n",
       "      <td>-43.297981</td>\n",
       "      <td>Rua Maria Paula</td>\n",
       "      <td>Engenho de Dentro</td>\n",
       "      <td>1000</td>\n",
       "      <td>232.45</td>\n",
       "      <td>1</td>\n",
       "    </tr>\n",
       "  </tbody>\n",
       "</table>\n",
       "</div>"
      ],
      "text/plain": [
       "                                         address   areas  bathrooms  bedrooms  \\\n",
       "7779              Rua Pereira Frazão, Praça Seca   75 m²        2.0       2.0   \n",
       "7780                   Pechincha, Rio de Janeiro   60 m²        1.0       2.0   \n",
       "7781  Estrada Pau-ferro, Freguesia (Jacarepaguá)  107 m²        2.0       2.0   \n",
       "7782     Rua Ituverava, Freguesia de Jacarepaguá  154 m²        3.0       3.0   \n",
       "7783          Rua Maria Paula, Engenho de Dentro   58 m²        2.0       1.0   \n",
       "\n",
       "      parking-spaces  zap_price_pmo        zap_price_cls zap_price_iptu  \\\n",
       "7779             1.0  R$ 1.350 /mês    condomínio R$ 320     IPTU R$ 56   \n",
       "7780             1.0  R$ 1.100 /mês    condomínio R$ 480     IPTU R$ 84   \n",
       "7781             1.0  R$ 2.000 /mês  condomínio R$ 1.177  IPTU R$ 1.919   \n",
       "7782             2.0  R$ 3.000 /mês    condomínio R$ 841    IPTU R$ 255   \n",
       "7783             1.0  R$ 1.000 /mês    condomínio R$ 402    IPTU R$ 384   \n",
       "\n",
       "       latitude  longitude              street               neighborhood  \\\n",
       "7779 -22.887690 -43.354168  Rua Pereira Frazão                 Praça Seca   \n",
       "7780 -22.928988 -43.353419           Pechincha             Rio de Janeiro   \n",
       "7781 -22.940890 -43.342256   Estrada Pau-ferro    Freguesia (Jacarepaguá)   \n",
       "7782 -22.940890 -43.342256       Rua Ituverava   Freguesia de Jacarepaguá   \n",
       "7783 -22.906853 -43.297981     Rua Maria Paula          Engenho de Dentro   \n",
       "\n",
       "      r$_pmo  usd_pmo  is_slum  \n",
       "7779    1350   313.80        1  \n",
       "7780    1100   255.69        1  \n",
       "7781    2000   464.89        1  \n",
       "7782    3000   697.34        1  \n",
       "7783    1000   232.45        1  "
      ]
     },
     "execution_count": 11,
     "metadata": {},
     "output_type": "execute_result"
    }
   ],
   "source": [
    "rio.drop(columns='index', inplace=True)\n",
    "rio.tail()"
   ]
  },
  {
   "cell_type": "code",
   "execution_count": 12,
   "metadata": {
    "ExecuteTime": {
     "end_time": "2020-02-19T16:12:44.919386Z",
     "start_time": "2020-02-19T16:12:44.905240Z"
    }
   },
   "outputs": [
    {
     "data": {
      "text/plain": [
       "1    3892\n",
       "0    3892\n",
       "Name: is_slum, dtype: int64"
      ]
     },
     "execution_count": 12,
     "metadata": {},
     "output_type": "execute_result"
    }
   ],
   "source": [
    "rio['is_slum'].value_counts()"
   ]
  },
  {
   "cell_type": "code",
   "execution_count": 13,
   "metadata": {
    "ExecuteTime": {
     "end_time": "2020-02-19T16:12:44.936538Z",
     "start_time": "2020-02-19T16:12:44.919386Z"
    }
   },
   "outputs": [],
   "source": [
    "# rio = pd.get_dummies(rio, columns=['street', 'neighborhood'], drop_first=True)"
   ]
  },
  {
   "cell_type": "code",
   "execution_count": 14,
   "metadata": {
    "ExecuteTime": {
     "end_time": "2020-02-19T16:12:44.968533Z",
     "start_time": "2020-02-19T16:12:44.939520Z"
    }
   },
   "outputs": [
    {
     "data": {
      "text/html": [
       "<div>\n",
       "<style scoped>\n",
       "    .dataframe tbody tr th:only-of-type {\n",
       "        vertical-align: middle;\n",
       "    }\n",
       "\n",
       "    .dataframe tbody tr th {\n",
       "        vertical-align: top;\n",
       "    }\n",
       "\n",
       "    .dataframe thead th {\n",
       "        text-align: right;\n",
       "    }\n",
       "</style>\n",
       "<table border=\"1\" class=\"dataframe\">\n",
       "  <thead>\n",
       "    <tr style=\"text-align: right;\">\n",
       "      <th></th>\n",
       "      <th>address</th>\n",
       "      <th>areas</th>\n",
       "      <th>bathrooms</th>\n",
       "      <th>bedrooms</th>\n",
       "      <th>parking-spaces</th>\n",
       "      <th>zap_price_pmo</th>\n",
       "      <th>zap_price_cls</th>\n",
       "      <th>zap_price_iptu</th>\n",
       "      <th>latitude</th>\n",
       "      <th>longitude</th>\n",
       "      <th>street</th>\n",
       "      <th>neighborhood</th>\n",
       "      <th>r$_pmo</th>\n",
       "      <th>usd_pmo</th>\n",
       "      <th>is_slum</th>\n",
       "    </tr>\n",
       "  </thead>\n",
       "  <tbody>\n",
       "    <tr>\n",
       "      <th>0</th>\n",
       "      <td>Rua João Barros Moreira, Recreio dos Bandeirantes</td>\n",
       "      <td>450 m²</td>\n",
       "      <td>7.0</td>\n",
       "      <td>4.0</td>\n",
       "      <td>3.0</td>\n",
       "      <td>R$ 5.000 /mês</td>\n",
       "      <td>condomínio R$ 1.242</td>\n",
       "      <td>IPTU R$ 481</td>\n",
       "      <td>-23.019739</td>\n",
       "      <td>-43.460044</td>\n",
       "      <td>Rua João Barros Moreira</td>\n",
       "      <td>Recreio dos Bandeirantes</td>\n",
       "      <td>5000</td>\n",
       "      <td>1162.23</td>\n",
       "      <td>0</td>\n",
       "    </tr>\n",
       "    <tr>\n",
       "      <th>1</th>\n",
       "      <td>Rua João Pinheiro, Piedade</td>\n",
       "      <td>56 m²</td>\n",
       "      <td>2.0</td>\n",
       "      <td>2.0</td>\n",
       "      <td>1.0</td>\n",
       "      <td>R$ 1.300 /mês</td>\n",
       "      <td>condomínio R$ 460</td>\n",
       "      <td>IPTU R$ 60</td>\n",
       "      <td>-22.887174</td>\n",
       "      <td>-43.304125</td>\n",
       "      <td>Rua João Pinheiro</td>\n",
       "      <td>Piedade</td>\n",
       "      <td>1300</td>\n",
       "      <td>302.18</td>\n",
       "      <td>0</td>\n",
       "    </tr>\n",
       "  </tbody>\n",
       "</table>\n",
       "</div>"
      ],
      "text/plain": [
       "                                             address   areas  bathrooms  \\\n",
       "0  Rua João Barros Moreira, Recreio dos Bandeirantes  450 m²        7.0   \n",
       "1                         Rua João Pinheiro, Piedade   56 m²        2.0   \n",
       "\n",
       "   bedrooms  parking-spaces  zap_price_pmo        zap_price_cls  \\\n",
       "0       4.0             3.0  R$ 5.000 /mês  condomínio R$ 1.242   \n",
       "1       2.0             1.0  R$ 1.300 /mês    condomínio R$ 460   \n",
       "\n",
       "  zap_price_iptu   latitude  longitude                   street  \\\n",
       "0    IPTU R$ 481 -23.019739 -43.460044  Rua João Barros Moreira   \n",
       "1     IPTU R$ 60 -22.887174 -43.304125        Rua João Pinheiro   \n",
       "\n",
       "                neighborhood  r$_pmo  usd_pmo  is_slum  \n",
       "0   Recreio dos Bandeirantes    5000  1162.23        0  \n",
       "1                    Piedade    1300   302.18        0  "
      ]
     },
     "execution_count": 14,
     "metadata": {},
     "output_type": "execute_result"
    }
   ],
   "source": [
    "rio.head(2)"
   ]
  },
  {
   "cell_type": "code",
   "execution_count": 15,
   "metadata": {
    "ExecuteTime": {
     "end_time": "2020-02-19T16:12:44.995521Z",
     "start_time": "2020-02-19T16:12:44.973538Z"
    }
   },
   "outputs": [
    {
     "data": {
      "text/plain": [
       "0       450\n",
       "1        56\n",
       "2        61\n",
       "3        97\n",
       "4        65\n",
       "       ... \n",
       "7779     75\n",
       "7780     60\n",
       "7781    107\n",
       "7782    154\n",
       "7783     58\n",
       "Name: areas, Length: 7784, dtype: int64"
      ]
     },
     "execution_count": 15,
     "metadata": {},
     "output_type": "execute_result"
    }
   ],
   "source": [
    "rio['areas'] = [int(val[:-3]) for val in rio['areas']]\n",
    "rio['areas']"
   ]
  },
  {
   "cell_type": "code",
   "execution_count": 16,
   "metadata": {
    "ExecuteTime": {
     "end_time": "2020-02-19T16:12:45.014571Z",
     "start_time": "2020-02-19T16:12:44.997540Z"
    }
   },
   "outputs": [
    {
     "data": {
      "text/plain": [
       "['address',\n",
       " 'areas',\n",
       " 'bathrooms',\n",
       " 'bedrooms',\n",
       " 'parking-spaces',\n",
       " 'zap_price_pmo',\n",
       " 'zap_price_cls',\n",
       " 'zap_price_iptu',\n",
       " 'latitude',\n",
       " 'longitude',\n",
       " 'street',\n",
       " 'neighborhood',\n",
       " 'r$_pmo',\n",
       " 'usd_pmo',\n",
       " 'is_slum']"
      ]
     },
     "execution_count": 16,
     "metadata": {},
     "output_type": "execute_result"
    }
   ],
   "source": [
    "list(rio.columns)"
   ]
  },
  {
   "cell_type": "code",
   "execution_count": 20,
   "metadata": {
    "ExecuteTime": {
     "end_time": "2020-02-19T16:13:17.739134Z",
     "start_time": "2020-02-19T16:13:17.733166Z"
    }
   },
   "outputs": [],
   "source": [
    "X = rio.drop(columns=['is_slum','address', 'zap_price_pmo', 'zap_price_cls', 'zap_price_iptu', \n",
    "                     'latitude', 'longitude', 'street', 'neighborhood'])\n",
    "y = rio['is_slum']"
   ]
  },
  {
   "cell_type": "code",
   "execution_count": 27,
   "metadata": {
    "ExecuteTime": {
     "end_time": "2020-02-19T16:14:05.418460Z",
     "start_time": "2020-02-19T16:14:05.411451Z"
    }
   },
   "outputs": [
    {
     "data": {
      "text/plain": [
       "Index(['areas', 'bathrooms', 'bedrooms', 'parking-spaces', 'r$_pmo',\n",
       "       'usd_pmo'],\n",
       "      dtype='object')"
      ]
     },
     "execution_count": 27,
     "metadata": {},
     "output_type": "execute_result"
    }
   ],
   "source": [
    "X.columns"
   ]
  },
  {
   "cell_type": "code",
   "execution_count": 21,
   "metadata": {
    "ExecuteTime": {
     "end_time": "2020-02-19T16:13:18.517301Z",
     "start_time": "2020-02-19T16:13:18.508301Z"
    }
   },
   "outputs": [],
   "source": [
    "X_train, X_test, y_train, y_test = train_test_split(X, y)"
   ]
  },
  {
   "cell_type": "code",
   "execution_count": 22,
   "metadata": {
    "ExecuteTime": {
     "end_time": "2020-02-19T16:13:19.285735Z",
     "start_time": "2020-02-19T16:13:19.274732Z"
    }
   },
   "outputs": [
    {
     "data": {
      "text/plain": [
       "LinearRegression(copy_X=True, fit_intercept=True, n_jobs=None, normalize=False)"
      ]
     },
     "execution_count": 22,
     "metadata": {},
     "output_type": "execute_result"
    }
   ],
   "source": [
    "lr = LinearRegression()\n",
    "lr.fit(X_train, y_train)"
   ]
  },
  {
   "cell_type": "code",
   "execution_count": 23,
   "metadata": {
    "ExecuteTime": {
     "end_time": "2020-02-19T16:13:20.153862Z",
     "start_time": "2020-02-19T16:13:20.142864Z"
    }
   },
   "outputs": [
    {
     "data": {
      "text/plain": [
       "(0.12313187798573455, 0.12186329785292582)"
      ]
     },
     "execution_count": 23,
     "metadata": {},
     "output_type": "execute_result"
    }
   ],
   "source": [
    "lr.score(X_train, y_train), lr.score(X_test, y_test)"
   ]
  },
  {
   "cell_type": "code",
   "execution_count": 24,
   "metadata": {
    "ExecuteTime": {
     "end_time": "2020-02-19T16:13:21.269918Z",
     "start_time": "2020-02-19T16:13:20.908706Z"
    }
   },
   "outputs": [
    {
     "data": {
      "text/plain": [
       "RandomForestClassifier(bootstrap=True, ccp_alpha=0.0, class_weight=None,\n",
       "                       criterion='gini', max_depth=None, max_features='auto',\n",
       "                       max_leaf_nodes=None, max_samples=None,\n",
       "                       min_impurity_decrease=0.0, min_impurity_split=None,\n",
       "                       min_samples_leaf=1, min_samples_split=2,\n",
       "                       min_weight_fraction_leaf=0.0, n_estimators=100,\n",
       "                       n_jobs=None, oob_score=False, random_state=None,\n",
       "                       verbose=0, warm_start=False)"
      ]
     },
     "execution_count": 24,
     "metadata": {},
     "output_type": "execute_result"
    }
   ],
   "source": [
    "rf = RandomForestClassifier()\n",
    "rf.fit(X_train, y_train)"
   ]
  },
  {
   "cell_type": "code",
   "execution_count": 25,
   "metadata": {
    "ExecuteTime": {
     "end_time": "2020-02-19T16:13:22.175095Z",
     "start_time": "2020-02-19T16:13:22.037833Z"
    }
   },
   "outputs": [
    {
     "data": {
      "text/plain": [
       "(0.9878383007879411, 0.9794450154162384)"
      ]
     },
     "execution_count": 25,
     "metadata": {},
     "output_type": "execute_result"
    }
   ],
   "source": [
    "rf.score(X_train, y_train), rf.score(X_test, y_test)"
   ]
  },
  {
   "cell_type": "code",
   "execution_count": 26,
   "metadata": {
    "ExecuteTime": {
     "end_time": "2020-02-19T16:13:23.118030Z",
     "start_time": "2020-02-19T16:13:23.015648Z"
    }
   },
   "outputs": [
    {
     "data": {
      "text/plain": [
       "2989"
      ]
     },
     "execution_count": 26,
     "metadata": {},
     "output_type": "execute_result"
    }
   ],
   "source": [
    "rf.predict(X_train).sum()"
   ]
  },
  {
   "cell_type": "code",
   "execution_count": null,
   "metadata": {},
   "outputs": [],
   "source": []
  }
 ],
 "metadata": {
  "kernelspec": {
   "display_name": "Python 3",
   "language": "python",
   "name": "python3"
  },
  "language_info": {
   "codemirror_mode": {
    "name": "ipython",
    "version": 3
   },
   "file_extension": ".py",
   "mimetype": "text/x-python",
   "name": "python",
   "nbconvert_exporter": "python",
   "pygments_lexer": "ipython3",
   "version": "3.7.6"
  }
 },
 "nbformat": 4,
 "nbformat_minor": 4
}
