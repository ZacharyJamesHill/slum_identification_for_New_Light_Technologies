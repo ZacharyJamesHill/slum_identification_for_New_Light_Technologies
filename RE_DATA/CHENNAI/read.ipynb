{
 "cells": [
  {
   "cell_type": "code",
   "execution_count": 1,
   "metadata": {},
   "outputs": [],
   "source": [
    "import re\n",
    "import os\n",
    "import numpy as np\n",
    "import pandas as pd\n",
    "from bs4 import BeautifulSoup"
   ]
  },
  {
   "cell_type": "code",
   "execution_count": 4,
   "metadata": {},
   "outputs": [
    {
     "name": "stdout",
     "output_type": "stream",
     "text": [
      "data: 319.05 mb\n"
     ]
    }
   ],
   "source": [
    "print('data:', round(os.stat('html.txt').st_size*1e-6, 2), 'mb')"
   ]
  },
  {
   "cell_type": "code",
   "execution_count": 5,
   "metadata": {},
   "outputs": [],
   "source": [
    "with open('html.txt', 'r') as data:\n",
    "    data = [page+'/html>' for page in data.read().split('/html>')[:-1]]"
   ]
  },
  {
   "cell_type": "code",
   "execution_count": 7,
   "metadata": {},
   "outputs": [],
   "source": [
    "def page_to_df(data):\n",
    "    failed=0\n",
    "    rows=[]\n",
    "    soup = BeautifulSoup(data)\n",
    "    for listing in soup.find_all(\"div\", id=re.compile(\"^resultBlockWrapper\")):\n",
    "        try: # check if listing has price\n",
    "            new_row = {'price': ' '.join(listing.find('div', {'class':'m-srp-card__price'}).text.split()),\n",
    "                       'title': ' '.join(listing.find('span',{'class':'m-srp-card__title'}).text.split()),}\n",
    "            try:new_row.update({coord.attrs['itemprop']: coord.attrs['content']\n",
    "                               for coord in listing.find('div',{'itemprop':'geo'}).find_all('meta')})\n",
    "            except:pass\n",
    "\n",
    "            try:new_row.update({summary_card.find_all('div')[0].text:summary_card.find_all('div')[1].text.strip()\n",
    "                               for summary_card in listing.find_all('div', {'class':'m-srp-card__summary__item'})})\n",
    "            except:pass\n",
    "            rows.append(new_row)\n",
    "        except: failed+=1\n",
    "            # skip if no price.\n",
    "    df = pd.DataFrame(rows)\n",
    "    return len(rows), failed, df"
   ]
  },
  {
   "cell_type": "code",
   "execution_count": 8,
   "metadata": {},
   "outputs": [
    {
     "name": "stdout",
     "output_type": "stream",
     "text": [
      "0 pages added...\n",
      "30 pages added...\n",
      "60 pages added...\n",
      "90 pages added...\n",
      "120 pages added...\n",
      "150 pages added...\n",
      "180 pages added...\n",
      "210 pages added...\n",
      "240 pages added...\n",
      "270 pages added...\n",
      "300 pages added...\n",
      "330 pages added...\n",
      "360 pages added...\n",
      "390 pages added...\n",
      "420 pages added...\n",
      "COMPLETED.\n"
     ]
    }
   ],
   "source": [
    "success = 0\n",
    "failed = 0\n",
    "df = pd.DataFrame()\n",
    "for i, page in enumerate(data):\n",
    "    page_to_df(data[i])\n",
    "    page_success, page_failed, page_df = page_to_df(data[i])\n",
    "    success+=page_success\n",
    "    failed+=page_failed\n",
    "    df = pd.concat([df, page_df], sort=False)\n",
    "    if i%30==0: print(f'{i} pages added...')\n",
    "print('COMPLETED.')"
   ]
  },
  {
   "cell_type": "code",
   "execution_count": 9,
   "metadata": {},
   "outputs": [
    {
     "name": "stdout",
     "output_type": "stream",
     "text": [
      "10678 listings added.\n",
      "92 listings not added\n"
     ]
    }
   ],
   "source": [
    "print(f'{success} listings added.\\n{failed} listings not added')"
   ]
  },
  {
   "cell_type": "code",
   "execution_count": 10,
   "metadata": {},
   "outputs": [
    {
     "name": "stdout",
     "output_type": "stream",
     "text": [
      "10678 ---> 2406\n"
     ]
    }
   ],
   "source": [
    "print(len(df), '--->', len(df)-sum(df.duplicated()))\n",
    "df.drop_duplicates(inplace=True)"
   ]
  },
  {
   "cell_type": "code",
   "execution_count": 11,
   "metadata": {},
   "outputs": [],
   "source": [
    "df.to_csv('data.csv', index=False)"
   ]
  },
  {
   "cell_type": "code",
   "execution_count": null,
   "metadata": {},
   "outputs": [],
   "source": []
  }
 ],
 "metadata": {
  "kernelspec": {
   "display_name": "Python 3",
   "language": "python",
   "name": "python3"
  },
  "language_info": {
   "codemirror_mode": {
    "name": "ipython",
    "version": 3
   },
   "file_extension": ".py",
   "mimetype": "text/x-python",
   "name": "python",
   "nbconvert_exporter": "python",
   "pygments_lexer": "ipython3",
   "version": "3.7.5"
  }
 },
 "nbformat": 4,
 "nbformat_minor": 2
}
