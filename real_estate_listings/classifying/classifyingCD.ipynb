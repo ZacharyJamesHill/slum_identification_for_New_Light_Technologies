{
 "cells": [
  {
   "cell_type": "code",
   "execution_count": 21,
   "metadata": {},
   "outputs": [],
   "source": [
    "import numpy as np\n",
    "import pandas as pd\n",
    "from is_slum import get_slum_val\n",
    "import matplotlib.pyplot as plt"
   ]
  },
  {
   "cell_type": "code",
   "execution_count": 22,
   "metadata": {},
   "outputs": [],
   "source": [
    "%%capture\n",
    "from tqdm.notebook import tqdm\n",
    "tqdm().pandas()"
   ]
  },
  {
   "cell_type": "code",
   "execution_count": 23,
   "metadata": {},
   "outputs": [],
   "source": [
    "chennai = pd.read_csv('../data/chennai/cleaned.csv')\n",
    "newdelhi = pd.read_csv('../data/new_delhi/cleaned.csv')"
   ]
  },
  {
   "cell_type": "code",
   "execution_count": 24,
   "metadata": {},
   "outputs": [],
   "source": [
    "def Prepare(df):\n",
    "    df['coord'] = list(zip(df['latitude'], df['longitude']))\n",
    "    df.drop(columns=['latitude', 'longitude'], inplace=True)\n",
    "    print(df.duplicated().sum(), 'duplicates dropped.')\n",
    "    df.drop_duplicates(inplace=True)\n",
    "    return df"
   ]
  },
  {
   "cell_type": "code",
   "execution_count": 25,
   "metadata": {},
   "outputs": [
    {
     "name": "stdout",
     "output_type": "stream",
     "text": [
      "194 duplicates dropped.\n"
     ]
    }
   ],
   "source": [
    "chennai = Prepare(chennai)"
   ]
  },
  {
   "cell_type": "code",
   "execution_count": 26,
   "metadata": {},
   "outputs": [
    {
     "name": "stdout",
     "output_type": "stream",
     "text": [
      "59 duplicates dropped.\n"
     ]
    }
   ],
   "source": [
    "newdelhi = Prepare(newdelhi)"
   ]
  },
  {
   "cell_type": "markdown",
   "metadata": {},
   "source": [
    "### Classifying"
   ]
  },
  {
   "cell_type": "code",
   "execution_count": 28,
   "metadata": {},
   "outputs": [],
   "source": [
    "def get_classes(df, city):\n",
    "    class_map = dict()\n",
    "    uniques = list(set(df['coord']))\n",
    "    for coord in tqdm(uniques):\n",
    "        try: class_map[coord] = get_slum_val(city, (coord[0], coord[1]))\n",
    "        except: class_map[coord] = np.nan\n",
    "    print(len(uniques), 'unique locations classified. mapping back to dataset...')\n",
    "    df['class'] = df.coord.progress_apply(lambda x: class_map[x])\n",
    "    print('COMPLETE. saving to CSV...')\n",
    "    df.to_csv(f'classified_{city}.csv', index=False)\n",
    "    print('saved. value counts:', df['class'].value_counts(normalize=True).values)"
   ]
  },
  {
   "cell_type": "code",
   "execution_count": 10,
   "metadata": {},
   "outputs": [
    {
     "data": {
      "application/vnd.jupyter.widget-view+json": {
       "model_id": "c34acbac50c94bfaab4682a803a431e9",
       "version_major": 2,
       "version_minor": 0
      },
      "text/plain": [
       "HBox(children=(FloatProgress(value=0.0, max=968.0), HTML(value='')))"
      ]
     },
     "metadata": {},
     "output_type": "display_data"
    },
    {
     "name": "stdout",
     "output_type": "stream",
     "text": [
      "\n",
      "968 unique locations classified. mapping back to dataset...\n"
     ]
    },
    {
     "data": {
      "application/vnd.jupyter.widget-view+json": {
       "model_id": "b2325101d29649eebf342ce581fde24f",
       "version_major": 2,
       "version_minor": 0
      },
      "text/plain": [
       "HBox(children=(FloatProgress(value=0.0, max=2212.0), HTML(value='')))"
      ]
     },
     "metadata": {},
     "output_type": "display_data"
    },
    {
     "name": "stdout",
     "output_type": "stream",
     "text": [
      "\n",
      "COMPLETE. saving to CSV...\n",
      "saved. value counts: [0.9773858 0.0226142]\n"
     ]
    }
   ],
   "source": [
    "get_classes(chennai, 'chennai')"
   ]
  },
  {
   "cell_type": "code",
   "execution_count": 20,
   "metadata": {},
   "outputs": [
    {
     "data": {
      "application/vnd.jupyter.widget-view+json": {
       "model_id": "65f720e7108e47f485253bed7ee89a90",
       "version_major": 2,
       "version_minor": 0
      },
      "text/plain": [
       "HBox(children=(FloatProgress(value=0.0, max=1030.0), HTML(value='')))"
      ]
     },
     "metadata": {},
     "output_type": "display_data"
    },
    {
     "name": "stdout",
     "output_type": "stream",
     "text": [
      "\n",
      "1030 unique locations classified. mapping back to dataset...\n"
     ]
    },
    {
     "data": {
      "application/vnd.jupyter.widget-view+json": {
       "model_id": "4d482268a0b24b559024aec548108b01",
       "version_major": 2,
       "version_minor": 0
      },
      "text/plain": [
       "HBox(children=(FloatProgress(value=0.0, max=2287.0), HTML(value='')))"
      ]
     },
     "metadata": {},
     "output_type": "display_data"
    },
    {
     "name": "stdout",
     "output_type": "stream",
     "text": [
      "\n",
      "COMPLETE. saving to CSV...\n",
      "saved. value counts: [0.66681242 0.33318758]\n"
     ]
    }
   ],
   "source": [
    "get_classes(newdelhi, 'delhi')"
   ]
  },
  {
   "cell_type": "code",
   "execution_count": null,
   "metadata": {},
   "outputs": [],
   "source": []
  }
 ],
 "metadata": {
  "kernelspec": {
   "display_name": "Python 3",
   "language": "python",
   "name": "python3"
  },
  "language_info": {
   "codemirror_mode": {
    "name": "ipython",
    "version": 3
   },
   "file_extension": ".py",
   "mimetype": "text/x-python",
   "name": "python",
   "nbconvert_exporter": "python",
   "pygments_lexer": "ipython3",
   "version": "3.7.5"
  }
 },
 "nbformat": 4,
 "nbformat_minor": 2
}
