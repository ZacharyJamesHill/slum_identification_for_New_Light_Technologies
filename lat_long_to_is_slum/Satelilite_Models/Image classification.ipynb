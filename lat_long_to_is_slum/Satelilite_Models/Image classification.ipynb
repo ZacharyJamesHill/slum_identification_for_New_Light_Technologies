{
 "cells": [
  {
   "cell_type": "code",
   "execution_count": 18,
   "metadata": {
    "ExecuteTime": {
     "end_time": "2020-02-13T14:47:55.366723Z",
     "start_time": "2020-02-13T14:47:55.361722Z"
    }
   },
   "outputs": [],
   "source": [
    "from PIL import Image\n",
    "import os\n",
    "import imageio\n",
    "import numpy as np\n",
    "import pandas as pd\n",
    "from tensorflow.keras.utils import to_categorical\n",
    "from tensorflow.keras.models import Sequential\n",
    "from tensorflow.keras.layers import Dense, Conv2D, Flatten, MaxPooling2D, Dropout, LeakyReLU\n",
    "from tensorflow.keras import optimizers\n",
    "from sklearn.model_selection import train_test_split\n",
    "from tensorflow.keras.applications.mobilenet_v2 import MobileNetV2\n",
    "\n",
    "import tensorflow as tf\n",
    "from tensorflow.compat.v1 import ConfigProto\n",
    "from tensorflow.compat.v1 import InteractiveSession\n"
   ]
  },
  {
   "cell_type": "code",
   "execution_count": 19,
   "metadata": {},
   "outputs": [
    {
     "name": "stderr",
     "output_type": "stream",
     "text": [
      "/usr/local/lib/python3.6/dist-packages/tensorflow_core/python/client/session.py:1752: UserWarning: An interactive session is already active. This can cause out-of-memory errors in some cases. You must explicitly call `InteractiveSession.close()` to release resources held by the other session(s).\n",
      "  warnings.warn('An interactive session is already active. This can '\n"
     ]
    }
   ],
   "source": [
    "config = ConfigProto()\n",
    "config.gpu_options.allow_growth = True\n",
    "session = InteractiveSession(config=config)"
   ]
  },
  {
   "cell_type": "code",
   "execution_count": 20,
   "metadata": {
    "ExecuteTime": {
     "end_time": "2020-02-13T02:01:52.868977Z",
     "start_time": "2020-02-13T02:01:52.864974Z"
    }
   },
   "outputs": [],
   "source": [
    "slum_source = '../Mumbai data/preproccesed data/slum/tiles/'\n",
    "baseline_source = '../Mumbai data/preproccesed data/baseline/tiles/'"
   ]
  },
  {
   "cell_type": "code",
   "execution_count": 21,
   "metadata": {
    "ExecuteTime": {
     "end_time": "2020-02-13T02:01:57.511148Z",
     "start_time": "2020-02-13T02:01:52.871976Z"
    }
   },
   "outputs": [],
   "source": [
    "slums = []\n",
    "for name in os.listdir(slum_source):\n",
    "    im = imageio.imread(slum_source + '/' + name)\n",
    "    im = im[:,:,:3]\n",
    "    slums.append(im)\n",
    "\n",
    "baseline = []\n",
    "for name in os.listdir(baseline_source):\n",
    "    im = imageio.imread(baseline_source + '/' + name)\n",
    "    im = im[:,:,:3]\n",
    "    baseline.append(im)"
   ]
  },
  {
   "cell_type": "code",
   "execution_count": 22,
   "metadata": {
    "ExecuteTime": {
     "end_time": "2020-02-13T02:01:57.893934Z",
     "start_time": "2020-02-13T02:01:57.513899Z"
    }
   },
   "outputs": [],
   "source": [
    "slums = np.array(slums)\n",
    "baseline = np.array(baseline)\n"
   ]
  },
  {
   "cell_type": "code",
   "execution_count": 23,
   "metadata": {
    "ExecuteTime": {
     "end_time": "2020-02-13T02:01:57.899904Z",
     "start_time": "2020-02-13T02:01:57.895900Z"
    }
   },
   "outputs": [],
   "source": [
    "baseline = baseline[:slums.shape[0]]"
   ]
  },
  {
   "cell_type": "code",
   "execution_count": 24,
   "metadata": {
    "ExecuteTime": {
     "end_time": "2020-02-13T02:01:57.927898Z",
     "start_time": "2020-02-13T02:01:57.902912Z"
    }
   },
   "outputs": [
    {
     "data": {
      "text/plain": [
       "((1600, 80, 160, 3), (1600, 80, 160, 3))"
      ]
     },
     "execution_count": 24,
     "metadata": {},
     "output_type": "execute_result"
    }
   ],
   "source": [
    "slums.shape, baseline.shape"
   ]
  },
  {
   "cell_type": "code",
   "execution_count": 25,
   "metadata": {
    "ExecuteTime": {
     "end_time": "2020-02-13T02:01:57.949904Z",
     "start_time": "2020-02-13T02:01:57.929900Z"
    }
   },
   "outputs": [],
   "source": [
    "labels = np.concatenate((np.zeros(len(slums)),np.ones(len(baseline))))"
   ]
  },
  {
   "cell_type": "code",
   "execution_count": 26,
   "metadata": {
    "ExecuteTime": {
     "end_time": "2020-02-13T02:01:58.051934Z",
     "start_time": "2020-02-13T02:01:57.954898Z"
    }
   },
   "outputs": [],
   "source": [
    "data = np.concatenate((slums, baseline))"
   ]
  },
  {
   "cell_type": "code",
   "execution_count": 27,
   "metadata": {
    "ExecuteTime": {
     "end_time": "2020-02-13T02:01:58.058901Z",
     "start_time": "2020-02-13T02:01:58.053898Z"
    }
   },
   "outputs": [],
   "source": [
    "X = data\n",
    "y = labels\n",
    "y = to_categorical(y)"
   ]
  },
  {
   "cell_type": "code",
   "execution_count": 28,
   "metadata": {
    "ExecuteTime": {
     "end_time": "2020-02-13T02:06:05.393676Z",
     "start_time": "2020-02-13T02:06:05.271471Z"
    }
   },
   "outputs": [],
   "source": [
    "X_train, X_test, y_train, y_test = train_test_split(X, y, random_state = 42, stratify = y)"
   ]
  },
  {
   "cell_type": "code",
   "execution_count": 29,
   "metadata": {
    "ExecuteTime": {
     "end_time": "2020-02-13T02:06:06.726079Z",
     "start_time": "2020-02-13T02:06:06.694044Z"
    }
   },
   "outputs": [],
   "source": [
    "adam = optimizers.Adam(lr = .001)"
   ]
  },
  {
   "cell_type": "code",
   "execution_count": 30,
   "metadata": {
    "ExecuteTime": {
     "end_time": "2020-02-13T02:01:58.397927Z",
     "start_time": "2020-02-13T02:01:58.373925Z"
    }
   },
   "outputs": [
    {
     "data": {
      "text/plain": [
       "0.0    0.5\n",
       "1.0    0.5\n",
       "Name: 0, dtype: float64"
      ]
     },
     "execution_count": 30,
     "metadata": {},
     "output_type": "execute_result"
    }
   ],
   "source": [
    "pd.DataFrame(y)[0].value_counts(normalize=True)"
   ]
  },
  {
   "cell_type": "code",
   "execution_count": 31,
   "metadata": {
    "ExecuteTime": {
     "end_time": "2020-02-13T02:02:03.377129Z",
     "start_time": "2020-02-13T02:01:58.459901Z"
    }
   },
   "outputs": [],
   "source": [
    "mblnet = MobileNetV2(include_top = True, weights = None, input_shape = (X.shape[1:]), classes = 2)"
   ]
  },
  {
   "cell_type": "code",
   "execution_count": 32,
   "metadata": {
    "ExecuteTime": {
     "end_time": "2020-02-13T02:02:03.420129Z",
     "start_time": "2020-02-13T02:02:03.380904Z"
    }
   },
   "outputs": [],
   "source": [
    "mblnet.compile(optimizer=adam, loss='categorical_crossentropy', metrics=['accuracy'])"
   ]
  },
  {
   "cell_type": "code",
   "execution_count": 33,
   "metadata": {
    "ExecuteTime": {
     "end_time": "2020-02-13T02:05:21.720905Z",
     "start_time": "2020-02-13T02:02:03.422898Z"
    }
   },
   "outputs": [
    {
     "name": "stdout",
     "output_type": "stream",
     "text": [
      "Train on 2400 samples, validate on 800 samples\n",
      "Epoch 1/10\n",
      "2400/2400 [==============================] - 6s 3ms/sample - loss: 0.1425 - accuracy: 0.9396 - val_loss: 0.6932 - val_accuracy: 0.5000\n",
      "Epoch 2/10\n",
      "2400/2400 [==============================] - 3s 1ms/sample - loss: 0.0344 - accuracy: 0.9887 - val_loss: 0.6938 - val_accuracy: 0.5000\n",
      "Epoch 3/10\n",
      "2400/2400 [==============================] - 3s 1ms/sample - loss: 0.0461 - accuracy: 0.9850 - val_loss: 0.6955 - val_accuracy: 0.5000\n",
      "Epoch 4/10\n",
      "2400/2400 [==============================] - 3s 1ms/sample - loss: 0.0159 - accuracy: 0.9937 - val_loss: 0.6932 - val_accuracy: 0.5000\n",
      "Epoch 5/10\n",
      "2400/2400 [==============================] - 3s 1ms/sample - loss: 0.0181 - accuracy: 0.9937 - val_loss: 0.6941 - val_accuracy: 0.5000\n",
      "Epoch 6/10\n",
      "2400/2400 [==============================] - 3s 1ms/sample - loss: 0.0048 - accuracy: 0.9979 - val_loss: 0.6988 - val_accuracy: 0.5000\n",
      "Epoch 7/10\n",
      "2400/2400 [==============================] - 3s 1ms/sample - loss: 0.0089 - accuracy: 0.9975 - val_loss: 0.6995 - val_accuracy: 0.5000\n",
      "Epoch 8/10\n",
      "2400/2400 [==============================] - 3s 1ms/sample - loss: 0.0128 - accuracy: 0.9958 - val_loss: 0.6977 - val_accuracy: 0.5000\n",
      "Epoch 9/10\n",
      "2400/2400 [==============================] - 3s 1ms/sample - loss: 0.0031 - accuracy: 0.9992 - val_loss: 0.6953 - val_accuracy: 0.5000\n",
      "Epoch 10/10\n",
      "2400/2400 [==============================] - 3s 1ms/sample - loss: 0.0088 - accuracy: 0.9962 - val_loss: 0.6967 - val_accuracy: 0.5000\n"
     ]
    },
    {
     "data": {
      "text/plain": [
       "<tensorflow.python.keras.callbacks.History at 0x7efaa46f3f98>"
      ]
     },
     "execution_count": 33,
     "metadata": {},
     "output_type": "execute_result"
    }
   ],
   "source": [
    "mblnet.fit(X_train, y_train, epochs=10, validation_data=(X_test, y_test))"
   ]
  },
  {
   "cell_type": "code",
   "execution_count": 34,
   "metadata": {
    "ExecuteTime": {
     "end_time": "2020-02-13T02:05:53.618778Z",
     "start_time": "2020-02-13T02:05:50.038789Z"
    }
   },
   "outputs": [
    {
     "data": {
      "text/plain": [
       "array([[0.4580652, 0.5419348],\n",
       "       [0.4580652, 0.5419348],\n",
       "       [0.4580652, 0.5419348],\n",
       "       ...,\n",
       "       [0.4580652, 0.5419348],\n",
       "       [0.4580652, 0.5419348],\n",
       "       [0.4580652, 0.5419348]], dtype=float32)"
      ]
     },
     "execution_count": 34,
     "metadata": {},
     "output_type": "execute_result"
    }
   ],
   "source": [
    "mblnet.predict(X_train)"
   ]
  },
  {
   "cell_type": "code",
   "execution_count": null,
   "metadata": {},
   "outputs": [],
   "source": []
  }
 ],
 "metadata": {
  "kernelspec": {
   "display_name": "Python 3",
   "language": "python",
   "name": "python3"
  },
  "language_info": {
   "codemirror_mode": {
    "name": "ipython",
    "version": 3
   },
   "file_extension": ".py",
   "mimetype": "text/x-python",
   "name": "python",
   "nbconvert_exporter": "python",
   "pygments_lexer": "ipython3",
   "version": "3.6.9"
  }
 },
 "nbformat": 4,
 "nbformat_minor": 4
}
