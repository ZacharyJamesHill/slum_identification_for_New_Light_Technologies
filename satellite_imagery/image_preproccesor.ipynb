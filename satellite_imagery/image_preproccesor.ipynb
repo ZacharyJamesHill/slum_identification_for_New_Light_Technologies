{
 "cells": [
  {
   "cell_type": "code",
   "execution_count": 1,
   "metadata": {
    "ExecuteTime": {
     "end_time": "2020-02-19T16:47:21.553369Z",
     "start_time": "2020-02-19T16:47:21.525330Z"
    }
   },
   "outputs": [],
   "source": [
    "from PIL import Image,ImageOps\n",
    "import image_slicer\n",
    "import os"
   ]
  },
  {
   "cell_type": "code",
   "execution_count": 2,
   "metadata": {
    "ExecuteTime": {
     "end_time": "2020-02-19T16:47:37.539929Z",
     "start_time": "2020-02-19T16:47:37.534958Z"
    }
   },
   "outputs": [],
   "source": [
    "directory = 'place_images_here/'\n",
    "num_slices = 400"
   ]
  },
  {
   "cell_type": "code",
   "execution_count": 3,
   "metadata": {
    "ExecuteTime": {
     "end_time": "2020-02-19T17:33:50.080318Z",
     "start_time": "2020-02-19T17:33:50.075315Z"
    }
   },
   "outputs": [],
   "source": [
    "# removing old tiles\n",
    "for name in os.listdir('place_images_here/tiles/'):\n",
    "    os.remove('place_images_here/tiles/' + name)\n",
    "for name in os.listdir('place_images_here/tiles/'):\n",
    "    os.remove('place_images_here/tiles/' + name)"
   ]
  },
  {
   "cell_type": "code",
   "execution_count": 4,
   "metadata": {
    "ExecuteTime": {
     "end_time": "2020-02-19T17:35:49.365506Z",
     "start_time": "2020-02-19T17:35:49.359494Z"
    }
   },
   "outputs": [],
   "source": [
    "# scaling provided images\n",
    "for name in os.listdir('place_images_here/'):\n",
    "    if name.endswith('.png'):\n",
    "        \n",
    "        image_path = 'place_images_here/' + name\n",
    "        \n",
    "        im = Image.open(image_path)\n",
    "        \n",
    "        im = ImageOps.fit(im, (3200, 1600))\n",
    "        \n",
    "        im.save('place_images_here/' + 'scaled/' + name, format = 'PNG')"
   ]
  },
  {
   "cell_type": "code",
   "execution_count": 5,
   "metadata": {
    "ExecuteTime": {
     "end_time": "2020-02-19T17:37:15.594838Z",
     "start_time": "2020-02-19T17:37:15.586825Z"
    }
   },
   "outputs": [],
   "source": [
    "# slicing scaled images\n",
    "for i, name in enumerate(os.listdir('place_images_here/' + 'scaled')):\n",
    "    \n",
    "    if name.endswith('.png'):\n",
    "        \n",
    "        image_path = 'place_images_here/' + 'scaled/' + name\n",
    "        \n",
    "        im = Image.open(image_path)\n",
    "        \n",
    "        tiles = image_slicer.slice(image_path, num_slices, save=False, )\n",
    "                \n",
    "    \n",
    "        image_slicer.save_tiles(tiles, directory=('place_images_here/' + 'tiles'),\\\n",
    "                            prefix=f'slice{i}', format='png')        "
   ]
  },
  {
   "cell_type": "code",
   "execution_count": null,
   "metadata": {},
   "outputs": [],
   "source": []
  }
 ],
 "metadata": {
  "kernelspec": {
   "display_name": "Python 3",
   "language": "python",
   "name": "python3"
  },
  "language_info": {
   "codemirror_mode": {
    "name": "ipython",
    "version": 3
   },
   "file_extension": ".py",
   "mimetype": "text/x-python",
   "name": "python",
   "nbconvert_exporter": "python",
   "pygments_lexer": "ipython3",
   "version": "3.6.9"
  }
 },
 "nbformat": 4,
 "nbformat_minor": 4
}
