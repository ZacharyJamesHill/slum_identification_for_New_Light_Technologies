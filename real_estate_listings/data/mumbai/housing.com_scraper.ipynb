{
 "cells": [
  {
   "cell_type": "markdown",
   "metadata": {},
   "source": [
    "#### from: https://housing.com/in/buy/mumbai/mumbai\n",
    "\n",
    "this script was very finicky and had to be run a number of times with slightly different versions to accumulate as much data as possible. After loading about 10,000 listings, most new loads were duplicates so due to technical challenges we stopped scraping after that point."
   ]
  },
  {
   "cell_type": "code",
   "execution_count": 1,
   "metadata": {},
   "outputs": [],
   "source": [
    "from selenium import webdriver\n",
    "import time"
   ]
  },
  {
   "cell_type": "code",
   "execution_count": 2,
   "metadata": {},
   "outputs": [],
   "source": [
    "# CLEAR COOKIES/CACHE before running this cell\n",
    "driver = webdriver.Chrome()\n",
    "driver.set_window_size(500, 850)\n",
    "page_url = 'https://housing.com/in/buy/mumbai/mumbai'\n",
    "driver.get(page_url)"
   ]
  },
  {
   "cell_type": "code",
   "execution_count": null,
   "metadata": {},
   "outputs": [],
   "source": [
    "def run_scrape():\n",
    "    # define initial page height \n",
    "    old_height = driver.execute_script(\"return document.body.scrollHeight\")\n",
    "\n",
    "    # set n_loads\n",
    "    n_posts = \n",
    "    n_loads = n_posts /15\n",
    "\n",
    "    c=0 # instantiate counter\n",
    "\n",
    "    while True: # loop until c==n_loads\n",
    "\n",
    "        #scroll to bottom of page\n",
    "        driver.execute_script(\"window.scrollTo(0, document.body.scrollHeight);\")\n",
    "\n",
    "        #get new page height\n",
    "        height = driver.execute_script(\"return document.body.scrollHeight\")\n",
    "\n",
    "        # wait for lazyload:\n",
    "        while height == old_height:\n",
    "            time.sleep(.1)\n",
    "            height = driver.execute_script(\"return document.body.scrollHeight\")\n",
    "\n",
    "        c+=1 # step counter for each load\n",
    "\n",
    "        # if n_loads reached, break\n",
    "        if c==n_loads: break\n",
    "\n",
    "        # store new page height after lazyload\n",
    "        old_height = height"
   ]
  },
  {
   "cell_type": "code",
   "execution_count": null,
   "metadata": {},
   "outputs": [],
   "source": [
    "# autosave every 10 minutes\n",
    "def autosave():\n",
    "    html = driver.page_source\n",
    "    save_time_fn = time.strftime(\"_%H_%M\", time.localtime(time.time()))\n",
    "    text_file = open(f\"autosaves/autosave_{save_time_fn}.txt\", \"w\")\n",
    "    n = text_file.write(html)\n",
    "    text_file.close()\n",
    "    save_time = time.strftime(\"%H:%M:%S\", time.localtime(time.time()))\n",
    "    print(f'Autosaved at {save_time} ({len(html)} characters)')"
   ]
  },
  {
   "cell_type": "code",
   "execution_count": null,
   "metadata": {},
   "outputs": [],
   "source": []
  }
 ],
 "metadata": {
  "kernelspec": {
   "display_name": "Python 3",
   "language": "python",
   "name": "python3"
  },
  "language_info": {
   "codemirror_mode": {
    "name": "ipython",
    "version": 3
   },
   "file_extension": ".py",
   "mimetype": "text/x-python",
   "name": "python",
   "nbconvert_exporter": "python",
   "pygments_lexer": "ipython3",
   "version": "3.7.5"
  }
 },
 "nbformat": 4,
 "nbformat_minor": 2
}
