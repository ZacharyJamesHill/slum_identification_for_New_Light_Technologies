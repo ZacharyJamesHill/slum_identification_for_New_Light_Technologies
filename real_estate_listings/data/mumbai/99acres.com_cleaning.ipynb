{
 "cells": [
  {
   "cell_type": "markdown",
   "metadata": {},
   "source": [
    "## import time\n",
    "import numpy as np\n",
    "import pandas as pd\n",
    "import geocoder\n",
    "pd.options.mode.chained_assignment = None\n",
    "import missingno as mno\n",
    "import matplotlib.pyplot as plt\n",
    "import seaborn as sns\n",
    "sns.set()"
   ]
  },
  {
   "cell_type": "code",
   "execution_count": 65,
   "metadata": {},
   "outputs": [],
   "source": [
    "import re\n",
    "import numpy as np\n",
    "import pandas as pd\n",
    "import missingno as mno"
   ]
  },
  {
   "cell_type": "code",
   "execution_count": 66,
   "metadata": {},
   "outputs": [],
   "source": [
    "%%capture\n",
    "from tqdm import tqdm_notebook as tqdm\n",
    "tqdm().pandas()"
   ]
  },
  {
   "cell_type": "code",
   "execution_count": 67,
   "metadata": {},
   "outputs": [
    {
     "name": "stdout",
     "output_type": "stream",
     "text": [
      "(21928, 15)\n"
     ]
    },
    {
     "data": {
      "text/html": [
       "<div>\n",
       "<style scoped>\n",
       "    .dataframe tbody tr th:only-of-type {\n",
       "        vertical-align: middle;\n",
       "    }\n",
       "\n",
       "    .dataframe tbody tr th {\n",
       "        vertical-align: top;\n",
       "    }\n",
       "\n",
       "    .dataframe thead th {\n",
       "        text-align: right;\n",
       "    }\n",
       "</style>\n",
       "<table border=\"1\" class=\"dataframe\">\n",
       "  <thead>\n",
       "    <tr style=\"text-align: right;\">\n",
       "      <th></th>\n",
       "      <th>title</th>\n",
       "      <th>price_per_month</th>\n",
       "      <th>deposit</th>\n",
       "      <th>rooms</th>\n",
       "      <th>baths</th>\n",
       "      <th>FOR FAMILY</th>\n",
       "      <th>FOR SINGLE MEN</th>\n",
       "      <th>FOR SINGLE WOMEN</th>\n",
       "      <th>FURNISHED</th>\n",
       "      <th>price</th>\n",
       "      <th>address</th>\n",
       "      <th>gmaps_info</th>\n",
       "      <th>coord</th>\n",
       "      <th>lat</th>\n",
       "      <th>lng</th>\n",
       "    </tr>\n",
       "  </thead>\n",
       "  <tbody>\n",
       "    <tr>\n",
       "      <th>0</th>\n",
       "      <td>2 BHK Flat for rent in Wadala East</td>\n",
       "      <td>₹ 55,000</td>\n",
       "      <td>₹ 200000</td>\n",
       "      <td>BHK2</td>\n",
       "      <td>2</td>\n",
       "      <td>1.0</td>\n",
       "      <td>1.0</td>\n",
       "      <td>1.0</td>\n",
       "      <td>NaN</td>\n",
       "      <td>['₹', '55,000', '/monthDeposit', '₹', '200000']</td>\n",
       "      <td>Wadala East, Mumbai</td>\n",
       "      <td>[{'address_components': [{'long_name': 'Wadala...</td>\n",
       "      <td>(19.0088678, 72.8573828)</td>\n",
       "      <td>19.008868</td>\n",
       "      <td>72.857383</td>\n",
       "    </tr>\n",
       "    <tr>\n",
       "      <th>1</th>\n",
       "      <td>2 BHK Flat for rent in Bandra (West)</td>\n",
       "      <td>₹ 90,000</td>\n",
       "      <td>₹ 300000</td>\n",
       "      <td>BHK2</td>\n",
       "      <td>2</td>\n",
       "      <td>1.0</td>\n",
       "      <td>1.0</td>\n",
       "      <td>1.0</td>\n",
       "      <td>NaN</td>\n",
       "      <td>['₹', '90,000', '/monthDeposit', '₹', '300000']</td>\n",
       "      <td>Bandra (West), Mumbai</td>\n",
       "      <td>[{'address_components': [{'long_name': 'Bandra...</td>\n",
       "      <td>(19.0595596, 72.8295287)</td>\n",
       "      <td>19.059560</td>\n",
       "      <td>72.829529</td>\n",
       "    </tr>\n",
       "  </tbody>\n",
       "</table>\n",
       "</div>"
      ],
      "text/plain": [
       "                                  title price_per_month   deposit rooms  \\\n",
       "0    2 BHK Flat for rent in Wadala East        ₹ 55,000  ₹ 200000  BHK2   \n",
       "1  2 BHK Flat for rent in Bandra (West)        ₹ 90,000  ₹ 300000  BHK2   \n",
       "\n",
       "   baths  FOR FAMILY  FOR SINGLE MEN  FOR SINGLE WOMEN  FURNISHED  \\\n",
       "0      2         1.0             1.0               1.0        NaN   \n",
       "1      2         1.0             1.0               1.0        NaN   \n",
       "\n",
       "                                             price                 address  \\\n",
       "0  ['₹', '55,000', '/monthDeposit', '₹', '200000']    Wadala East, Mumbai    \n",
       "1  ['₹', '90,000', '/monthDeposit', '₹', '300000']  Bandra (West), Mumbai    \n",
       "\n",
       "                                          gmaps_info  \\\n",
       "0  [{'address_components': [{'long_name': 'Wadala...   \n",
       "1  [{'address_components': [{'long_name': 'Bandra...   \n",
       "\n",
       "                      coord        lat        lng  \n",
       "0  (19.0088678, 72.8573828)  19.008868  72.857383  \n",
       "1  (19.0595596, 72.8295287)  19.059560  72.829529  "
      ]
     },
     "execution_count": 67,
     "metadata": {},
     "output_type": "execute_result"
    }
   ],
   "source": [
    "df = pd.read_csv('99acres.com_geocoded.csv')\n",
    "df.drop(columns='Unnamed: 0', inplace=True)\n",
    "print(df.shape)\n",
    "df.head(2)"
   ]
  },
  {
   "cell_type": "code",
   "execution_count": 68,
   "metadata": {
    "scrolled": true
   },
   "outputs": [
    {
     "data": {
      "image/png": "[encoded data removed]",
      "text/plain": [
       "<Figure size 1800x720 with 2 Axes>"
      ]
     },
     "metadata": {
      "needs_background": "light"
     },
     "output_type": "display_data"
    }
   ],
   "source": [
    "mno.matrix(df);"
   ]
  },
  {
   "cell_type": "markdown",
   "metadata": {},
   "source": [
    "### drop columns"
   ]
  },
  {
   "cell_type": "code",
   "execution_count": 69,
   "metadata": {},
   "outputs": [
    {
     "data": {
      "image/png": "[encoded data removed]",
      "text/plain": [
       "<Figure size 1800x720 with 2 Axes>"
      ]
     },
     "metadata": {
      "needs_background": "light"
     },
     "output_type": "display_data"
    }
   ],
   "source": [
    "df = df.drop(columns=['title','FURNISHED','price','address', 'gmaps_info']\n",
    "             +[c for c in df.columns if 'FOR' in c])\n",
    "mno.matrix(df);"
   ]
  },
  {
   "cell_type": "markdown",
   "metadata": {},
   "source": [
    "### drop duplicates rows"
   ]
  },
  {
   "cell_type": "code",
   "execution_count": 70,
   "metadata": {},
   "outputs": [
    {
     "name": "stdout",
     "output_type": "stream",
     "text": [
      "21928\n",
      "----> 14733\n"
     ]
    }
   ],
   "source": [
    "print(len(df))\n",
    "df.drop_duplicates(inplace=True)\n",
    "print('---->', len(df))"
   ]
  },
  {
   "cell_type": "markdown",
   "metadata": {},
   "source": [
    "## cleaning "
   ]
  },
  {
   "cell_type": "code",
   "execution_count": 71,
   "metadata": {},
   "outputs": [
    {
     "data": {
      "text/html": [
       "<div>\n",
       "<style scoped>\n",
       "    .dataframe tbody tr th:only-of-type {\n",
       "        vertical-align: middle;\n",
       "    }\n",
       "\n",
       "    .dataframe tbody tr th {\n",
       "        vertical-align: top;\n",
       "    }\n",
       "\n",
       "    .dataframe thead th {\n",
       "        text-align: right;\n",
       "    }\n",
       "</style>\n",
       "<table border=\"1\" class=\"dataframe\">\n",
       "  <thead>\n",
       "    <tr style=\"text-align: right;\">\n",
       "      <th></th>\n",
       "      <th>price_per_month</th>\n",
       "      <th>deposit</th>\n",
       "      <th>rooms</th>\n",
       "      <th>baths</th>\n",
       "      <th>coord</th>\n",
       "      <th>lat</th>\n",
       "      <th>lng</th>\n",
       "    </tr>\n",
       "  </thead>\n",
       "  <tbody>\n",
       "    <tr>\n",
       "      <th>0</th>\n",
       "      <td>55000.0</td>\n",
       "      <td>₹ 200000</td>\n",
       "      <td>BHK2</td>\n",
       "      <td>2</td>\n",
       "      <td>(19.0088678, 72.8573828)</td>\n",
       "      <td>19.008868</td>\n",
       "      <td>72.857383</td>\n",
       "    </tr>\n",
       "    <tr>\n",
       "      <th>1</th>\n",
       "      <td>90000.0</td>\n",
       "      <td>₹ 300000</td>\n",
       "      <td>BHK2</td>\n",
       "      <td>2</td>\n",
       "      <td>(19.0595596, 72.8295287)</td>\n",
       "      <td>19.059560</td>\n",
       "      <td>72.829529</td>\n",
       "    </tr>\n",
       "    <tr>\n",
       "      <th>2</th>\n",
       "      <td>28000.0</td>\n",
       "      <td>month(s) rent</td>\n",
       "      <td>BHK2</td>\n",
       "      <td>2</td>\n",
       "      <td>(19.2560653, 72.9748448)</td>\n",
       "      <td>19.256065</td>\n",
       "      <td>72.974845</td>\n",
       "    </tr>\n",
       "    <tr>\n",
       "      <th>3</th>\n",
       "      <td>34500.0</td>\n",
       "      <td>₹ 150000</td>\n",
       "      <td>BHK2</td>\n",
       "      <td>2</td>\n",
       "      <td>(19.2004454, 72.87370229999999)</td>\n",
       "      <td>19.200445</td>\n",
       "      <td>72.873702</td>\n",
       "    </tr>\n",
       "    <tr>\n",
       "      <th>4</th>\n",
       "      <td>90000.0</td>\n",
       "      <td>month(s) rent</td>\n",
       "      <td>BHK2</td>\n",
       "      <td>2</td>\n",
       "      <td>(19.1153798, 72.9091436)</td>\n",
       "      <td>19.115380</td>\n",
       "      <td>72.909144</td>\n",
       "    </tr>\n",
       "  </tbody>\n",
       "</table>\n",
       "</div>"
      ],
      "text/plain": [
       "   price_per_month        deposit rooms  baths  \\\n",
       "0          55000.0       ₹ 200000  BHK2      2   \n",
       "1          90000.0       ₹ 300000  BHK2      2   \n",
       "2          28000.0  month(s) rent  BHK2      2   \n",
       "3          34500.0       ₹ 150000  BHK2      2   \n",
       "4          90000.0  month(s) rent  BHK2      2   \n",
       "\n",
       "                             coord        lat        lng  \n",
       "0         (19.0088678, 72.8573828)  19.008868  72.857383  \n",
       "1         (19.0595596, 72.8295287)  19.059560  72.829529  \n",
       "2         (19.2560653, 72.9748448)  19.256065  72.974845  \n",
       "3  (19.2004454, 72.87370229999999)  19.200445  72.873702  \n",
       "4         (19.1153798, 72.9091436)  19.115380  72.909144  "
      ]
     },
     "execution_count": 71,
     "metadata": {},
     "output_type": "execute_result"
    }
   ],
   "source": [
    "def parse_price(x):\n",
    "    try: return float(x.split()[-1].replace(',', ''))\n",
    "    except: return np.nan\n",
    "df['price_per_month'] = df['price_per_month'].apply(parse_price)\n",
    "df.head()"
   ]
  },
  {
   "cell_type": "code",
   "execution_count": 72,
   "metadata": {},
   "outputs": [
    {
     "data": {
      "text/plain": [
       "3"
      ]
     },
     "execution_count": 72,
     "metadata": {},
     "output_type": "execute_result"
    }
   ],
   "source": [
    "df['price_per_month'].isna().sum()"
   ]
  },
  {
   "cell_type": "code",
   "execution_count": 73,
   "metadata": {},
   "outputs": [
    {
     "data": {
      "text/html": [
       "<div>\n",
       "<style scoped>\n",
       "    .dataframe tbody tr th:only-of-type {\n",
       "        vertical-align: middle;\n",
       "    }\n",
       "\n",
       "    .dataframe tbody tr th {\n",
       "        vertical-align: top;\n",
       "    }\n",
       "\n",
       "    .dataframe thead th {\n",
       "        text-align: right;\n",
       "    }\n",
       "</style>\n",
       "<table border=\"1\" class=\"dataframe\">\n",
       "  <thead>\n",
       "    <tr style=\"text-align: right;\">\n",
       "      <th></th>\n",
       "      <th>price_per_month</th>\n",
       "      <th>deposit</th>\n",
       "      <th>rooms</th>\n",
       "      <th>baths</th>\n",
       "      <th>coord</th>\n",
       "      <th>lat</th>\n",
       "      <th>lng</th>\n",
       "    </tr>\n",
       "  </thead>\n",
       "  <tbody>\n",
       "    <tr>\n",
       "      <th>0</th>\n",
       "      <td>55000.0</td>\n",
       "      <td>200000.0</td>\n",
       "      <td>BHK2</td>\n",
       "      <td>2</td>\n",
       "      <td>(19.0088678, 72.8573828)</td>\n",
       "      <td>19.008868</td>\n",
       "      <td>72.857383</td>\n",
       "    </tr>\n",
       "    <tr>\n",
       "      <th>1</th>\n",
       "      <td>90000.0</td>\n",
       "      <td>300000.0</td>\n",
       "      <td>BHK2</td>\n",
       "      <td>2</td>\n",
       "      <td>(19.0595596, 72.8295287)</td>\n",
       "      <td>19.059560</td>\n",
       "      <td>72.829529</td>\n",
       "    </tr>\n",
       "    <tr>\n",
       "      <th>2</th>\n",
       "      <td>28000.0</td>\n",
       "      <td>NaN</td>\n",
       "      <td>BHK2</td>\n",
       "      <td>2</td>\n",
       "      <td>(19.2560653, 72.9748448)</td>\n",
       "      <td>19.256065</td>\n",
       "      <td>72.974845</td>\n",
       "    </tr>\n",
       "    <tr>\n",
       "      <th>3</th>\n",
       "      <td>34500.0</td>\n",
       "      <td>150000.0</td>\n",
       "      <td>BHK2</td>\n",
       "      <td>2</td>\n",
       "      <td>(19.2004454, 72.87370229999999)</td>\n",
       "      <td>19.200445</td>\n",
       "      <td>72.873702</td>\n",
       "    </tr>\n",
       "    <tr>\n",
       "      <th>4</th>\n",
       "      <td>90000.0</td>\n",
       "      <td>NaN</td>\n",
       "      <td>BHK2</td>\n",
       "      <td>2</td>\n",
       "      <td>(19.1153798, 72.9091436)</td>\n",
       "      <td>19.115380</td>\n",
       "      <td>72.909144</td>\n",
       "    </tr>\n",
       "  </tbody>\n",
       "</table>\n",
       "</div>"
      ],
      "text/plain": [
       "   price_per_month   deposit rooms  baths                            coord  \\\n",
       "0          55000.0  200000.0  BHK2      2         (19.0088678, 72.8573828)   \n",
       "1          90000.0  300000.0  BHK2      2         (19.0595596, 72.8295287)   \n",
       "2          28000.0       NaN  BHK2      2         (19.2560653, 72.9748448)   \n",
       "3          34500.0  150000.0  BHK2      2  (19.2004454, 72.87370229999999)   \n",
       "4          90000.0       NaN  BHK2      2         (19.1153798, 72.9091436)   \n",
       "\n",
       "         lat        lng  \n",
       "0  19.008868  72.857383  \n",
       "1  19.059560  72.829529  \n",
       "2  19.256065  72.974845  \n",
       "3  19.200445  72.873702  \n",
       "4  19.115380  72.909144  "
      ]
     },
     "execution_count": 73,
     "metadata": {},
     "output_type": "execute_result"
    }
   ],
   "source": [
    "def parse_deposit(x):\n",
    "    try: return float(re.findall(r'\\d+', x)[0])\n",
    "    except: return np.nan\n",
    "df['deposit'] = df['deposit'].apply(parse_deposit)\n",
    "df.head()"
   ]
  },
  {
   "cell_type": "code",
   "execution_count": 74,
   "metadata": {},
   "outputs": [
    {
     "data": {
      "text/html": [
       "<div>\n",
       "<style scoped>\n",
       "    .dataframe tbody tr th:only-of-type {\n",
       "        vertical-align: middle;\n",
       "    }\n",
       "\n",
       "    .dataframe tbody tr th {\n",
       "        vertical-align: top;\n",
       "    }\n",
       "\n",
       "    .dataframe thead th {\n",
       "        text-align: right;\n",
       "    }\n",
       "</style>\n",
       "<table border=\"1\" class=\"dataframe\">\n",
       "  <thead>\n",
       "    <tr style=\"text-align: right;\">\n",
       "      <th></th>\n",
       "      <th>price_per_month</th>\n",
       "      <th>deposit</th>\n",
       "      <th>rooms</th>\n",
       "      <th>baths</th>\n",
       "      <th>coord</th>\n",
       "      <th>lat</th>\n",
       "      <th>lng</th>\n",
       "    </tr>\n",
       "  </thead>\n",
       "  <tbody>\n",
       "    <tr>\n",
       "      <th>0</th>\n",
       "      <td>55000.0</td>\n",
       "      <td>200000.0</td>\n",
       "      <td>2.0</td>\n",
       "      <td>2</td>\n",
       "      <td>(19.0088678, 72.8573828)</td>\n",
       "      <td>19.008868</td>\n",
       "      <td>72.857383</td>\n",
       "    </tr>\n",
       "    <tr>\n",
       "      <th>1</th>\n",
       "      <td>90000.0</td>\n",
       "      <td>300000.0</td>\n",
       "      <td>2.0</td>\n",
       "      <td>2</td>\n",
       "      <td>(19.0595596, 72.8295287)</td>\n",
       "      <td>19.059560</td>\n",
       "      <td>72.829529</td>\n",
       "    </tr>\n",
       "    <tr>\n",
       "      <th>2</th>\n",
       "      <td>28000.0</td>\n",
       "      <td>NaN</td>\n",
       "      <td>2.0</td>\n",
       "      <td>2</td>\n",
       "      <td>(19.2560653, 72.9748448)</td>\n",
       "      <td>19.256065</td>\n",
       "      <td>72.974845</td>\n",
       "    </tr>\n",
       "    <tr>\n",
       "      <th>3</th>\n",
       "      <td>34500.0</td>\n",
       "      <td>150000.0</td>\n",
       "      <td>2.0</td>\n",
       "      <td>2</td>\n",
       "      <td>(19.2004454, 72.87370229999999)</td>\n",
       "      <td>19.200445</td>\n",
       "      <td>72.873702</td>\n",
       "    </tr>\n",
       "    <tr>\n",
       "      <th>4</th>\n",
       "      <td>90000.0</td>\n",
       "      <td>NaN</td>\n",
       "      <td>2.0</td>\n",
       "      <td>2</td>\n",
       "      <td>(19.1153798, 72.9091436)</td>\n",
       "      <td>19.115380</td>\n",
       "      <td>72.909144</td>\n",
       "    </tr>\n",
       "  </tbody>\n",
       "</table>\n",
       "</div>"
      ],
      "text/plain": [
       "   price_per_month   deposit  rooms  baths                            coord  \\\n",
       "0          55000.0  200000.0    2.0      2         (19.0088678, 72.8573828)   \n",
       "1          90000.0  300000.0    2.0      2         (19.0595596, 72.8295287)   \n",
       "2          28000.0       NaN    2.0      2         (19.2560653, 72.9748448)   \n",
       "3          34500.0  150000.0    2.0      2  (19.2004454, 72.87370229999999)   \n",
       "4          90000.0       NaN    2.0      2         (19.1153798, 72.9091436)   \n",
       "\n",
       "         lat        lng  \n",
       "0  19.008868  72.857383  \n",
       "1  19.059560  72.829529  \n",
       "2  19.256065  72.974845  \n",
       "3  19.200445  72.873702  \n",
       "4  19.115380  72.909144  "
      ]
     },
     "execution_count": 74,
     "metadata": {},
     "output_type": "execute_result"
    }
   ],
   "source": [
    "def parse_beds(x):\n",
    "    try: return float(re.findall(r'\\d+', x)[0])\n",
    "    except: return np.nan\n",
    "df['rooms'] = df['rooms'].apply(parse_beds)\n",
    "df.head()"
   ]
  },
  {
   "cell_type": "code",
   "execution_count": 81,
   "metadata": {},
   "outputs": [
    {
     "data": {
      "text/plain": [
       "price_per_month    float64\n",
       "deposit            float64\n",
       "rooms              float64\n",
       "baths                int64\n",
       "coord               object\n",
       "lat                float64\n",
       "lng                float64\n",
       "dtype: object"
      ]
     },
     "execution_count": 81,
     "metadata": {},
     "output_type": "execute_result"
    }
   ],
   "source": [
    "df.dtypes"
   ]
  },
  {
   "cell_type": "markdown",
   "metadata": {},
   "source": [
    "### export"
   ]
  },
  {
   "cell_type": "code",
   "execution_count": 80,
   "metadata": {},
   "outputs": [],
   "source": [
    "df.to_csv('cleaned_99acres.com.csv', index=False)"
   ]
  },
  {
   "cell_type": "code",
   "execution_count": null,
   "metadata": {},
   "outputs": [],
   "source": []
  }
 ],
 "metadata": {
  "kernelspec": {
   "display_name": "Python 3",
   "language": "python",
   "name": "python3"
  },
  "language_info": {
   "codemirror_mode": {
    "name": "ipython",
    "version": 3
   },
   "file_extension": ".py",
   "mimetype": "text/x-python",
   "name": "python",
   "nbconvert_exporter": "python",
   "pygments_lexer": "ipython3",
   "version": "3.7.5"
  }
 },
 "nbformat": 4,
 "nbformat_minor": 4
}
