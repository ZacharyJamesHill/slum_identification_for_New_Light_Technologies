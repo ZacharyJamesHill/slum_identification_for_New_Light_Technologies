{
 "cells": [
  {
   "cell_type": "code",
   "execution_count": 1,
   "metadata": {},
   "outputs": [],
   "source": [
    "from bs4 import BeautifulSoup\n",
    "import pandas as pd\n",
    "import os"
   ]
  },
  {
   "cell_type": "code",
   "execution_count": 72,
   "metadata": {},
   "outputs": [
    {
     "name": "stdout",
     "output_type": "stream",
     "text": [
      " 12527348\n",
      "126193740\n"
     ]
    }
   ],
   "source": [
    "print('',os.stat('../autosaves/RIO_1-25.txt').st_size)\n",
    "print(os.stat('../autosaves/RIO_rest.txt').st_size)"
   ]
  },
  {
   "cell_type": "code",
   "execution_count": 73,
   "metadata": {},
   "outputs": [],
   "source": [
    "def data_to_df(data): # function for rio data\n",
    "    soup = BeautifulSoup(data)\n",
    "    df = pd.DataFrame()\n",
    "    failed = 0\n",
    "    for listing in soup.find_all('div', {'class':'card-container'}):\n",
    "        try:\n",
    "            new_row = {'price': ' '.join(listing.find('p',\n",
    "                                    {'class':'simple-card__price'}).text.split()),\n",
    "                       'address': listing.find('p',\n",
    "                                    {'class': 'simple-card__address'}).text,}\n",
    "                       \n",
    "            new_row.update({f'price-item-{i}':' '.join(value.text.split()) for i, value in\n",
    "                            enumerate(listing.find_all('li', {'class': 'card-price__item'}))})\n",
    "            \n",
    "            \n",
    "            new_row.update({''.join([c[3:] for c in feature.attrs['class'] if 'js-' in c]):\n",
    "                             feature.text.strip() for feature in\n",
    "                             listing.find_all('li', {'class':'feature__item'})})\n",
    "            df = df.append(new_row, ignore_index=True)\n",
    "        except:\n",
    "            failed +=1\n",
    "    return df"
   ]
  },
  {
   "cell_type": "markdown",
   "metadata": {},
   "source": [
    "---\n",
    "# Rio\n",
    "### data from zapimoveis.com.br:"
   ]
  },
  {
   "cell_type": "code",
   "execution_count": 74,
   "metadata": {},
   "outputs": [
    {
     "data": {
      "text/plain": [
       "29"
      ]
     },
     "execution_count": 74,
     "metadata": {},
     "output_type": "execute_result"
    }
   ],
   "source": [
    "with open('../autosaves/RIO_1-25.txt') as d:\n",
    "    data = [page+'/html>' for page in d.read().split('/html>')[:-1]]\n",
    "len(data)"
   ]
  },
  {
   "cell_type": "code",
   "execution_count": 75,
   "metadata": {},
   "outputs": [
    {
     "data": {
      "text/plain": [
       "323"
      ]
     },
     "execution_count": 75,
     "metadata": {},
     "output_type": "execute_result"
    }
   ],
   "source": [
    "with open('../autosaves/RIO_rest.txt') as d:\n",
    "    data += [page+'/html>' for page in d.read().split('/html>')[:-1]]\n",
    "len(data)"
   ]
  },
  {
   "cell_type": "code",
   "execution_count": 80,
   "metadata": {},
   "outputs": [
    {
     "name": "stdout",
     "output_type": "stream",
     "text": [
      "1 pages added | 0 discarded\n",
      "10 pages added | 1 discarded\n",
      "17 pages added | 4 discarded\n",
      "27 pages added | 4 discarded\n",
      "36 pages added | 5 discarded\n",
      "44 pages added | 7 discarded\n",
      "53 pages added | 8 discarded\n",
      "62 pages added | 9 discarded\n",
      "71 pages added | 10 discarded\n",
      "77 pages added | 14 discarded\n",
      "87 pages added | 14 discarded\n",
      "96 pages added | 15 discarded\n",
      "104 pages added | 17 discarded\n",
      "114 pages added | 17 discarded\n",
      "122 pages added | 19 discarded\n",
      "131 pages added | 20 discarded\n",
      "140 pages added | 21 discarded\n",
      "148 pages added | 23 discarded\n",
      "158 pages added | 23 discarded\n",
      "166 pages added | 25 discarded\n",
      "175 pages added | 26 discarded\n",
      "184 pages added | 27 discarded\n",
      "192 pages added | 29 discarded\n",
      "200 pages added | 31 discarded\n",
      "210 pages added | 31 discarded\n",
      "219 pages added | 32 discarded\n",
      "228 pages added | 33 discarded\n",
      "238 pages added | 33 discarded\n",
      "248 pages added | 33 discarded\n",
      "256 pages added | 35 discarded\n",
      "265 pages added | 36 discarded\n",
      "274 pages added | 37 discarded\n",
      "282 pages added | 39 discarded\n",
      "9 strange pages. 314 pages added.\n"
     ]
    },
    {
     "data": {
      "text/html": [
       "<div>\n",
       "<style scoped>\n",
       "    .dataframe tbody tr th:only-of-type {\n",
       "        vertical-align: middle;\n",
       "    }\n",
       "\n",
       "    .dataframe tbody tr th {\n",
       "        vertical-align: top;\n",
       "    }\n",
       "\n",
       "    .dataframe thead th {\n",
       "        text-align: right;\n",
       "    }\n",
       "</style>\n",
       "<table border=\"1\" class=\"dataframe\">\n",
       "  <thead>\n",
       "    <tr style=\"text-align: right;\">\n",
       "      <th></th>\n",
       "      <th>address</th>\n",
       "      <th>areas</th>\n",
       "      <th>bathrooms</th>\n",
       "      <th>bedrooms</th>\n",
       "      <th>parking-spaces</th>\n",
       "      <th>price</th>\n",
       "      <th>price-item-0</th>\n",
       "      <th>price-item-1</th>\n",
       "      <th></th>\n",
       "    </tr>\n",
       "  </thead>\n",
       "  <tbody>\n",
       "    <tr>\n",
       "      <th>0</th>\n",
       "      <td>Rua João Barros Moreira, Recreio dos Bandeirantes</td>\n",
       "      <td>450 m²</td>\n",
       "      <td>7</td>\n",
       "      <td>4</td>\n",
       "      <td>3</td>\n",
       "      <td>R$ 5.000 /mês</td>\n",
       "      <td>condomínio R$ 1.242</td>\n",
       "      <td>IPTU R$ 481</td>\n",
       "      <td>NaN</td>\n",
       "    </tr>\n",
       "    <tr>\n",
       "      <th>1</th>\n",
       "      <td>Rua João Pinheiro, Piedade</td>\n",
       "      <td>56 m²</td>\n",
       "      <td>2</td>\n",
       "      <td>2</td>\n",
       "      <td>1</td>\n",
       "      <td>R$ 1.300 /mês</td>\n",
       "      <td>condomínio R$ 460</td>\n",
       "      <td>IPTU R$ 60</td>\n",
       "      <td>NaN</td>\n",
       "    </tr>\n",
       "    <tr>\n",
       "      <th>2</th>\n",
       "      <td>Estrada dos Bandeirantes, Jacarepaguá</td>\n",
       "      <td>61 m²</td>\n",
       "      <td>2</td>\n",
       "      <td>2</td>\n",
       "      <td>1</td>\n",
       "      <td>R$ 1.380 /mês</td>\n",
       "      <td>condomínio R$ 600</td>\n",
       "      <td>IPTU R$ 89</td>\n",
       "      <td>NaN</td>\n",
       "    </tr>\n",
       "    <tr>\n",
       "      <th>3</th>\n",
       "      <td>Rua Mário Covas Júnior, Barra da Tijuca</td>\n",
       "      <td>97 m²</td>\n",
       "      <td>3</td>\n",
       "      <td>2</td>\n",
       "      <td>1</td>\n",
       "      <td>R$ 2.950 /mês</td>\n",
       "      <td>condomínio R$ 852</td>\n",
       "      <td>IPTU R$ 315</td>\n",
       "      <td>NaN</td>\n",
       "    </tr>\n",
       "    <tr>\n",
       "      <th>4</th>\n",
       "      <td>Rua Coronel Paulo Malta Rezende, Barra da Tijuca</td>\n",
       "      <td>65 m²</td>\n",
       "      <td>2</td>\n",
       "      <td>2</td>\n",
       "      <td>1</td>\n",
       "      <td>R$ 2.400 /mês</td>\n",
       "      <td>condomínio R$ 809</td>\n",
       "      <td>IPTU R$ 218</td>\n",
       "      <td>NaN</td>\n",
       "    </tr>\n",
       "    <tr>\n",
       "      <th>...</th>\n",
       "      <td>...</td>\n",
       "      <td>...</td>\n",
       "      <td>...</td>\n",
       "      <td>...</td>\n",
       "      <td>...</td>\n",
       "      <td>...</td>\n",
       "      <td>...</td>\n",
       "      <td>...</td>\n",
       "      <td>...</td>\n",
       "    </tr>\n",
       "    <tr>\n",
       "      <th>31</th>\n",
       "      <td>Rua Getúlio, Todos os Santos</td>\n",
       "      <td>68 m²</td>\n",
       "      <td>2</td>\n",
       "      <td>3</td>\n",
       "      <td>1</td>\n",
       "      <td>R$ 1.050 /mês</td>\n",
       "      <td>condomínio R$ 800</td>\n",
       "      <td>IPTU R$ 58</td>\n",
       "      <td>NaN</td>\n",
       "    </tr>\n",
       "    <tr>\n",
       "      <th>32</th>\n",
       "      <td>Avenida Lúcio Costa, Barra da Tijuca</td>\n",
       "      <td>290 m²</td>\n",
       "      <td>5</td>\n",
       "      <td>4</td>\n",
       "      <td>3</td>\n",
       "      <td>R$ 18.000 /mês</td>\n",
       "      <td>condomínio R$ 5.400</td>\n",
       "      <td>IPTU R$ 2.600</td>\n",
       "      <td>NaN</td>\n",
       "    </tr>\n",
       "    <tr>\n",
       "      <th>33</th>\n",
       "      <td>Rua Santa Alexandrina, Rio Comprido</td>\n",
       "      <td>58 m²</td>\n",
       "      <td>1</td>\n",
       "      <td>1</td>\n",
       "      <td>NaN</td>\n",
       "      <td>R$ 1.200 /mês</td>\n",
       "      <td>condomínio R$ 566</td>\n",
       "      <td>IPTU R$ 15</td>\n",
       "      <td>NaN</td>\n",
       "    </tr>\n",
       "    <tr>\n",
       "      <th>34</th>\n",
       "      <td>Boulevard Vinte e Oito de Setembro, Vila Isabel</td>\n",
       "      <td>110 m²</td>\n",
       "      <td>2</td>\n",
       "      <td>3</td>\n",
       "      <td>NaN</td>\n",
       "      <td>R$ 1.900 /mês</td>\n",
       "      <td>condomínio R$ 998</td>\n",
       "      <td>IPTU R$ 1.400</td>\n",
       "      <td>NaN</td>\n",
       "    </tr>\n",
       "    <tr>\n",
       "      <th>35</th>\n",
       "      <td>Rua Oito de Dezembro, Maracanã</td>\n",
       "      <td>60 m²</td>\n",
       "      <td>2</td>\n",
       "      <td>2</td>\n",
       "      <td>1</td>\n",
       "      <td>R$ 1.300 /mês</td>\n",
       "      <td>condomínio R$ 474</td>\n",
       "      <td>IPTU R$ 25</td>\n",
       "      <td>NaN</td>\n",
       "    </tr>\n",
       "  </tbody>\n",
       "</table>\n",
       "<p>10005 rows × 9 columns</p>\n",
       "</div>"
      ],
      "text/plain": [
       "                                              address   areas bathrooms  \\\n",
       "0   Rua João Barros Moreira, Recreio dos Bandeirantes  450 m²         7   \n",
       "1                          Rua João Pinheiro, Piedade   56 m²         2   \n",
       "2               Estrada dos Bandeirantes, Jacarepaguá   61 m²         2   \n",
       "3             Rua Mário Covas Júnior, Barra da Tijuca   97 m²         3   \n",
       "4    Rua Coronel Paulo Malta Rezende, Barra da Tijuca   65 m²         2   \n",
       "..                                                ...     ...       ...   \n",
       "31                       Rua Getúlio, Todos os Santos   68 m²         2   \n",
       "32               Avenida Lúcio Costa, Barra da Tijuca  290 m²         5   \n",
       "33                Rua Santa Alexandrina, Rio Comprido   58 m²         1   \n",
       "34    Boulevard Vinte e Oito de Setembro, Vila Isabel  110 m²         2   \n",
       "35                     Rua Oito de Dezembro, Maracanã   60 m²         2   \n",
       "\n",
       "   bedrooms parking-spaces           price         price-item-0  \\\n",
       "0         4              3   R$ 5.000 /mês  condomínio R$ 1.242   \n",
       "1         2              1   R$ 1.300 /mês    condomínio R$ 460   \n",
       "2         2              1   R$ 1.380 /mês    condomínio R$ 600   \n",
       "3         2              1   R$ 2.950 /mês    condomínio R$ 852   \n",
       "4         2              1   R$ 2.400 /mês    condomínio R$ 809   \n",
       "..      ...            ...             ...                  ...   \n",
       "31        3              1   R$ 1.050 /mês    condomínio R$ 800   \n",
       "32        4              3  R$ 18.000 /mês  condomínio R$ 5.400   \n",
       "33        1            NaN   R$ 1.200 /mês    condomínio R$ 566   \n",
       "34        3            NaN   R$ 1.900 /mês    condomínio R$ 998   \n",
       "35        2              1   R$ 1.300 /mês    condomínio R$ 474   \n",
       "\n",
       "     price-item-1       \n",
       "0     IPTU R$ 481  NaN  \n",
       "1      IPTU R$ 60  NaN  \n",
       "2      IPTU R$ 89  NaN  \n",
       "3     IPTU R$ 315  NaN  \n",
       "4     IPTU R$ 218  NaN  \n",
       "..            ...  ...  \n",
       "31     IPTU R$ 58  NaN  \n",
       "32  IPTU R$ 2.600  NaN  \n",
       "33     IPTU R$ 15  NaN  \n",
       "34  IPTU R$ 1.400  NaN  \n",
       "35     IPTU R$ 25  NaN  \n",
       "\n",
       "[10005 rows x 9 columns]"
      ]
     },
     "execution_count": 80,
     "metadata": {},
     "output_type": "execute_result"
    }
   ],
   "source": [
    "accepted = 0\n",
    "discarded = 0\n",
    "rio_rents = pd.DataFrame()\n",
    "for i in range(len(data)):\n",
    "    df = data_to_df(data[i])\n",
    "    if len(df)==0: discarded += 1\n",
    "    else: accepted+=1\n",
    "    rio_rents = pd.concat([rio_rents, df], sort=False)\n",
    "    if i%10==0: print(accepted, 'pages added |', discarded, 'discarded')\n",
    "    \n",
    "print(strange_pages, 'strange pages.', len(data)-strange_pages, 'pages added.')\n",
    "rio_rents"
   ]
  },
  {
   "cell_type": "code",
   "execution_count": 82,
   "metadata": {},
   "outputs": [
    {
     "name": "stdout",
     "output_type": "stream",
     "text": [
      "(10005, 9)\n",
      "-2325 duplicates\n",
      "(7680, 9)\n"
     ]
    }
   ],
   "source": [
    "print(rio_rents.shape)\n",
    "print(f\"-{sum(rio_rents.duplicated())} duplicates\")\n",
    "rio_rents.drop_duplicates(inplace=True)\n",
    "print(rio_rents.shape)"
   ]
  },
  {
   "cell_type": "code",
   "execution_count": 85,
   "metadata": {},
   "outputs": [
    {
     "data": {
      "text/plain": [
       "<matplotlib.axes._subplots.AxesSubplot at 0x14cdef410>"
      ]
     },
     "execution_count": 85,
     "metadata": {},
     "output_type": "execute_result"
    },
    {
     "data": {
      "image/png": "[encoded data removed]",
      "text/plain": [
       "<Figure size 1800x720 with 2 Axes>"
      ]
     },
     "metadata": {
      "needs_background": "light"
     },
     "output_type": "display_data"
    }
   ],
   "source": [
    "import missingno as mno\n",
    "\n",
    "mno.matrix(rio_rents)"
   ]
  },
  {
   "cell_type": "code",
   "execution_count": 84,
   "metadata": {},
   "outputs": [],
   "source": [
    "rio_rents.to_csv('rio_de_janeiro_data.csv')"
   ]
  },
  {
   "cell_type": "code",
   "execution_count": null,
   "metadata": {},
   "outputs": [],
   "source": []
  }
 ],
 "metadata": {
  "kernelspec": {
   "display_name": "Python 3",
   "language": "python",
   "name": "python3"
  },
  "language_info": {
   "codemirror_mode": {
    "name": "ipython",
    "version": 3
   },
   "file_extension": ".py",
   "mimetype": "text/x-python",
   "name": "python",
   "nbconvert_exporter": "python",
   "pygments_lexer": "ipython3",
   "version": "3.7.4"
  }
 },
 "nbformat": 4,
 "nbformat_minor": 2
}
