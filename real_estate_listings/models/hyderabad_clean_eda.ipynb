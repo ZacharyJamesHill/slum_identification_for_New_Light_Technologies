{
 "cells": [
  {
   "cell_type": "code",
   "execution_count": 1,
   "metadata": {
    "ExecuteTime": {
     "end_time": "2020-02-19T16:17:52.674936Z",
     "start_time": "2020-02-19T16:17:50.762933Z"
    }
   },
   "outputs": [],
   "source": [
    "import pandas as pd\n",
    "import numpy as np\n",
    "from is_slum import get_slum_val\n",
    "from sklearn.linear_model import LinearRegression\n",
    "from sklearn.model_selection import train_test_split\n",
    "from sklearn.ensemble import RandomForestClassifier"
   ]
  },
  {
   "cell_type": "code",
   "execution_count": 2,
   "metadata": {
    "ExecuteTime": {
     "end_time": "2020-02-19T16:17:52.702246Z",
     "start_time": "2020-02-19T16:17:52.676915Z"
    }
   },
   "outputs": [],
   "source": [
    "df = pd.read_csv('../real_estate_data/hyderabad.csv')"
   ]
  },
  {
   "cell_type": "code",
   "execution_count": 3,
   "metadata": {
    "ExecuteTime": {
     "end_time": "2020-02-19T16:17:52.733464Z",
     "start_time": "2020-02-19T16:17:52.702246Z"
    }
   },
   "outputs": [
    {
     "data": {
      "text/html": [
       "<div>\n",
       "<style scoped>\n",
       "    .dataframe tbody tr th:only-of-type {\n",
       "        vertical-align: middle;\n",
       "    }\n",
       "\n",
       "    .dataframe tbody tr th {\n",
       "        vertical-align: top;\n",
       "    }\n",
       "\n",
       "    .dataframe thead th {\n",
       "        text-align: right;\n",
       "    }\n",
       "</style>\n",
       "<table border=\"1\" class=\"dataframe\">\n",
       "  <thead>\n",
       "    <tr style=\"text-align: right;\">\n",
       "      <th></th>\n",
       "      <th>price</th>\n",
       "      <th>title</th>\n",
       "      <th>furnishing</th>\n",
       "      <th>tenants preferred</th>\n",
       "      <th>bathroom</th>\n",
       "      <th>availability</th>\n",
       "      <th>latitude</th>\n",
       "      <th>longitude</th>\n",
       "      <th>balcony</th>\n",
       "      <th>floor</th>\n",
       "      <th>facing</th>\n",
       "      <th>overlooking</th>\n",
       "      <th>car parking</th>\n",
       "      <th>owner resides</th>\n",
       "      <th>curr_mark</th>\n",
       "      <th>hasLac</th>\n",
       "      <th>inr_pmo</th>\n",
       "      <th>usd_pmo</th>\n",
       "    </tr>\n",
       "  </thead>\n",
       "  <tbody>\n",
       "    <tr>\n",
       "      <th>0</th>\n",
       "      <td>₹ 18,000</td>\n",
       "      <td>3 BHK House for rent in Gudimalkapur 1400 sqft</td>\n",
       "      <td>Unfurnished</td>\n",
       "      <td>Bachelors/Family</td>\n",
       "      <td>2</td>\n",
       "      <td>Immediately</td>\n",
       "      <td>17.387920</td>\n",
       "      <td>78.437117</td>\n",
       "      <td>NaN</td>\n",
       "      <td>NaN</td>\n",
       "      <td>NaN</td>\n",
       "      <td>NaN</td>\n",
       "      <td>NaN</td>\n",
       "      <td>NaN</td>\n",
       "      <td>₹</td>\n",
       "      <td>False</td>\n",
       "      <td>18000.0</td>\n",
       "      <td>252.40</td>\n",
       "    </tr>\n",
       "    <tr>\n",
       "      <th>1</th>\n",
       "      <td>₹ 20,000</td>\n",
       "      <td>3 BHK Villa for rent in Shamshabad 1500 sqft</td>\n",
       "      <td>Unfurnished</td>\n",
       "      <td>Bachelors</td>\n",
       "      <td>3</td>\n",
       "      <td>From Mar '20</td>\n",
       "      <td>17.270166</td>\n",
       "      <td>78.393593</td>\n",
       "      <td>3</td>\n",
       "      <td>NaN</td>\n",
       "      <td>NaN</td>\n",
       "      <td>NaN</td>\n",
       "      <td>NaN</td>\n",
       "      <td>NaN</td>\n",
       "      <td>₹</td>\n",
       "      <td>False</td>\n",
       "      <td>20000.0</td>\n",
       "      <td>280.44</td>\n",
       "    </tr>\n",
       "    <tr>\n",
       "      <th>2</th>\n",
       "      <td>₹ 5,800</td>\n",
       "      <td>1 BHK Apartment for rent in Vinayak Nagar II-H...</td>\n",
       "      <td>Unfurnished</td>\n",
       "      <td>Family</td>\n",
       "      <td>1</td>\n",
       "      <td>Immediately</td>\n",
       "      <td>NaN</td>\n",
       "      <td>NaN</td>\n",
       "      <td>1</td>\n",
       "      <td>1 out of 1 Floor</td>\n",
       "      <td>East</td>\n",
       "      <td>Main Road</td>\n",
       "      <td>NaN</td>\n",
       "      <td>NaN</td>\n",
       "      <td>₹</td>\n",
       "      <td>False</td>\n",
       "      <td>5800.0</td>\n",
       "      <td>81.33</td>\n",
       "    </tr>\n",
       "    <tr>\n",
       "      <th>3</th>\n",
       "      <td>₹ 14,000</td>\n",
       "      <td>2 BHK Apartment for rent in Kukatpally, NH 9 1...</td>\n",
       "      <td>Semi-Furnished</td>\n",
       "      <td>Bachelors/Family</td>\n",
       "      <td>2</td>\n",
       "      <td>Immediately</td>\n",
       "      <td>17.493084</td>\n",
       "      <td>78.405441</td>\n",
       "      <td>NaN</td>\n",
       "      <td>2 out of 5 Floors</td>\n",
       "      <td>NaN</td>\n",
       "      <td>NaN</td>\n",
       "      <td>NaN</td>\n",
       "      <td>NaN</td>\n",
       "      <td>₹</td>\n",
       "      <td>False</td>\n",
       "      <td>14000.0</td>\n",
       "      <td>196.31</td>\n",
       "    </tr>\n",
       "    <tr>\n",
       "      <th>4</th>\n",
       "      <td>₹ 20,000</td>\n",
       "      <td>3 BHK Apartment for rent in Dellapur 1560 sqft</td>\n",
       "      <td>Semi-Furnished</td>\n",
       "      <td>Bachelors/Family</td>\n",
       "      <td>2</td>\n",
       "      <td>Immediately</td>\n",
       "      <td>NaN</td>\n",
       "      <td>NaN</td>\n",
       "      <td>NaN</td>\n",
       "      <td>5 out of 5 Floors</td>\n",
       "      <td>NaN</td>\n",
       "      <td>NaN</td>\n",
       "      <td>NaN</td>\n",
       "      <td>NaN</td>\n",
       "      <td>₹</td>\n",
       "      <td>False</td>\n",
       "      <td>20000.0</td>\n",
       "      <td>280.44</td>\n",
       "    </tr>\n",
       "  </tbody>\n",
       "</table>\n",
       "</div>"
      ],
      "text/plain": [
       "      price                                              title  \\\n",
       "0  ₹ 18,000     3 BHK House for rent in Gudimalkapur 1400 sqft   \n",
       "1  ₹ 20,000       3 BHK Villa for rent in Shamshabad 1500 sqft   \n",
       "2   ₹ 5,800  1 BHK Apartment for rent in Vinayak Nagar II-H...   \n",
       "3  ₹ 14,000  2 BHK Apartment for rent in Kukatpally, NH 9 1...   \n",
       "4  ₹ 20,000     3 BHK Apartment for rent in Dellapur 1560 sqft   \n",
       "\n",
       "       furnishing tenants preferred bathroom  availability   latitude  \\\n",
       "0     Unfurnished  Bachelors/Family        2   Immediately  17.387920   \n",
       "1     Unfurnished         Bachelors        3  From Mar '20  17.270166   \n",
       "2     Unfurnished            Family        1   Immediately        NaN   \n",
       "3  Semi-Furnished  Bachelors/Family        2   Immediately  17.493084   \n",
       "4  Semi-Furnished  Bachelors/Family        2   Immediately        NaN   \n",
       "\n",
       "   longitude balcony              floor facing overlooking car parking  \\\n",
       "0  78.437117     NaN                NaN    NaN         NaN         NaN   \n",
       "1  78.393593       3                NaN    NaN         NaN         NaN   \n",
       "2        NaN       1   1 out of 1 Floor   East   Main Road         NaN   \n",
       "3  78.405441     NaN  2 out of 5 Floors    NaN         NaN         NaN   \n",
       "4        NaN     NaN  5 out of 5 Floors    NaN         NaN         NaN   \n",
       "\n",
       "  owner resides curr_mark  hasLac  inr_pmo  usd_pmo  \n",
       "0           NaN         ₹   False  18000.0   252.40  \n",
       "1           NaN         ₹   False  20000.0   280.44  \n",
       "2           NaN         ₹   False   5800.0    81.33  \n",
       "3           NaN         ₹   False  14000.0   196.31  \n",
       "4           NaN         ₹   False  20000.0   280.44  "
      ]
     },
     "execution_count": 3,
     "metadata": {},
     "output_type": "execute_result"
    }
   ],
   "source": [
    "df.head()"
   ]
  },
  {
   "cell_type": "code",
   "execution_count": 4,
   "metadata": {
    "ExecuteTime": {
     "end_time": "2020-02-19T16:17:52.747800Z",
     "start_time": "2020-02-19T16:17:52.733464Z"
    }
   },
   "outputs": [
    {
     "data": {
      "text/plain": [
       "(price                   0\n",
       " title                   0\n",
       " furnishing            388\n",
       " tenants preferred     379\n",
       " bathroom              394\n",
       " availability          379\n",
       " latitude              439\n",
       " longitude             439\n",
       " balcony              1245\n",
       " floor                 564\n",
       " facing               1302\n",
       " overlooking          1641\n",
       " car parking          1765\n",
       " owner resides        2230\n",
       " curr_mark               0\n",
       " hasLac                  0\n",
       " inr_pmo                20\n",
       " usd_pmo                20\n",
       " dtype: int64,\n",
       " (2309, 18))"
      ]
     },
     "execution_count": 4,
     "metadata": {},
     "output_type": "execute_result"
    }
   ],
   "source": [
    "df.isna().sum(), df.shape"
   ]
  },
  {
   "cell_type": "code",
   "execution_count": 5,
   "metadata": {
    "ExecuteTime": {
     "end_time": "2020-02-19T16:17:52.769316Z",
     "start_time": "2020-02-19T16:17:52.749806Z"
    }
   },
   "outputs": [],
   "source": [
    "df.drop(columns=['owner resides', 'car parking', 'overlooking', 'facing', 'balcony'], inplace=True)"
   ]
  },
  {
   "cell_type": "code",
   "execution_count": 6,
   "metadata": {
    "ExecuteTime": {
     "end_time": "2020-02-19T16:17:52.785062Z",
     "start_time": "2020-02-19T16:17:52.769316Z"
    }
   },
   "outputs": [],
   "source": [
    "df.dropna(inplace=True)\n",
    "df.reset_index(inplace=True)"
   ]
  },
  {
   "cell_type": "code",
   "execution_count": 7,
   "metadata": {
    "ExecuteTime": {
     "end_time": "2020-02-19T16:18:12.992892Z",
     "start_time": "2020-02-19T16:17:52.785062Z"
    }
   },
   "outputs": [],
   "source": [
    "temp = []\n",
    "index = 0\n",
    "for i in range(len(df)):\n",
    "    index = i\n",
    "    temp.append(get_slum_val('hyderabad', (df['latitude'][i], df['longitude'][i])))\n"
   ]
  },
  {
   "cell_type": "code",
   "execution_count": 8,
   "metadata": {
    "ExecuteTime": {
     "end_time": "2020-02-19T16:18:13.003897Z",
     "start_time": "2020-02-19T16:18:12.996892Z"
    }
   },
   "outputs": [
    {
     "data": {
      "text/plain": [
       "1358"
      ]
     },
     "execution_count": 8,
     "metadata": {},
     "output_type": "execute_result"
    }
   ],
   "source": [
    "index"
   ]
  },
  {
   "cell_type": "code",
   "execution_count": 9,
   "metadata": {
    "ExecuteTime": {
     "end_time": "2020-02-19T16:18:13.028442Z",
     "start_time": "2020-02-19T16:18:13.007907Z"
    }
   },
   "outputs": [
    {
     "data": {
      "text/plain": [
       "index                                                               54\n",
       "price                                                         ₹ 23,000\n",
       "title                3 BHK Builder Floor for rent in Hyder Nagar, N...\n",
       "furnishing                                                   Furnished\n",
       "tenants preferred                                     Bachelors/Family\n",
       "bathroom                                                             2\n",
       "availability                                               Immediately\n",
       "latitude                                                       11.9249\n",
       "longitude                                                      79.8304\n",
       "floor                                                1 out of 2 Floors\n",
       "curr_mark                                                            ₹\n",
       "hasLac                                                           False\n",
       "inr_pmo                                                          23000\n",
       "usd_pmo                                                         322.51\n",
       "Name: 29, dtype: object"
      ]
     },
     "execution_count": 9,
     "metadata": {},
     "output_type": "execute_result"
    }
   ],
   "source": [
    "df.iloc[29]"
   ]
  },
  {
   "cell_type": "code",
   "execution_count": 10,
   "metadata": {
    "ExecuteTime": {
     "end_time": "2020-02-19T16:18:13.042442Z",
     "start_time": "2020-02-19T16:18:13.032445Z"
    }
   },
   "outputs": [],
   "source": [
    "df['is_slum'] = temp"
   ]
  },
  {
   "cell_type": "code",
   "execution_count": 11,
   "metadata": {
    "ExecuteTime": {
     "end_time": "2020-02-19T16:18:13.082106Z",
     "start_time": "2020-02-19T16:18:13.045452Z"
    }
   },
   "outputs": [
    {
     "data": {
      "text/html": [
       "<div>\n",
       "<style scoped>\n",
       "    .dataframe tbody tr th:only-of-type {\n",
       "        vertical-align: middle;\n",
       "    }\n",
       "\n",
       "    .dataframe tbody tr th {\n",
       "        vertical-align: top;\n",
       "    }\n",
       "\n",
       "    .dataframe thead th {\n",
       "        text-align: right;\n",
       "    }\n",
       "</style>\n",
       "<table border=\"1\" class=\"dataframe\">\n",
       "  <thead>\n",
       "    <tr style=\"text-align: right;\">\n",
       "      <th></th>\n",
       "      <th>index</th>\n",
       "      <th>price</th>\n",
       "      <th>title</th>\n",
       "      <th>furnishing</th>\n",
       "      <th>tenants preferred</th>\n",
       "      <th>bathroom</th>\n",
       "      <th>availability</th>\n",
       "      <th>latitude</th>\n",
       "      <th>longitude</th>\n",
       "      <th>floor</th>\n",
       "      <th>curr_mark</th>\n",
       "      <th>hasLac</th>\n",
       "      <th>inr_pmo</th>\n",
       "      <th>usd_pmo</th>\n",
       "      <th>is_slum</th>\n",
       "    </tr>\n",
       "  </thead>\n",
       "  <tbody>\n",
       "    <tr>\n",
       "      <th>0</th>\n",
       "      <td>3</td>\n",
       "      <td>₹ 14,000</td>\n",
       "      <td>2 BHK Apartment for rent in Kukatpally, NH 9 1...</td>\n",
       "      <td>Semi-Furnished</td>\n",
       "      <td>Bachelors/Family</td>\n",
       "      <td>2</td>\n",
       "      <td>Immediately</td>\n",
       "      <td>17.493084</td>\n",
       "      <td>78.405441</td>\n",
       "      <td>2 out of 5 Floors</td>\n",
       "      <td>₹</td>\n",
       "      <td>False</td>\n",
       "      <td>14000.0</td>\n",
       "      <td>196.31</td>\n",
       "      <td>0</td>\n",
       "    </tr>\n",
       "    <tr>\n",
       "      <th>1</th>\n",
       "      <td>5</td>\n",
       "      <td>₹ 45,000</td>\n",
       "      <td>3 BHK Builder Floor for rent in Whitefields 20...</td>\n",
       "      <td>Furnished</td>\n",
       "      <td>Bachelors/Family</td>\n",
       "      <td>3</td>\n",
       "      <td>Immediately</td>\n",
       "      <td>17.454336</td>\n",
       "      <td>78.365890</td>\n",
       "      <td>3 out of 5 Floors</td>\n",
       "      <td>₹</td>\n",
       "      <td>False</td>\n",
       "      <td>45000.0</td>\n",
       "      <td>630.99</td>\n",
       "      <td>0</td>\n",
       "    </tr>\n",
       "    <tr>\n",
       "      <th>2</th>\n",
       "      <td>7</td>\n",
       "      <td>₹ 20,000</td>\n",
       "      <td>2 BHK Apartment for rent in Kondapur</td>\n",
       "      <td>Furnished</td>\n",
       "      <td>Bachelors/Family</td>\n",
       "      <td>2</td>\n",
       "      <td>Immediately</td>\n",
       "      <td>17.462683</td>\n",
       "      <td>78.353180</td>\n",
       "      <td>1 out of 4 Floors</td>\n",
       "      <td>₹</td>\n",
       "      <td>False</td>\n",
       "      <td>20000.0</td>\n",
       "      <td>280.44</td>\n",
       "      <td>0</td>\n",
       "    </tr>\n",
       "    <tr>\n",
       "      <th>3</th>\n",
       "      <td>8</td>\n",
       "      <td>₹ 18,500</td>\n",
       "      <td>2 BHK Apartment for rent in Matrusri Nagar, Mi...</td>\n",
       "      <td>Unfurnished</td>\n",
       "      <td>Bachelors/Family</td>\n",
       "      <td>2</td>\n",
       "      <td>Immediately</td>\n",
       "      <td>17.493622</td>\n",
       "      <td>78.367180</td>\n",
       "      <td>3 out of 4 Floors</td>\n",
       "      <td>₹</td>\n",
       "      <td>False</td>\n",
       "      <td>18500.0</td>\n",
       "      <td>259.41</td>\n",
       "      <td>0</td>\n",
       "    </tr>\n",
       "    <tr>\n",
       "      <th>4</th>\n",
       "      <td>10</td>\n",
       "      <td>₹ 12,000</td>\n",
       "      <td>2 BHK House for rent in Osman Nagar 180 sqyrd</td>\n",
       "      <td>Furnished</td>\n",
       "      <td>Bachelors/Family</td>\n",
       "      <td>2</td>\n",
       "      <td>Immediately</td>\n",
       "      <td>17.441813</td>\n",
       "      <td>78.278223</td>\n",
       "      <td>Ground out of 1 Floor</td>\n",
       "      <td>₹</td>\n",
       "      <td>False</td>\n",
       "      <td>12000.0</td>\n",
       "      <td>168.26</td>\n",
       "      <td>0</td>\n",
       "    </tr>\n",
       "  </tbody>\n",
       "</table>\n",
       "</div>"
      ],
      "text/plain": [
       "   index     price                                              title  \\\n",
       "0      3  ₹ 14,000  2 BHK Apartment for rent in Kukatpally, NH 9 1...   \n",
       "1      5  ₹ 45,000  3 BHK Builder Floor for rent in Whitefields 20...   \n",
       "2      7  ₹ 20,000               2 BHK Apartment for rent in Kondapur   \n",
       "3      8  ₹ 18,500  2 BHK Apartment for rent in Matrusri Nagar, Mi...   \n",
       "4     10  ₹ 12,000      2 BHK House for rent in Osman Nagar 180 sqyrd   \n",
       "\n",
       "       furnishing tenants preferred bathroom availability   latitude  \\\n",
       "0  Semi-Furnished  Bachelors/Family        2  Immediately  17.493084   \n",
       "1       Furnished  Bachelors/Family        3  Immediately  17.454336   \n",
       "2       Furnished  Bachelors/Family        2  Immediately  17.462683   \n",
       "3     Unfurnished  Bachelors/Family        2  Immediately  17.493622   \n",
       "4       Furnished  Bachelors/Family        2  Immediately  17.441813   \n",
       "\n",
       "   longitude                  floor curr_mark  hasLac  inr_pmo  usd_pmo  \\\n",
       "0  78.405441      2 out of 5 Floors         ₹   False  14000.0   196.31   \n",
       "1  78.365890      3 out of 5 Floors         ₹   False  45000.0   630.99   \n",
       "2  78.353180      1 out of 4 Floors         ₹   False  20000.0   280.44   \n",
       "3  78.367180      3 out of 4 Floors         ₹   False  18500.0   259.41   \n",
       "4  78.278223  Ground out of 1 Floor         ₹   False  12000.0   168.26   \n",
       "\n",
       "   is_slum  \n",
       "0        0  \n",
       "1        0  \n",
       "2        0  \n",
       "3        0  \n",
       "4        0  "
      ]
     },
     "execution_count": 11,
     "metadata": {},
     "output_type": "execute_result"
    }
   ],
   "source": [
    "df.head()"
   ]
  },
  {
   "cell_type": "code",
   "execution_count": 12,
   "metadata": {
    "ExecuteTime": {
     "end_time": "2020-02-19T16:18:13.094106Z",
     "start_time": "2020-02-19T16:18:13.085102Z"
    }
   },
   "outputs": [],
   "source": [
    "df.drop(columns='index', inplace=True)"
   ]
  },
  {
   "cell_type": "code",
   "execution_count": 13,
   "metadata": {
    "ExecuteTime": {
     "end_time": "2020-02-19T16:18:13.118107Z",
     "start_time": "2020-02-19T16:18:13.097110Z"
    }
   },
   "outputs": [
    {
     "data": {
      "text/plain": [
       "0    1258\n",
       "1     101\n",
       "Name: is_slum, dtype: int64"
      ]
     },
     "execution_count": 13,
     "metadata": {},
     "output_type": "execute_result"
    }
   ],
   "source": [
    "df['is_slum'].value_counts()"
   ]
  },
  {
   "cell_type": "code",
   "execution_count": 14,
   "metadata": {
    "ExecuteTime": {
     "end_time": "2020-02-19T16:18:13.154098Z",
     "start_time": "2020-02-19T16:18:13.122104Z"
    }
   },
   "outputs": [],
   "source": [
    "df = pd.concat([df, df[df['is_slum'] == 1].sample(1157, replace = True)]).reset_index().drop(columns='index')"
   ]
  },
  {
   "cell_type": "code",
   "execution_count": 15,
   "metadata": {
    "ExecuteTime": {
     "end_time": "2020-02-19T16:18:13.193104Z",
     "start_time": "2020-02-19T16:18:13.158100Z"
    }
   },
   "outputs": [
    {
     "data": {
      "text/html": [
       "<div>\n",
       "<style scoped>\n",
       "    .dataframe tbody tr th:only-of-type {\n",
       "        vertical-align: middle;\n",
       "    }\n",
       "\n",
       "    .dataframe tbody tr th {\n",
       "        vertical-align: top;\n",
       "    }\n",
       "\n",
       "    .dataframe thead th {\n",
       "        text-align: right;\n",
       "    }\n",
       "</style>\n",
       "<table border=\"1\" class=\"dataframe\">\n",
       "  <thead>\n",
       "    <tr style=\"text-align: right;\">\n",
       "      <th></th>\n",
       "      <th>price</th>\n",
       "      <th>title</th>\n",
       "      <th>furnishing</th>\n",
       "      <th>tenants preferred</th>\n",
       "      <th>bathroom</th>\n",
       "      <th>availability</th>\n",
       "      <th>latitude</th>\n",
       "      <th>longitude</th>\n",
       "      <th>floor</th>\n",
       "      <th>curr_mark</th>\n",
       "      <th>hasLac</th>\n",
       "      <th>inr_pmo</th>\n",
       "      <th>usd_pmo</th>\n",
       "      <th>is_slum</th>\n",
       "    </tr>\n",
       "  </thead>\n",
       "  <tbody>\n",
       "    <tr>\n",
       "      <th>2511</th>\n",
       "      <td>₹ 15,000</td>\n",
       "      <td>3 BHK House for rent in Kushaiguda 1700 sqft</td>\n",
       "      <td>Unfurnished</td>\n",
       "      <td>Bachelors/Family</td>\n",
       "      <td>3</td>\n",
       "      <td>Immediately</td>\n",
       "      <td>17.482545</td>\n",
       "      <td>78.572644</td>\n",
       "      <td>2 out of 4 Floors</td>\n",
       "      <td>₹</td>\n",
       "      <td>False</td>\n",
       "      <td>15000.0</td>\n",
       "      <td>210.33</td>\n",
       "      <td>1</td>\n",
       "    </tr>\n",
       "    <tr>\n",
       "      <th>2512</th>\n",
       "      <td>₹ 28,000</td>\n",
       "      <td>2 BHK Apartment for rent in Miyapur, NH 9 1460...</td>\n",
       "      <td>Furnished</td>\n",
       "      <td>Bachelors/Family</td>\n",
       "      <td>2</td>\n",
       "      <td>Immediately</td>\n",
       "      <td>17.498161</td>\n",
       "      <td>78.356763</td>\n",
       "      <td>17 out of 19 Floors</td>\n",
       "      <td>₹</td>\n",
       "      <td>False</td>\n",
       "      <td>28000.0</td>\n",
       "      <td>392.62</td>\n",
       "      <td>1</td>\n",
       "    </tr>\n",
       "    <tr>\n",
       "      <th>2513</th>\n",
       "      <td>₹ 18,000</td>\n",
       "      <td>1 BHK Builder Floor for rent in Banjara Hills,...</td>\n",
       "      <td>Unfurnished</td>\n",
       "      <td>Bachelors/Family</td>\n",
       "      <td>1</td>\n",
       "      <td>Immediately</td>\n",
       "      <td>17.415895</td>\n",
       "      <td>78.435760</td>\n",
       "      <td>2 out of 3 Floors</td>\n",
       "      <td>₹</td>\n",
       "      <td>False</td>\n",
       "      <td>18000.0</td>\n",
       "      <td>252.40</td>\n",
       "      <td>1</td>\n",
       "    </tr>\n",
       "    <tr>\n",
       "      <th>2514</th>\n",
       "      <td>₹ 6,000</td>\n",
       "      <td>1 BHK Apartment for rent in Nagole</td>\n",
       "      <td>Unfurnished</td>\n",
       "      <td>Bachelors/Family</td>\n",
       "      <td>1</td>\n",
       "      <td>Immediately</td>\n",
       "      <td>17.377531</td>\n",
       "      <td>78.560123</td>\n",
       "      <td>2 out of 3 Floors</td>\n",
       "      <td>₹</td>\n",
       "      <td>False</td>\n",
       "      <td>6000.0</td>\n",
       "      <td>84.13</td>\n",
       "      <td>1</td>\n",
       "    </tr>\n",
       "    <tr>\n",
       "      <th>2515</th>\n",
       "      <td>₹ 11,000</td>\n",
       "      <td>1 BHK House for rent in Kothaguda</td>\n",
       "      <td>Unfurnished</td>\n",
       "      <td>Bachelors/Family</td>\n",
       "      <td>1</td>\n",
       "      <td>Immediately</td>\n",
       "      <td>17.467659</td>\n",
       "      <td>78.377968</td>\n",
       "      <td>4 out of 5 Floors</td>\n",
       "      <td>₹</td>\n",
       "      <td>False</td>\n",
       "      <td>11000.0</td>\n",
       "      <td>154.24</td>\n",
       "      <td>1</td>\n",
       "    </tr>\n",
       "  </tbody>\n",
       "</table>\n",
       "</div>"
      ],
      "text/plain": [
       "         price                                              title  \\\n",
       "2511  ₹ 15,000       3 BHK House for rent in Kushaiguda 1700 sqft   \n",
       "2512  ₹ 28,000  2 BHK Apartment for rent in Miyapur, NH 9 1460...   \n",
       "2513  ₹ 18,000  1 BHK Builder Floor for rent in Banjara Hills,...   \n",
       "2514   ₹ 6,000                 1 BHK Apartment for rent in Nagole   \n",
       "2515  ₹ 11,000                  1 BHK House for rent in Kothaguda   \n",
       "\n",
       "       furnishing tenants preferred bathroom availability   latitude  \\\n",
       "2511  Unfurnished  Bachelors/Family        3  Immediately  17.482545   \n",
       "2512    Furnished  Bachelors/Family        2  Immediately  17.498161   \n",
       "2513  Unfurnished  Bachelors/Family        1  Immediately  17.415895   \n",
       "2514  Unfurnished  Bachelors/Family        1  Immediately  17.377531   \n",
       "2515  Unfurnished  Bachelors/Family        1  Immediately  17.467659   \n",
       "\n",
       "      longitude                floor curr_mark  hasLac  inr_pmo  usd_pmo  \\\n",
       "2511  78.572644    2 out of 4 Floors         ₹   False  15000.0   210.33   \n",
       "2512  78.356763  17 out of 19 Floors         ₹   False  28000.0   392.62   \n",
       "2513  78.435760    2 out of 3 Floors         ₹   False  18000.0   252.40   \n",
       "2514  78.560123    2 out of 3 Floors         ₹   False   6000.0    84.13   \n",
       "2515  78.377968    4 out of 5 Floors         ₹   False  11000.0   154.24   \n",
       "\n",
       "      is_slum  \n",
       "2511        1  \n",
       "2512        1  \n",
       "2513        1  \n",
       "2514        1  \n",
       "2515        1  "
      ]
     },
     "execution_count": 15,
     "metadata": {},
     "output_type": "execute_result"
    }
   ],
   "source": [
    "df.tail()"
   ]
  },
  {
   "cell_type": "code",
   "execution_count": 16,
   "metadata": {
    "ExecuteTime": {
     "end_time": "2020-02-19T16:18:13.216122Z",
     "start_time": "2020-02-19T16:18:13.197110Z"
    }
   },
   "outputs": [
    {
     "data": {
      "text/plain": [
       "1    1258\n",
       "0    1258\n",
       "Name: is_slum, dtype: int64"
      ]
     },
     "execution_count": 16,
     "metadata": {},
     "output_type": "execute_result"
    }
   ],
   "source": [
    "df['is_slum'].value_counts()"
   ]
  },
  {
   "cell_type": "code",
   "execution_count": 17,
   "metadata": {
    "ExecuteTime": {
     "end_time": "2020-02-19T16:18:13.262098Z",
     "start_time": "2020-02-19T16:18:13.220108Z"
    }
   },
   "outputs": [],
   "source": [
    "df = pd.get_dummies(df, columns=['furnishing', 'tenants preferred', 'availability', 'floor', 'hasLac', 'bathroom'], drop_first=True)"
   ]
  },
  {
   "cell_type": "code",
   "execution_count": 18,
   "metadata": {
    "ExecuteTime": {
     "end_time": "2020-02-19T16:18:13.295143Z",
     "start_time": "2020-02-19T16:18:13.264100Z"
    }
   },
   "outputs": [
    {
     "data": {
      "text/html": [
       "<div>\n",
       "<style scoped>\n",
       "    .dataframe tbody tr th:only-of-type {\n",
       "        vertical-align: middle;\n",
       "    }\n",
       "\n",
       "    .dataframe tbody tr th {\n",
       "        vertical-align: top;\n",
       "    }\n",
       "\n",
       "    .dataframe thead th {\n",
       "        text-align: right;\n",
       "    }\n",
       "</style>\n",
       "<table border=\"1\" class=\"dataframe\">\n",
       "  <thead>\n",
       "    <tr style=\"text-align: right;\">\n",
       "      <th></th>\n",
       "      <th>price</th>\n",
       "      <th>title</th>\n",
       "      <th>latitude</th>\n",
       "      <th>longitude</th>\n",
       "      <th>curr_mark</th>\n",
       "      <th>inr_pmo</th>\n",
       "      <th>usd_pmo</th>\n",
       "      <th>is_slum</th>\n",
       "      <th>furnishing_Semi-Furnished</th>\n",
       "      <th>furnishing_Unfurnished</th>\n",
       "      <th>...</th>\n",
       "      <th>floor_Upper Basement out of 2 Floors</th>\n",
       "      <th>floor_Upper Basement out of 5 Floors</th>\n",
       "      <th>hasLac_True</th>\n",
       "      <th>bathroom_2</th>\n",
       "      <th>bathroom_3</th>\n",
       "      <th>bathroom_4</th>\n",
       "      <th>bathroom_5</th>\n",
       "      <th>bathroom_6</th>\n",
       "      <th>bathroom_7</th>\n",
       "      <th>bathroom_&gt; 10</th>\n",
       "    </tr>\n",
       "  </thead>\n",
       "  <tbody>\n",
       "    <tr>\n",
       "      <th>0</th>\n",
       "      <td>₹ 14,000</td>\n",
       "      <td>2 BHK Apartment for rent in Kukatpally, NH 9 1...</td>\n",
       "      <td>17.493084</td>\n",
       "      <td>78.405441</td>\n",
       "      <td>₹</td>\n",
       "      <td>14000.0</td>\n",
       "      <td>196.31</td>\n",
       "      <td>0</td>\n",
       "      <td>1</td>\n",
       "      <td>0</td>\n",
       "      <td>...</td>\n",
       "      <td>0</td>\n",
       "      <td>0</td>\n",
       "      <td>0</td>\n",
       "      <td>1</td>\n",
       "      <td>0</td>\n",
       "      <td>0</td>\n",
       "      <td>0</td>\n",
       "      <td>0</td>\n",
       "      <td>0</td>\n",
       "      <td>0</td>\n",
       "    </tr>\n",
       "    <tr>\n",
       "      <th>1</th>\n",
       "      <td>₹ 45,000</td>\n",
       "      <td>3 BHK Builder Floor for rent in Whitefields 20...</td>\n",
       "      <td>17.454336</td>\n",
       "      <td>78.365890</td>\n",
       "      <td>₹</td>\n",
       "      <td>45000.0</td>\n",
       "      <td>630.99</td>\n",
       "      <td>0</td>\n",
       "      <td>0</td>\n",
       "      <td>0</td>\n",
       "      <td>...</td>\n",
       "      <td>0</td>\n",
       "      <td>0</td>\n",
       "      <td>0</td>\n",
       "      <td>0</td>\n",
       "      <td>1</td>\n",
       "      <td>0</td>\n",
       "      <td>0</td>\n",
       "      <td>0</td>\n",
       "      <td>0</td>\n",
       "      <td>0</td>\n",
       "    </tr>\n",
       "    <tr>\n",
       "      <th>2</th>\n",
       "      <td>₹ 20,000</td>\n",
       "      <td>2 BHK Apartment for rent in Kondapur</td>\n",
       "      <td>17.462683</td>\n",
       "      <td>78.353180</td>\n",
       "      <td>₹</td>\n",
       "      <td>20000.0</td>\n",
       "      <td>280.44</td>\n",
       "      <td>0</td>\n",
       "      <td>0</td>\n",
       "      <td>0</td>\n",
       "      <td>...</td>\n",
       "      <td>0</td>\n",
       "      <td>0</td>\n",
       "      <td>0</td>\n",
       "      <td>1</td>\n",
       "      <td>0</td>\n",
       "      <td>0</td>\n",
       "      <td>0</td>\n",
       "      <td>0</td>\n",
       "      <td>0</td>\n",
       "      <td>0</td>\n",
       "    </tr>\n",
       "  </tbody>\n",
       "</table>\n",
       "<p>3 rows × 135 columns</p>\n",
       "</div>"
      ],
      "text/plain": [
       "      price                                              title   latitude  \\\n",
       "0  ₹ 14,000  2 BHK Apartment for rent in Kukatpally, NH 9 1...  17.493084   \n",
       "1  ₹ 45,000  3 BHK Builder Floor for rent in Whitefields 20...  17.454336   \n",
       "2  ₹ 20,000               2 BHK Apartment for rent in Kondapur  17.462683   \n",
       "\n",
       "   longitude curr_mark  inr_pmo  usd_pmo  is_slum  furnishing_Semi-Furnished  \\\n",
       "0  78.405441         ₹  14000.0   196.31        0                          1   \n",
       "1  78.365890         ₹  45000.0   630.99        0                          0   \n",
       "2  78.353180         ₹  20000.0   280.44        0                          0   \n",
       "\n",
       "   furnishing_Unfurnished  ...  floor_Upper Basement out of 2 Floors  \\\n",
       "0                       0  ...                                     0   \n",
       "1                       0  ...                                     0   \n",
       "2                       0  ...                                     0   \n",
       "\n",
       "   floor_Upper Basement out of 5 Floors  hasLac_True  bathroom_2  bathroom_3  \\\n",
       "0                                     0            0           1           0   \n",
       "1                                     0            0           0           1   \n",
       "2                                     0            0           1           0   \n",
       "\n",
       "   bathroom_4  bathroom_5  bathroom_6  bathroom_7  bathroom_> 10  \n",
       "0           0           0           0           0              0  \n",
       "1           0           0           0           0              0  \n",
       "2           0           0           0           0              0  \n",
       "\n",
       "[3 rows x 135 columns]"
      ]
     },
     "execution_count": 18,
     "metadata": {},
     "output_type": "execute_result"
    }
   ],
   "source": [
    "df.head(3)"
   ]
  },
  {
   "cell_type": "code",
   "execution_count": 19,
   "metadata": {
    "ExecuteTime": {
     "end_time": "2020-02-19T16:18:13.316122Z",
     "start_time": "2020-02-19T16:18:13.298099Z"
    }
   },
   "outputs": [],
   "source": [
    "X = df.drop(columns=['price', 'title', 'latitude', 'longitude', 'curr_mark', 'is_slum'])\n",
    "y = df['is_slum']"
   ]
  },
  {
   "cell_type": "code",
   "execution_count": 20,
   "metadata": {
    "ExecuteTime": {
     "end_time": "2020-02-19T16:18:13.336098Z",
     "start_time": "2020-02-19T16:18:13.319116Z"
    }
   },
   "outputs": [
    {
     "data": {
      "text/plain": [
       "['inr_pmo',\n",
       " 'usd_pmo',\n",
       " 'furnishing_Semi-Furnished',\n",
       " 'furnishing_Unfurnished',\n",
       " 'tenants preferred_Bachelors/Family',\n",
       " 'tenants preferred_Family',\n",
       " \"availability_From Feb '20\",\n",
       " \"availability_From Mar '20\",\n",
       " 'availability_Immediately',\n",
       " 'floor_1 out of 1 Floor',\n",
       " 'floor_1 out of 10 Floors',\n",
       " 'floor_1 out of 12 Floors',\n",
       " 'floor_1 out of 2 Floors',\n",
       " 'floor_1 out of 3 Floors',\n",
       " 'floor_1 out of 30 Floors',\n",
       " 'floor_1 out of 4 Floors',\n",
       " 'floor_1 out of 5 Floors',\n",
       " 'floor_1 out of 6 Floors',\n",
       " 'floor_1 out of 7 Floors',\n",
       " 'floor_1 out of 8 Floors',\n",
       " 'floor_1 out of 9 Floors',\n",
       " 'floor_10 out of 10 Floors',\n",
       " 'floor_10 out of 27 Floors',\n",
       " 'floor_10 out of 29 Floors',\n",
       " 'floor_11 out of 30 Floors',\n",
       " 'floor_11 out of 34 Floors',\n",
       " 'floor_12 out of 28 Floors',\n",
       " 'floor_14 out of 14 Floors',\n",
       " 'floor_15 out of 18 Floors',\n",
       " 'floor_15 out of 30 Floors',\n",
       " 'floor_17 out of 19 Floors',\n",
       " 'floor_17 out of 20 Floors',\n",
       " 'floor_17 out of 22 Floors',\n",
       " 'floor_17 out of 23 Floors',\n",
       " 'floor_17 out of 30 Floors',\n",
       " 'floor_2 out of 12 Floors',\n",
       " 'floor_2 out of 13 Floors',\n",
       " 'floor_2 out of 14 Floors',\n",
       " 'floor_2 out of 15 Floors',\n",
       " 'floor_2 out of 2 Floors',\n",
       " 'floor_2 out of 3 Floors',\n",
       " 'floor_2 out of 31 Floors',\n",
       " 'floor_2 out of 4 Floors',\n",
       " 'floor_2 out of 5 Floors',\n",
       " 'floor_2 out of 6 Floors',\n",
       " 'floor_2 out of 7 Floors',\n",
       " 'floor_2 out of 8 Floors',\n",
       " 'floor_2 out of 9 Floors',\n",
       " 'floor_20 out of 20 Floors',\n",
       " 'floor_20 out of 23 Floors',\n",
       " 'floor_21 out of 30 Floors',\n",
       " 'floor_22 out of 25 Floors',\n",
       " 'floor_22 out of 30 Floors',\n",
       " 'floor_23 out of 30 Floors',\n",
       " 'floor_3',\n",
       " 'floor_3 out of 10 Floors',\n",
       " 'floor_3 out of 15 Floors',\n",
       " 'floor_3 out of 16 Floors',\n",
       " 'floor_3 out of 18 Floors',\n",
       " 'floor_3 out of 20 Floors',\n",
       " 'floor_3 out of 22 Floors',\n",
       " 'floor_3 out of 25 Floors',\n",
       " 'floor_3 out of 3 Floors',\n",
       " 'floor_3 out of 4 Floors',\n",
       " 'floor_3 out of 5 Floors',\n",
       " 'floor_3 out of 6 Floors',\n",
       " 'floor_3 out of 7 Floors',\n",
       " 'floor_3 out of 8 Floors',\n",
       " 'floor_3 out of 9 Floors',\n",
       " 'floor_4',\n",
       " 'floor_4 out of 12 Floors',\n",
       " 'floor_4 out of 14 Floors',\n",
       " 'floor_4 out of 20 Floors',\n",
       " 'floor_4 out of 4 Floors',\n",
       " 'floor_4 out of 5 Floors',\n",
       " 'floor_4 out of 6 Floors',\n",
       " 'floor_4 out of 7 Floors',\n",
       " 'floor_4 out of 8 Floors',\n",
       " 'floor_4 out of 9 Floors',\n",
       " 'floor_5 out of 10 Floors',\n",
       " 'floor_5 out of 13 Floors',\n",
       " 'floor_5 out of 14 Floors',\n",
       " 'floor_5 out of 20 Floors',\n",
       " 'floor_5 out of 5 Floors',\n",
       " 'floor_5 out of 6 Floors',\n",
       " 'floor_5 out of 7 Floors',\n",
       " 'floor_5 out of 8 Floors',\n",
       " 'floor_5 out of 9 Floors',\n",
       " 'floor_6 out of 10 Floors',\n",
       " 'floor_6 out of 12 Floors',\n",
       " 'floor_6 out of 20 Floors',\n",
       " 'floor_6 out of 6 Floors',\n",
       " 'floor_6 out of 7 Floors',\n",
       " 'floor_6 out of 8 Floors',\n",
       " 'floor_6 out of 9 Floors',\n",
       " 'floor_7 out of 30 Floors',\n",
       " 'floor_7 out of 7 Floors',\n",
       " 'floor_7 out of 8 Floors',\n",
       " 'floor_8 out of 10 Floors',\n",
       " 'floor_8 out of 11 Floors',\n",
       " 'floor_8 out of 14 Floors',\n",
       " 'floor_8 out of 8 Floors',\n",
       " 'floor_8 out of 9 Floors',\n",
       " 'floor_9 out of 10 Floors',\n",
       " 'floor_9 out of 11 Floors',\n",
       " 'floor_9 out of 12 Floors',\n",
       " 'floor_9 out of 13 Floors',\n",
       " 'floor_9 out of 9 Floors',\n",
       " 'floor_Ground out of 1 Floor',\n",
       " 'floor_Ground out of 12 Floors',\n",
       " 'floor_Ground out of 2 Floors',\n",
       " 'floor_Ground out of 3 Floors',\n",
       " 'floor_Ground out of 4 Floors',\n",
       " 'floor_Ground out of 5 Floors',\n",
       " 'floor_Ground out of 6 Floors',\n",
       " 'floor_Lower Basement out of 1 Floor',\n",
       " 'floor_Lower Basement out of 2 Floors',\n",
       " 'floor_Lower Basement out of 3 Floors',\n",
       " 'floor_Upper Basement out of 1 Floor',\n",
       " 'floor_Upper Basement out of 2 Floors',\n",
       " 'floor_Upper Basement out of 5 Floors',\n",
       " 'hasLac_True',\n",
       " 'bathroom_2',\n",
       " 'bathroom_3',\n",
       " 'bathroom_4',\n",
       " 'bathroom_5',\n",
       " 'bathroom_6',\n",
       " 'bathroom_7',\n",
       " 'bathroom_> 10']"
      ]
     },
     "execution_count": 20,
     "metadata": {},
     "output_type": "execute_result"
    }
   ],
   "source": [
    "list(X.columns)"
   ]
  },
  {
   "cell_type": "code",
   "execution_count": 21,
   "metadata": {
    "ExecuteTime": {
     "end_time": "2020-02-19T16:18:13.355102Z",
     "start_time": "2020-02-19T16:18:13.339105Z"
    }
   },
   "outputs": [],
   "source": [
    "X_train, X_test, y_train, y_test = train_test_split(X, y)"
   ]
  },
  {
   "cell_type": "code",
   "execution_count": 22,
   "metadata": {
    "ExecuteTime": {
     "end_time": "2020-02-19T16:18:13.403111Z",
     "start_time": "2020-02-19T16:18:13.359102Z"
    }
   },
   "outputs": [
    {
     "data": {
      "text/plain": [
       "LinearRegression(copy_X=True, fit_intercept=True, n_jobs=None, normalize=False)"
      ]
     },
     "execution_count": 22,
     "metadata": {},
     "output_type": "execute_result"
    }
   ],
   "source": [
    "lr = LinearRegression()\n",
    "lr.fit(X_train, y_train)"
   ]
  },
  {
   "cell_type": "code",
   "execution_count": 23,
   "metadata": {
    "ExecuteTime": {
     "end_time": "2020-02-19T16:18:13.427107Z",
     "start_time": "2020-02-19T16:18:13.409100Z"
    }
   },
   "outputs": [
    {
     "data": {
      "text/plain": [
       "(0.18866383124217945, 0.1100285375846446)"
      ]
     },
     "execution_count": 23,
     "metadata": {},
     "output_type": "execute_result"
    }
   ],
   "source": [
    "lr.score(X_train, y_train), lr.score(X_test, y_test)"
   ]
  },
  {
   "cell_type": "code",
   "execution_count": 24,
   "metadata": {
    "ExecuteTime": {
     "end_time": "2020-02-19T16:18:13.905723Z",
     "start_time": "2020-02-19T16:18:13.431103Z"
    }
   },
   "outputs": [
    {
     "data": {
      "text/plain": [
       "RandomForestClassifier(bootstrap=True, ccp_alpha=0.0, class_weight=None,\n",
       "                       criterion='gini', max_depth=None, max_features='auto',\n",
       "                       max_leaf_nodes=None, max_samples=None,\n",
       "                       min_impurity_decrease=0.0, min_impurity_split=None,\n",
       "                       min_samples_leaf=1, min_samples_split=2,\n",
       "                       min_weight_fraction_leaf=0.0, n_estimators=100,\n",
       "                       n_jobs=None, oob_score=False, random_state=None,\n",
       "                       verbose=0, warm_start=False)"
      ]
     },
     "execution_count": 24,
     "metadata": {},
     "output_type": "execute_result"
    }
   ],
   "source": [
    "rf = RandomForestClassifier()\n",
    "rf.fit(X_train, y_train)"
   ]
  },
  {
   "cell_type": "code",
   "execution_count": 25,
   "metadata": {
    "ExecuteTime": {
     "end_time": "2020-02-19T16:18:14.023724Z",
     "start_time": "2020-02-19T16:18:13.908710Z"
    }
   },
   "outputs": [
    {
     "data": {
      "text/plain": [
       "(0.9936406995230525, 0.9666136724960255)"
      ]
     },
     "execution_count": 25,
     "metadata": {},
     "output_type": "execute_result"
    }
   ],
   "source": [
    "rf.score(X_train, y_train), rf.score(X_test, y_test)"
   ]
  },
  {
   "cell_type": "code",
   "execution_count": 26,
   "metadata": {
    "ExecuteTime": {
     "end_time": "2020-02-19T16:18:14.111050Z",
     "start_time": "2020-02-19T16:18:14.026744Z"
    }
   },
   "outputs": [
    {
     "data": {
      "text/plain": [
       "980"
      ]
     },
     "execution_count": 26,
     "metadata": {},
     "output_type": "execute_result"
    }
   ],
   "source": [
    "rf.predict(X_train).sum()"
   ]
  }
 ],
 "metadata": {
  "kernelspec": {
   "display_name": "Python 3",
   "language": "python",
   "name": "python3"
  },
  "language_info": {
   "codemirror_mode": {
    "name": "ipython",
    "version": 3
   },
   "file_extension": ".py",
   "mimetype": "text/x-python",
   "name": "python",
   "nbconvert_exporter": "python",
   "pygments_lexer": "ipython3",
   "version": "3.7.5"
  }
 },
 "nbformat": 4,
 "nbformat_minor": 4
}
