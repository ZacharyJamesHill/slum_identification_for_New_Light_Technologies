{
 "cells": [
  {
   "cell_type": "code",
   "execution_count": 1,
   "metadata": {},
   "outputs": [],
   "source": [
    "import numpy as np\n",
    "import pandas as pd\n",
    "from is_slum2 import get_slum_val\n",
    "import matplotlib.pyplot as plt"
   ]
  },
  {
   "cell_type": "code",
   "execution_count": 2,
   "metadata": {},
   "outputs": [],
   "source": [
    "%%capture\n",
    "from tqdm.notebook import tqdm\n",
    "tqdm().pandas()"
   ]
  },
  {
   "cell_type": "code",
   "execution_count": 3,
   "metadata": {},
   "outputs": [],
   "source": [
    "rio = pd.read_csv('../data/rio/cleaned_2.csv')\n",
    "mumbai1 = pd.read_csv('../data/mumbai/cleaned_housing.com.csv')\n",
    "mumbai2 = pd.read_csv('../data/mumbai/cleaned_99acres.com.csv')\n",
    "mumbai = pd.concat([mumbai1[['lat', 'lng', 'price', 'coord']],\n",
    "                    mumbai2[['lat', 'lng', 'price_per_month', 'coord']\n",
    "                    ].rename(columns={'price_per_month':'price'})]).rename(\n",
    "                             columns={'lat':'latitude','lng':'longitude'})\n",
    "hyderabad = pd.read_csv('../data/hyderabad/cleaned.csv')\n",
    "chennai = pd.read_csv('../data/chennai/cleaned.csv')"
   ]
  },
  {
   "cell_type": "code",
   "execution_count": 8,
   "metadata": {},
   "outputs": [],
   "source": [
    "def Prepare(df):\n",
    "    df['coord'] = list(zip(df['latitude'], df['longitude']))\n",
    "    df.drop(columns=['latitude', 'longitude'], inplace=True)\n",
    "    print(df.duplicated().sum(), 'duplicates dropped.')\n",
    "    df.drop_duplicates(inplace=True)\n",
    "    return df"
   ]
  },
  {
   "cell_type": "code",
   "execution_count": 9,
   "metadata": {},
   "outputs": [
    {
     "name": "stdout",
     "output_type": "stream",
     "text": [
      "137 duplicates dropped.\n"
     ]
    }
   ],
   "source": [
    "rio = Prepare(rio)"
   ]
  },
  {
   "cell_type": "code",
   "execution_count": 10,
   "metadata": {},
   "outputs": [
    {
     "name": "stdout",
     "output_type": "stream",
     "text": [
      "7488 duplicates dropped.\n"
     ]
    }
   ],
   "source": [
    "mumbai = Prepare(mumbai)"
   ]
  },
  {
   "cell_type": "code",
   "execution_count": 11,
   "metadata": {},
   "outputs": [
    {
     "name": "stdout",
     "output_type": "stream",
     "text": [
      "33 duplicates dropped.\n"
     ]
    }
   ],
   "source": [
    "hyderabad = Prepare(hyderabad)"
   ]
  },
  {
   "cell_type": "markdown",
   "metadata": {},
   "source": [
    "### Classifying"
   ]
  },
  {
   "cell_type": "code",
   "execution_count": 12,
   "metadata": {},
   "outputs": [],
   "source": [
    "def get_classes(df, city):\n",
    "    class_map = dict()\n",
    "    uniques = list(set(df['coord']))\n",
    "    for coord in tqdm(uniques):\n",
    "        try: class_map[coord] = get_slum_val(city, (coord[0], coord[1]))\n",
    "        except: class_map[coord] = np.nan\n",
    "    print(len(uniques), 'unique locations classified. mapping back to dataset...')\n",
    "    df['class'] = df.coord.progress_apply(lambda x: class_map[x])\n",
    "    print('COMPLETE. saving to CSV...')\n",
    "    df.to_csv(f'classified_{city}.csv', index=False)\n",
    "    print('saved. value counts:', df['class'].value_counts(normalize=True).values)"
   ]
  },
  {
   "cell_type": "code",
   "execution_count": 13,
   "metadata": {},
   "outputs": [
    {
     "data": {
      "application/vnd.jupyter.widget-view+json": {
       "model_id": "08ee99cdf6f54cb38f265b134f5aedcc",
       "version_major": 2,
       "version_minor": 0
      },
      "text/plain": [
       "HBox(children=(FloatProgress(value=0.0, max=1617.0), HTML(value='')))"
      ]
     },
     "metadata": {},
     "output_type": "display_data"
    },
    {
     "name": "stdout",
     "output_type": "stream",
     "text": [
      "\n",
      "1617 unique locations classified. mapping back to dataset...\n"
     ]
    },
    {
     "data": {
      "application/vnd.jupyter.widget-view+json": {
       "model_id": "6dfcb807b8a845b688cca877f4a1dc50",
       "version_major": 2,
       "version_minor": 0
      },
      "text/plain": [
       "HBox(children=(FloatProgress(value=0.0, max=7541.0), HTML(value='')))"
      ]
     },
     "metadata": {},
     "output_type": "display_data"
    },
    {
     "name": "stdout",
     "output_type": "stream",
     "text": [
      "\n",
      "COMPLETE. saving to CSV...\n",
      "saved. value counts: [0.95574163 0.04425837]\n"
     ]
    }
   ],
   "source": [
    "get_classes(rio, 'rio')"
   ]
  },
  {
   "cell_type": "code",
   "execution_count": 14,
   "metadata": {},
   "outputs": [
    {
     "data": {
      "application/vnd.jupyter.widget-view+json": {
       "model_id": "b718fd98e9674716954b5007c3771afc",
       "version_major": 2,
       "version_minor": 0
      },
      "text/plain": [
       "HBox(children=(FloatProgress(value=0.0, max=3649.0), HTML(value='')))"
      ]
     },
     "metadata": {},
     "output_type": "display_data"
    },
    {
     "name": "stdout",
     "output_type": "stream",
     "text": [
      "\n",
      "3649 unique locations classified. mapping back to dataset...\n"
     ]
    },
    {
     "data": {
      "application/vnd.jupyter.widget-view+json": {
       "model_id": "46b62b6b61994279b395955b6fa94b92",
       "version_major": 2,
       "version_minor": 0
      },
      "text/plain": [
       "HBox(children=(FloatProgress(value=0.0, max=25244.0), HTML(value='')))"
      ]
     },
     "metadata": {},
     "output_type": "display_data"
    },
    {
     "name": "stdout",
     "output_type": "stream",
     "text": [
      "\n",
      "COMPLETE. saving to CSV...\n",
      "saved. value counts: [0.9603811 0.0396189]\n"
     ]
    }
   ],
   "source": [
    "get_classes(mumbai, 'mumbai')"
   ]
  },
  {
   "cell_type": "code",
   "execution_count": 15,
   "metadata": {},
   "outputs": [
    {
     "data": {
      "application/vnd.jupyter.widget-view+json": {
       "model_id": "8c97197e499b429bbc64f067f1e36674",
       "version_major": 2,
       "version_minor": 0
      },
      "text/plain": [
       "HBox(children=(FloatProgress(value=0.0, max=1270.0), HTML(value='')))"
      ]
     },
     "metadata": {},
     "output_type": "display_data"
    },
    {
     "name": "stdout",
     "output_type": "stream",
     "text": [
      "\n",
      "1270 unique locations classified. mapping back to dataset...\n"
     ]
    },
    {
     "data": {
      "application/vnd.jupyter.widget-view+json": {
       "model_id": "5b2149c9d1e24875b6e49959dcca183d",
       "version_major": 2,
       "version_minor": 0
      },
      "text/plain": [
       "HBox(children=(FloatProgress(value=0.0, max=2276.0), HTML(value='')))"
      ]
     },
     "metadata": {},
     "output_type": "display_data"
    },
    {
     "name": "stdout",
     "output_type": "stream",
     "text": [
      "\n",
      "COMPLETE. saving to CSV...\n",
      "saved. value counts: [0.97494505 0.02505495]\n"
     ]
    }
   ],
   "source": [
    "get_classes(hyderabad, 'hyderabad')"
   ]
  },
  {
   "cell_type": "code",
   "execution_count": null,
   "metadata": {},
   "outputs": [],
   "source": []
  }
 ],
 "metadata": {
  "kernelspec": {
   "display_name": "Python 3",
   "language": "python",
   "name": "python3"
  },
  "language_info": {
   "codemirror_mode": {
    "name": "ipython",
    "version": 3
   },
   "file_extension": ".py",
   "mimetype": "text/x-python",
   "name": "python",
   "nbconvert_exporter": "python",
   "pygments_lexer": "ipython3",
   "version": "3.7.5"
  }
 },
 "nbformat": 4,
 "nbformat_minor": 2
}
