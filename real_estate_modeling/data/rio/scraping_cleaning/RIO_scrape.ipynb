{
 "cells": [
  {
   "cell_type": "code",
   "execution_count": 1,
   "metadata": {},
   "outputs": [],
   "source": [
    "import time\n",
    "import numpy as np\n",
    "import pandas as pd\n",
    "from selenium import webdriver\n",
    "from selenium.webdriver.chrome.options import Options"
   ]
  },
  {
   "cell_type": "code",
   "execution_count": null,
   "metadata": {},
   "outputs": [],
   "source": [
    "# scrape list of user agents\n",
    "driver = webdriver.Chrome()\n",
    "user_agents = []\n",
    "for page in range(1,11):\n",
    "    url = 'https://developers.whatismybrowser.com/useragents/explore/software_name/chrome/'+f'{page}'\n",
    "    driver.get(url)\n",
    "    time.sleep(1)\n",
    "    table = driver.find_element_by_class_name('table-useragents')\n",
    "    user_agents += [u_a.text for u_a in table.find_elements_by_tag_name('a')]\n",
    "driver.quit()\n",
    "pd.DataFrame(user_agents).to_csv('user_agents.csv', index=False)"
   ]
  },
  {
   "cell_type": "code",
   "execution_count": 2,
   "metadata": {},
   "outputs": [
    {
     "data": {
      "text/plain": [
       "['Mozilla/5.0 (Windows NT 10.0; Win64; x64) AppleWebKit/537.36 (KHTML, like Gecko) Chrome/74.0.3729.169 Safari/537.36',\n",
       " 'Mozilla/5.0 (Windows NT 10.0; WOW64) AppleWebKit/537.36 (KHTML, like Gecko) Chrome/72.0.3626.121 Safari/537.36',\n",
       " 'Mozilla/5.0 (Windows NT 10.0; Win64; x64) AppleWebKit/537.36 (KHTML, like Gecko) Chrome/74.0.3729.157 Safari/537.36']"
      ]
     },
     "execution_count": 2,
     "metadata": {},
     "output_type": "execute_result"
    }
   ],
   "source": [
    "# read in user agents (pre-scraped)\n",
    "user_agents = list(pd.read_csv('user_agents.csv')['0'].values)\n",
    "user_agents[:3]"
   ]
  },
  {
   "cell_type": "code",
   "execution_count": 5,
   "metadata": {},
   "outputs": [],
   "source": [
    "def autoSave(html):\n",
    "    save_time = time.strftime(\"_%H_%M\", time.localtime(time.time()))\n",
    "    text_file = open(f\"RIO_autosave{save_time}.txt\", \"w\")\n",
    "    n = text_file.write(html)\n",
    "    print(f'autosaved at {save_time}')\n",
    "    text_file.close()"
   ]
  },
  {
   "cell_type": "code",
   "execution_count": 9,
   "metadata": {},
   "outputs": [
    {
     "name": "stdout",
     "output_type": "stream",
     "text": [
      "html len: 1468599\n",
      "html len: 6251008\n",
      "html len: 10674786\n",
      "autosaved at _22_21\n",
      "html len: 15961133\n",
      "html len: 20344449\n",
      "autosaved at _22_30\n",
      "html len: 25396581\n",
      "html len: 30539096\n",
      "html len: 35869395\n",
      "autosaved at _22_38\n",
      "html len: 40215904\n",
      "html len: 45617402\n",
      "autosaved at _22_46\n",
      "html len: 50075879\n",
      "html len: 54992626\n",
      "html len: 59710130\n",
      "autosaved at _22_54\n",
      "html len: 64632420\n",
      "html len: 69191451\n",
      "autosaved at _23_03\n",
      "html len: 74589371\n",
      "html len: 79908498\n",
      "html len: 84896514\n",
      "autosaved at _23_10\n",
      "html len: 89444804\n",
      "html len: 94525147\n",
      "autosaved at _23_20\n",
      "html len: 99206506\n",
      "html len: 104446636\n",
      "html len: 109460214\n",
      "autosaved at _23_30\n",
      "html len: 114725218\n",
      "html len: 119985762\n",
      "autosaved at _23_38\n",
      "html len: 123812811\n"
     ]
    }
   ],
   "source": [
    "html = ''\n",
    "\n",
    "opts = Options()\n",
    "driver = webdriver.Chrome(options=opts)\n",
    "for i in range(1, 284):\n",
    "    time.sleep(2)\n",
    "    if i%10==0: print(f'html len: {len(html)}')\n",
    "    try:\n",
    "        driver.quit()\n",
    "        agent = np.random.choice(user_agents)\n",
    "        opts.add_argument(f\"user-agent={agent}\")\n",
    "        driver = webdriver.Chrome(options=opts)\n",
    "        driver.set_window_size(300, 700)\n",
    "\n",
    "        url = f'https://www.zapimoveis.com.br/aluguel/apartamentos/rj+rio-de-janeiro/?pagina={i}&onde=,Rio%20de%20Janeiro,Rio%20de%20Janeiro,,,,BR%3ERio%20de%20Janeiro%3ENULL%3ERio%20de%20Janeiro,-22.906846,-43.172896&transacao=Aluguel&tipo=Im%C3%B3vel%20usado&tipoUnidade=Residencial,Apartamento'    \n",
    "        driver.get(url)\n",
    "        time.sleep(3)\n",
    "        html = ' '.join([html, driver.page_source])\n",
    "    except:\n",
    "        autoSave(html)\n",
    "        print(f'error at page {i}.')\n",
    "    if i%25==0: autoSave(html)"
   ]
  },
  {
   "cell_type": "code",
   "execution_count": 10,
   "metadata": {},
   "outputs": [
    {
     "name": "stdout",
     "output_type": "stream",
     "text": [
      "autosaved at _23_42\n"
     ]
    }
   ],
   "source": [
    "autoSave(html)"
   ]
  },
  {
   "cell_type": "code",
   "execution_count": null,
   "metadata": {},
   "outputs": [],
   "source": []
  }
 ],
 "metadata": {
  "kernelspec": {
   "display_name": "Python 3",
   "language": "python",
   "name": "python3"
  },
  "language_info": {
   "codemirror_mode": {
    "name": "ipython",
    "version": 3
   },
   "file_extension": ".py",
   "mimetype": "text/x-python",
   "name": "python",
   "nbconvert_exporter": "python",
   "pygments_lexer": "ipython3",
   "version": "3.7.4"
  }
 },
 "nbformat": 4,
 "nbformat_minor": 2
}
