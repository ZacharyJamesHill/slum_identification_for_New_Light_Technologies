{
 "cells": [
  {
   "cell_type": "code",
   "execution_count": 8,
   "metadata": {},
   "outputs": [],
   "source": [
    "import numpy as np\n",
    "import pandas as pd\n",
    "import seaborn as sns\n",
    "import matplotlib.pyplot as plt\n",
    "from currency_converter import CurrencyConverter\n",
    "sns.set()"
   ]
  },
  {
   "cell_type": "code",
   "execution_count": 11,
   "metadata": {},
   "outputs": [],
   "source": [
    "rio = pd.read_csv('../classifying/rio_normalized.csv')\n",
    "mumbai = pd.read_csv('../classifying/mumbai_normalized.csv')\n",
    "hyderabad = pd.read_csv('../classifying/hyderabad_normalized.csv')"
   ]
  },
  {
   "cell_type": "code",
   "execution_count": 12,
   "metadata": {},
   "outputs": [
    {
     "data": {
      "image/png": "[encoded data removed]",
      "text/plain": [
       "<Figure size 432x288 with 1 Axes>"
      ]
     },
     "metadata": {},
     "output_type": "display_data"
    }
   ],
   "source": [
    "rio['price'].apply(np.log).hist(bins=20, label='rio')\n",
    "mumbai['price'].apply(np.log).hist(bins=50, label='mumbai')\n",
    "hyderabad['price'].apply(np.log).hist(bins=10, label='hyderabad')\n",
    "plt.legend();"
   ]
  },
  {
   "cell_type": "markdown",
   "metadata": {},
   "source": [
    "## Bootstrapping"
   ]
  },
  {
   "cell_type": "code",
   "execution_count": 13,
   "metadata": {},
   "outputs": [],
   "source": [
    "def bootstrap(df):\n",
    "    print(df.isna().sum().sum(), 'nans dropped')\n",
    "    df.dropna(inplace=True)\n",
    "    out = pd.concat([df, df[df['class'] == 1].sample(\n",
    "                     df['class'].value_counts()[0] - df['class'].value_counts()[1],\n",
    "                     replace = True)]).reset_index().drop(columns='index')\n",
    "    print(len(out)-len(df), 'rows added')\n",
    "    return out"
   ]
  },
  {
   "cell_type": "code",
   "execution_count": 14,
   "metadata": {},
   "outputs": [
    {
     "name": "stdout",
     "output_type": "stream",
     "text": [
      "2319 nans dropped\n",
      "5543 rows added\n",
      "53 nans dropped\n",
      "22503 rows added\n",
      "739 nans dropped\n",
      "1464 rows added\n"
     ]
    }
   ],
   "source": [
    "rio_boot = bootstrap(rio)\n",
    "mumbai_boot = bootstrap(mumbai)\n",
    "hyderabad_boot = bootstrap(hyderabad)"
   ]
  },
  {
   "cell_type": "markdown",
   "metadata": {},
   "source": [
    "## modeling"
   ]
  },
  {
   "cell_type": "code",
   "execution_count": 15,
   "metadata": {},
   "outputs": [],
   "source": [
    "from sklearn.ensemble import RandomForestClassifier\n",
    "from sklearn.model_selection import train_test_split\n",
    "from sklearn.preprocessing import normalize"
   ]
  },
  {
   "cell_type": "code",
   "execution_count": 16,
   "metadata": {},
   "outputs": [],
   "source": [
    "def xcity_pred(train, test):\n",
    "    \n",
    "    \n",
    "    if train.equals(test):\n",
    "        x = train[['price']]\n",
    "        y = train['class']\n",
    "        x_train, x_test, y_train, y_test = train_test_split(x, y, )\n",
    "    else:\n",
    "        x_train = train[['price']]\n",
    "        y_train = train['class']\n",
    "        x_test = test[['price']]\n",
    "        y_test = test['class']\n",
    "        \n",
    "    \n",
    "    rf = RandomForestClassifier(n_estimators=10)\n",
    "    rf.fit(x_train, y_train)\n",
    "    print('train:', rf.score(x_train, y_train), '| test:', rf.score(x_test, y_test))\n",
    "    "
   ]
  },
  {
   "cell_type": "code",
   "execution_count": 17,
   "metadata": {},
   "outputs": [
    {
     "name": "stdout",
     "output_type": "stream",
     "text": [
      "train: rio | test: rio\n",
      "train: 0.960078964685238 | test: 0.9453947368421053\n",
      "\n",
      "train: rio | test: mumbai\n",
      "train: 0.956736305313374 | test: 0.9605474047589693\n",
      "\n",
      "train: rio | test: hyderabad\n",
      "train: 0.9569008060536273 | test: 0.9704370179948586\n",
      "\n",
      "train: mumbai | test: rio\n",
      "train: 0.970944807463116 | test: 0.942918243132094\n",
      "\n",
      "train: mumbai | test: mumbai\n",
      "train: 0.9726012384240232 | test: 0.9472386587771203\n",
      "\n",
      "train: mumbai | test: hyderabad\n",
      "train: 0.9699995890354662 | test: 0.9248071979434447\n",
      "\n",
      "train: hyderabad | test: rio\n",
      "train: 0.9710796915167095 | test: 0.955749300871854\n",
      "\n",
      "train: hyderabad | test: mumbai\n",
      "train: 0.9710796915167095 | test: 0.9622734558007644\n",
      "\n",
      "train: hyderabad | test: hyderabad\n",
      "train: 0.9665809768637532 | test: 0.9794344473007712\n",
      "\n"
     ]
    }
   ],
   "source": [
    "cities = {'rio': rio, 'mumbai': mumbai, 'hyderabad': hyderabad}\n",
    "\n",
    "for train_name, train_df in cities.items():\n",
    "    for test_name, test_df in cities.items():\n",
    "        print(f'train: {train_name} | test: {test_name}')\n",
    "        xcity_pred(train_df, test_df)\n",
    "        print('')"
   ]
  },
  {
   "cell_type": "code",
   "execution_count": 7,
   "metadata": {},
   "outputs": [],
   "source": []
  },
  {
   "cell_type": "code",
   "execution_count": null,
   "metadata": {},
   "outputs": [],
   "source": []
  },
  {
   "cell_type": "code",
   "execution_count": null,
   "metadata": {},
   "outputs": [],
   "source": []
  }
 ],
 "metadata": {
  "kernelspec": {
   "display_name": "Python 3",
   "language": "python",
   "name": "python3"
  },
  "language_info": {
   "codemirror_mode": {
    "name": "ipython",
    "version": 3
   },
   "file_extension": ".py",
   "mimetype": "text/x-python",
   "name": "python",
   "nbconvert_exporter": "python",
   "pygments_lexer": "ipython3",
   "version": "3.7.5"
  }
 },
 "nbformat": 4,
 "nbformat_minor": 2
}
