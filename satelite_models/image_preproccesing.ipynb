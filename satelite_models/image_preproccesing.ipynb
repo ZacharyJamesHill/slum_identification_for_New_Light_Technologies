{
 "cells": [
  {
   "cell_type": "code",
   "execution_count": 1,
   "metadata": {
    "ExecuteTime": {
     "end_time": "2020-02-13T02:00:46.015979Z",
     "start_time": "2020-02-13T02:00:45.992993Z"
    }
   },
   "outputs": [],
   "source": [
    "from PIL import Image,ImageOps\n",
    "import image_slicer\n",
    "import os"
   ]
  },
  {
   "cell_type": "markdown",
   "metadata": {},
   "source": [
    "# Setting up Paths"
   ]
  },
  {
   "cell_type": "code",
   "execution_count": 2,
   "metadata": {
    "ExecuteTime": {
     "end_time": "2020-02-13T02:00:48.642390Z",
     "start_time": "2020-02-13T02:00:48.637395Z"
    }
   },
   "outputs": [],
   "source": [
    "directory = 'Mumbai data/preproccesed data/'\n",
    "non_slum = directory + 'baseline/'\n",
    "slum = directory + 'slum/'\n",
    "\n",
    "num_slices = 400\n"
   ]
  },
  {
   "cell_type": "markdown",
   "metadata": {},
   "source": [
    "# Removing Old Tiles"
   ]
  },
  {
   "cell_type": "code",
   "execution_count": 47,
   "metadata": {
    "ExecuteTime": {
     "end_time": "2020-02-12T19:25:20.463421Z",
     "start_time": "2020-02-12T19:25:17.051465Z"
    }
   },
   "outputs": [],
   "source": [
    "for name in os.listdir(non_slum + 'tiles/'):\n",
    "    os.remove(non_slum + 'tiles/' + name)\n",
    "for name in os.listdir(slum + 'tiles/'):\n",
    "    os.remove(slum + 'tiles/' + name)"
   ]
  },
  {
   "cell_type": "markdown",
   "metadata": {},
   "source": [
    "# Slicing Up Baseline Data"
   ]
  },
  {
   "cell_type": "code",
   "execution_count": 48,
   "metadata": {
    "ExecuteTime": {
     "end_time": "2020-02-12T19:25:47.237123Z",
     "start_time": "2020-02-12T19:25:20.469428Z"
    }
   },
   "outputs": [],
   "source": [
    "non_slum + 'tiles/'\n",
    "\n",
    "for name in os.listdir(non_slum):\n",
    "    if name.endswith('.png'):\n",
    "        \n",
    "        image_path = non_slum + name\n",
    "        \n",
    "        im = Image.open(image_path)\n",
    "        \n",
    "        im = ImageOps.fit(im, (3200, 1600))\n",
    "        \n",
    "        im.save(non_slum + 'scaled/' + name, format = 'PNG')\n",
    "        \n",
    "        "
   ]
  },
  {
   "cell_type": "code",
   "execution_count": 49,
   "metadata": {
    "ExecuteTime": {
     "end_time": "2020-02-12T19:26:14.710609Z",
     "start_time": "2020-02-12T19:25:47.241095Z"
    }
   },
   "outputs": [],
   "source": [
    "for i, name in enumerate(os.listdir(non_slum + 'scaled')):\n",
    "    \n",
    "    if name.endswith('.png'):\n",
    "        \n",
    "        image_path = non_slum + 'scaled/' + name\n",
    "        \n",
    "        im = Image.open(image_path)\n",
    "        \n",
    "        tiles = image_slicer.slice(image_path, num_slices, save=False, )\n",
    "                \n",
    "    \n",
    "        image_slicer.save_tiles(tiles, directory=(non_slum + 'tiles'),\\\n",
    "                            prefix=f'slice{i}', format='png')        "
   ]
  },
  {
   "cell_type": "markdown",
   "metadata": {},
   "source": [
    "# Slicing Up Slum Data"
   ]
  },
  {
   "cell_type": "code",
   "execution_count": 50,
   "metadata": {
    "ExecuteTime": {
     "end_time": "2020-02-12T19:26:30.812385Z",
     "start_time": "2020-02-12T19:26:14.712572Z"
    }
   },
   "outputs": [],
   "source": [
    "for name in os.listdir(slum):\n",
    "    if name.endswith('.png'):\n",
    "        \n",
    "        image_path = slum + name\n",
    "        \n",
    "        im = Image.open(image_path)\n",
    "        \n",
    "        im = ImageOps.fit(im, (3200, 1600))\n",
    "        \n",
    "        im.save(slum + 'scaled/' + name, format = 'PNG')"
   ]
  },
  {
   "cell_type": "code",
   "execution_count": 51,
   "metadata": {
    "ExecuteTime": {
     "end_time": "2020-02-12T19:26:49.118125Z",
     "start_time": "2020-02-12T19:26:30.814373Z"
    }
   },
   "outputs": [],
   "source": [
    "for i, name in enumerate(os.listdir(slum)):\n",
    "    \n",
    "    if name.endswith('.png'):\n",
    "        \n",
    "        image_path = slum + 'scaled/' + name\n",
    "        \n",
    "        im = Image.open(image_path)\n",
    "                \n",
    "        tiles = image_slicer.slice(image_path, num_slices, save=False, )\n",
    "   \n",
    "        \n",
    "        image_slicer.save_tiles(tiles, directory=(slum + 'tiles'),\\\n",
    "                            prefix=f'slice{i}', format='png')\n",
    "        "
   ]
  },
  {
   "cell_type": "code",
   "execution_count": null,
   "metadata": {},
   "outputs": [],
   "source": []
  }
 ],
 "metadata": {
  "kernelspec": {
   "display_name": "Python 3",
   "language": "python",
   "name": "python3"
  },
  "language_info": {
   "codemirror_mode": {
    "name": "ipython",
    "version": 3
   },
   "file_extension": ".py",
   "mimetype": "text/x-python",
   "name": "python",
   "nbconvert_exporter": "python",
   "pygments_lexer": "ipython3",
   "version": "3.7.6"
  }
 },
 "nbformat": 4,
 "nbformat_minor": 4
}
