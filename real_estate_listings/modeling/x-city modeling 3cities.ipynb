{
 "cells": [
  {
   "cell_type": "code",
   "execution_count": 33,
   "metadata": {},
   "outputs": [],
   "source": [
    "import numpy as np\n",
    "import pandas as pd\n",
    "import seaborn as sns\n",
    "import matplotlib.pyplot as plt\n",
    "sns.set()"
   ]
  },
  {
   "cell_type": "code",
   "execution_count": 34,
   "metadata": {},
   "outputs": [],
   "source": [
    "rio = pd.read_csv('../classifying/rio_normalized.csv')\n",
    "mumbai = pd.read_csv('../classifying/mumbai_normalized.csv')\n",
    "hyderabad = pd.read_csv('../classifying/hyderabad_normalized.csv')"
   ]
  },
  {
   "cell_type": "markdown",
   "metadata": {},
   "source": [
    "## Bootstrapping"
   ]
  },
  {
   "cell_type": "code",
   "execution_count": 35,
   "metadata": {},
   "outputs": [],
   "source": [
    "def bootstrap(df):\n",
    "    print(df.isna().sum().sum(), 'nans dropped')\n",
    "    df.dropna(inplace=True)\n",
    "    out = pd.concat([df, df[df['class'] == 1].sample(\n",
    "                     df['class'].value_counts()[0] - df['class'].value_counts()[1],\n",
    "                     replace = True)]).reset_index().drop(columns='index')\n",
    "    print(len(out)-len(df), 'rows added')\n",
    "    print('')\n",
    "    return out"
   ]
  },
  {
   "cell_type": "code",
   "execution_count": 36,
   "metadata": {},
   "outputs": [
    {
     "name": "stdout",
     "output_type": "stream",
     "text": [
      "2319 nans dropped\n",
      "5543 rows added\n",
      "\n",
      "53 nans dropped\n",
      "22426 rows added\n",
      "\n",
      "739 nans dropped\n",
      "1464 rows added\n",
      "\n"
     ]
    }
   ],
   "source": [
    "rio_boot = bootstrap(rio)\n",
    "mumbai_boot = bootstrap(mumbai)\n",
    "hyderabad_boot = bootstrap(hyderabad)"
   ]
  },
  {
   "cell_type": "markdown",
   "metadata": {},
   "source": [
    "## modeling"
   ]
  },
  {
   "cell_type": "code",
   "execution_count": 37,
   "metadata": {},
   "outputs": [],
   "source": [
    "from sklearn.ensemble import RandomForestClassifier\n",
    "from sklearn.model_selection import train_test_split"
   ]
  },
  {
   "cell_type": "code",
   "execution_count": 38,
   "metadata": {},
   "outputs": [],
   "source": [
    "def xcity_pred(train, test):\n",
    "    \n",
    "    \n",
    "    if train.equals(test):\n",
    "        x = train[['price']]\n",
    "        y = train['class']\n",
    "        x_train, x_test, y_train, y_test = train_test_split(x, y, )\n",
    "    else:\n",
    "        x_train = train[['price']]\n",
    "        y_train = train['class']\n",
    "        x_test = test[['price']]\n",
    "        y_test = test['class']\n",
    "        \n",
    "    \n",
    "    rf = RandomForestClassifier(n_estimators=10)\n",
    "    rf.fit(x_train, y_train)\n",
    "    print('train:', round(rf.score(x_train, y_train), 4), '| test:', round(rf.score(x_test, y_test),4))\n",
    "    "
   ]
  },
  {
   "cell_type": "code",
   "execution_count": 39,
   "metadata": {},
   "outputs": [
    {
     "name": "stdout",
     "output_type": "stream",
     "text": [
      "train: rio | test: rio\n",
      "train: 0.9568 | test: 0.9539\n",
      "\n",
      "train: rio | test: mumbai\n",
      "train: 0.9566 | test: 0.9502\n",
      "\n",
      "train: rio | test: hyderabad\n",
      "train: 0.9566 | test: 0.9666\n",
      "\n",
      "train: mumbai | test: rio\n",
      "train: 0.9647 | test: 0.9304\n",
      "\n",
      "train: mumbai | test: mumbai\n",
      "train: 0.9651 | test: 0.9589\n",
      "\n",
      "train: mumbai | test: hyderabad\n",
      "train: 0.9647 | test: 0.9512\n",
      "\n",
      "train: hyderabad | test: rio\n",
      "train: 0.9704 | test: 0.9559\n",
      "\n",
      "train: hyderabad | test: mumbai\n",
      "train: 0.9704 | test: 0.9623\n",
      "\n",
      "train: hyderabad | test: hyderabad\n",
      "train: 0.9683 | test: 0.9769\n",
      "\n"
     ]
    }
   ],
   "source": [
    "cities = {'rio': rio, 'mumbai': mumbai, 'hyderabad': hyderabad}\n",
    "\n",
    "for train_name, train_df in cities.items():\n",
    "    for test_name, test_df in cities.items():\n",
    "        print(f'train: {train_name} | test: {test_name}')\n",
    "        xcity_pred(train_df, test_df)\n",
    "        print('')"
   ]
  },
  {
   "cell_type": "code",
   "execution_count": null,
   "metadata": {},
   "outputs": [],
   "source": []
  },
  {
   "cell_type": "code",
   "execution_count": null,
   "metadata": {},
   "outputs": [],
   "source": []
  },
  {
   "cell_type": "code",
   "execution_count": null,
   "metadata": {},
   "outputs": [],
   "source": []
  }
 ],
 "metadata": {
  "kernelspec": {
   "display_name": "Python 3",
   "language": "python",
   "name": "python3"
  },
  "language_info": {
   "codemirror_mode": {
    "name": "ipython",
    "version": 3
   },
   "file_extension": ".py",
   "mimetype": "text/x-python",
   "name": "python",
   "nbconvert_exporter": "python",
   "pygments_lexer": "ipython3",
   "version": "3.7.5"
  }
 },
 "nbformat": 4,
 "nbformat_minor": 2
}
